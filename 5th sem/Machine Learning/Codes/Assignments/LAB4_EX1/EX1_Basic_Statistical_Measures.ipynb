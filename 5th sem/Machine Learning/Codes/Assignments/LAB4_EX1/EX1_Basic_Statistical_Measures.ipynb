{
 "cells": [
  {
   "cell_type": "markdown",
   "metadata": {
    "id": "uUDH0eN6Dmch"
   },
   "source": [
    "# **19CSE305:MACHINE LEARNING LAB 4**\n",
    "\n",
    "## Exploratory Data Analysis"
   ]
  },
  {
   "cell_type": "markdown",
   "metadata": {
    "id": "xD_-oDT4DkkJ"
   },
   "source": [
    "# Mean"
   ]
  },
  {
   "cell_type": "code",
   "execution_count": 6,
   "metadata": {
    "id": "7U0O7q3yDkkO"
   },
   "outputs": [],
   "source": [
    "import numpy as np\n",
    "import pandas as pd"
   ]
  },
  {
   "cell_type": "code",
   "execution_count": 9,
   "metadata": {
    "id": "FcCJltyRDkkQ"
   },
   "outputs": [],
   "source": [
    "sample_list = [1, 2, 2, 2, 4, 5, 6, 6, 6, 9, 10, 10, 10, 11, 14, 14, 15, 18, 19, 20]"
   ]
  },
  {
   "cell_type": "code",
   "execution_count": 3,
   "metadata": {
    "id": "SEWWtnuaDkkQ"
   },
   "outputs": [],
   "source": [
    "def cal_mean(data):\n",
    "    return sum(data)/(len(data))"
   ]
  },
  {
   "cell_type": "code",
   "execution_count": 4,
   "metadata": {
    "colab": {
     "base_uri": "https://localhost:8080/"
    },
    "id": "LwMRWLN-DkkT",
    "outputId": "035d8ecb-4584-45e7-ccfd-fb17b7596373"
   },
   "outputs": [
    {
     "data": {
      "text/plain": [
       "9.2"
      ]
     },
     "execution_count": 4,
     "metadata": {
      "tags": []
     },
     "output_type": "execute_result"
    }
   ],
   "source": [
    "cal_mean(sample_list)"
   ]
  },
  {
   "cell_type": "code",
   "execution_count": 5,
   "metadata": {
    "id": "3YEb7uO9DkkV"
   },
   "outputs": [],
   "source": [
    "my_np_list = np.asarray(sample_list)"
   ]
  },
  {
   "cell_type": "code",
   "execution_count": 6,
   "metadata": {
    "colab": {
     "base_uri": "https://localhost:8080/"
    },
    "id": "VtF6pooRDkkV",
    "outputId": "196f7118-d0b1-49d6-e580-2c41c3170106"
   },
   "outputs": [
    {
     "data": {
      "text/plain": [
       "9.2"
      ]
     },
     "execution_count": 6,
     "metadata": {
      "tags": []
     },
     "output_type": "execute_result"
    }
   ],
   "source": [
    "np.mean(my_np_list)"
   ]
  },
  {
   "cell_type": "markdown",
   "metadata": {
    "id": "D3MLFzE0DkkW"
   },
   "source": [
    "### How mean is affected by extreme points"
   ]
  },
  {
   "cell_type": "code",
   "execution_count": 10,
   "metadata": {
    "colab": {
     "base_uri": "https://localhost:8080/"
    },
    "id": "0ilYqrT3DkkX",
    "outputId": "49a39ded-6849-44de-f0a1-804b2b0dd471"
   },
   "outputs": [
    {
     "name": "stdout",
     "output_type": "stream",
     "text": [
      "New List: [1, 2, 2, 2, 4, 5, 6, 6, 6, 9, 10, 10, 10, 11, 14, 14, 15, 18, 19, 20, 100]\n"
     ]
    }
   ],
   "source": [
    "sample_list.append(100)\n",
    "print(\"New List:\",sample_list)"
   ]
  },
  {
   "cell_type": "code",
   "execution_count": 8,
   "metadata": {
    "colab": {
     "base_uri": "https://localhost:8080/"
    },
    "id": "fuBEo_EqDkkX",
    "outputId": "58bc7529-e62d-4516-edb4-814c627dc19f"
   },
   "outputs": [
    {
     "data": {
      "text/plain": [
       "13.523809523809524"
      ]
     },
     "execution_count": 8,
     "metadata": {
      "tags": []
     },
     "output_type": "execute_result"
    }
   ],
   "source": [
    "cal_mean(sample_list)"
   ]
  },
  {
   "cell_type": "markdown",
   "metadata": {
    "id": "ehHLnouLDkkY"
   },
   "source": [
    "# Median"
   ]
  },
  {
   "cell_type": "code",
   "execution_count": 11,
   "metadata": {
    "colab": {
     "base_uri": "https://localhost:8080/"
    },
    "id": "ux5GWAq5DkkY",
    "outputId": "2ecb0841-2619-48e3-9ef1-453e6f48bda4"
   },
   "outputs": [
    {
     "data": {
      "text/plain": [
       "10.0"
      ]
     },
     "execution_count": 11,
     "metadata": {},
     "output_type": "execute_result"
    }
   ],
   "source": [
    "np.median(sample_list)"
   ]
  },
  {
   "cell_type": "code",
   "execution_count": 10,
   "metadata": {
    "colab": {
     "base_uri": "https://localhost:8080/"
    },
    "id": "2zR6kEGRDkkZ",
    "outputId": "a6dd998f-66c4-45b4-ba62-5e76c65d1302"
   },
   "outputs": [
    {
     "data": {
      "text/plain": [
       "[1, 2, 2, 2, 4, 5, 6, 6, 6, 9, 10, 10, 10, 11, 14, 14, 15, 18, 19, 20, 100]"
      ]
     },
     "execution_count": 10,
     "metadata": {
      "tags": []
     },
     "output_type": "execute_result"
    }
   ],
   "source": [
    "sample_list"
   ]
  },
  {
   "cell_type": "code",
   "execution_count": 11,
   "metadata": {
    "colab": {
     "base_uri": "https://localhost:8080/"
    },
    "id": "Jexs6ueADkka",
    "outputId": "970cf27a-3515-4499-8d9e-628c1aee297d"
   },
   "outputs": [
    {
     "data": {
      "text/plain": [
       "9.5"
      ]
     },
     "execution_count": 11,
     "metadata": {
      "tags": []
     },
     "output_type": "execute_result"
    }
   ],
   "source": [
    "np.median(my_np_list)"
   ]
  },
  {
   "cell_type": "code",
   "execution_count": 12,
   "metadata": {
    "colab": {
     "base_uri": "https://localhost:8080/"
    },
    "id": "L7f0BjglDkka",
    "outputId": "03515dd1-c684-4417-f3f2-bf5e794f79fa"
   },
   "outputs": [
    {
     "data": {
      "text/plain": [
       "array([ 1,  2,  2,  2,  4,  5,  6,  6,  6,  9, 10, 10, 10, 11, 14, 14, 15,\n",
       "       18, 19, 20])"
      ]
     },
     "execution_count": 12,
     "metadata": {
      "tags": []
     },
     "output_type": "execute_result"
    }
   ],
   "source": [
    "my_np_list"
   ]
  },
  {
   "cell_type": "markdown",
   "metadata": {
    "id": "QU9XPgQFDkkb"
   },
   "source": [
    "# Mode"
   ]
  },
  {
   "cell_type": "code",
   "execution_count": 1,
   "metadata": {
    "id": "bRycSbTEDkkc"
   },
   "outputs": [],
   "source": [
    "from scipy.stats import mode"
   ]
  },
  {
   "cell_type": "code",
   "execution_count": 12,
   "metadata": {
    "colab": {
     "base_uri": "https://localhost:8080/"
    },
    "id": "CJcpTI_xDkkc",
    "outputId": "7056c54a-e928-415d-9a51-b5cc907d02d8"
   },
   "outputs": [
    {
     "data": {
      "text/plain": [
       "ModeResult(mode=array([2]), count=array([3]))"
      ]
     },
     "execution_count": 12,
     "metadata": {},
     "output_type": "execute_result"
    }
   ],
   "source": [
    "mode(sample_list)"
   ]
  },
  {
   "cell_type": "markdown",
   "metadata": {
    "id": "h-yIsY6aDkkc"
   },
   "source": [
    "## Can be used over non-numeric data"
   ]
  },
  {
   "cell_type": "code",
   "execution_count": 15,
   "metadata": {
    "id": "M-OUZ9RdDkkd"
   },
   "outputs": [],
   "source": [
    "my_list_str = ['a', 'b', 'c', 'a', 'b', 'b', 'c', 'a', 'a', 'b', 'd']"
   ]
  },
  {
   "cell_type": "code",
   "execution_count": 16,
   "metadata": {
    "colab": {
     "base_uri": "https://localhost:8080/"
    },
    "id": "7q4HoHYuDkkd",
    "outputId": "fed65bdc-24a0-4667-d018-8ca9dd1028db"
   },
   "outputs": [
    {
     "data": {
      "text/plain": [
       "ModeResult(mode=array(['a'], dtype='<U1'), count=array([4]))"
      ]
     },
     "execution_count": 16,
     "metadata": {
      "tags": []
     },
     "output_type": "execute_result"
    }
   ],
   "source": [
    "mode(my_list_str)"
   ]
  },
  {
   "cell_type": "markdown",
   "metadata": {
    "id": "hB4-Dmr_E6Mu"
   },
   "source": [
    "## Variannce and Standard Deviation"
   ]
  },
  {
   "cell_type": "code",
   "execution_count": 17,
   "metadata": {
    "id": "17TZcnMRDkke"
   },
   "outputs": [],
   "source": [
    "data=np.array([1, 2, 2, 2, 4, 5, 6, 6, 6, 9, 10, 10, 10, 11, 14, 14, 15, 18, 19, 20])"
   ]
  },
  {
   "cell_type": "markdown",
   "metadata": {
    "id": "qkAmyA4hFffk"
   },
   "source": [
    "**Create the data using np.asarray. Differntiate between np.array and np.asarray**"
   ]
  },
  {
   "cell_type": "code",
   "execution_count": 18,
   "metadata": {
    "colab": {
     "base_uri": "https://localhost:8080/"
    },
    "id": "OI82RpzJFKYU",
    "outputId": "4f005c2e-8bf8-429e-9236-2b4cf7a2ee49"
   },
   "outputs": [
    {
     "data": {
      "text/plain": [
       "33.66"
      ]
     },
     "execution_count": 18,
     "metadata": {
      "tags": []
     },
     "output_type": "execute_result"
    }
   ],
   "source": [
    "np.var(data)"
   ]
  },
  {
   "cell_type": "code",
   "execution_count": 19,
   "metadata": {
    "colab": {
     "base_uri": "https://localhost:8080/"
    },
    "id": "32ix4fnEFOK5",
    "outputId": "a3c6cc9b-0c46-4eee-de5b-4c97fe5cd983"
   },
   "outputs": [
    {
     "data": {
      "text/plain": [
       "5.801723881744114"
      ]
     },
     "execution_count": 19,
     "metadata": {
      "tags": []
     },
     "output_type": "execute_result"
    }
   ],
   "source": [
    "np.std(data)"
   ]
  },
  {
   "cell_type": "markdown",
   "metadata": {
    "id": "66BHCKj7GJnT"
   },
   "source": [
    "##  Visualizing Statistical Measures"
   ]
  },
  {
   "cell_type": "code",
   "execution_count": 19,
   "metadata": {
    "id": "MGrXdEuDFzyF"
   },
   "outputs": [],
   "source": [
    "import seaborn as sns\n",
    "import matplotlib.pyplot as plt"
   ]
  },
  {
   "cell_type": "code",
   "execution_count": 13,
   "metadata": {
    "colab": {
     "base_uri": "https://localhost:8080/"
    },
    "id": "FmvlhDg1GT7I",
    "outputId": "7dd02f51-5ecd-4fd3-bd33-f2434921ee8c"
   },
   "outputs": [
    {
     "name": "stdout",
     "output_type": "stream",
     "text": [
      "[53.29810962 51.60815524 45.36437284 ... 46.71709517 49.03829665\n",
      " 47.48757333]\n",
      "(3000,)\n"
     ]
    }
   ],
   "source": [
    "#Create random array of normal distribution\n",
    "x=np.random.normal(50,5,3000)\n",
    "print(x)\n",
    "print(x.shape)"
   ]
  },
  {
   "cell_type": "markdown",
   "metadata": {
    "id": "wVXSDzs0H8KU"
   },
   "source": [
    "## **Excercise 1**\n",
    "\n",
    "Find the maximum and minimum and calculate Max-**Min**"
   ]
  },
  {
   "cell_type": "code",
   "execution_count": 22,
   "metadata": {
    "colab": {
     "base_uri": "https://localhost:8080/"
    },
    "id": "DSUAOt2kGmSy",
    "outputId": "51838696-8f60-45be-ff19-397ab8dbd3a8"
   },
   "outputs": [
    {
     "name": "stdout",
     "output_type": "stream",
     "text": [
      "Max is: 66.06942260712654\n",
      "Min is: 29.732303103642707\n",
      "Max-Min is: 36.337119503483834\n"
     ]
    }
   ],
   "source": [
    "print(\"Max is:\",max(x))\n",
    "print(\"Min is:\",min(x))\n",
    "print(\"Max-Min is:\",max(x)-min(x))\n",
    "#Find the minimum\n",
    "#calculate MAx-Min"
   ]
  },
  {
   "cell_type": "markdown",
   "metadata": {
    "id": "TDRM73NMHN7f"
   },
   "source": [
    "### Frequency Histogram\n"
   ]
  },
  {
   "cell_type": "code",
   "execution_count": 23,
   "metadata": {
    "colab": {
     "base_uri": "https://localhost:8080/",
     "height": 296
    },
    "id": "8gL-hd2WG0BY",
    "outputId": "fee1312f-511c-418c-c24b-bc909fb11c6b"
   },
   "outputs": [
    {
     "data": {
      "text/plain": [
       "Text(0, 0.5, 'Frequency')"
      ]
     },
     "execution_count": 23,
     "metadata": {
      "tags": []
     },
     "output_type": "execute_result"
    },
    {
     "data": {
      "image/png": "[encoded data removed]",
      "text/plain": [
       "<Figure size 432x288 with 1 Axes>"
      ]
     },
     "metadata": {
      "needs_background": "light",
      "tags": []
     },
     "output_type": "display_data"
    }
   ],
   "source": [
    "#using Matplot lib\n",
    "plt.hist(x)\n",
    "plt.xlabel('Intervals')\n",
    "plt.ylabel('Frequency')"
   ]
  },
  {
   "cell_type": "markdown",
   "metadata": {
    "id": "9iQvXlTfISLg"
   },
   "source": [
    "## **Excercise 2**\n",
    "\n",
    "Plot the frequency histogram using Seaborn. For Seaborn documentation click[ here](https://seaborn.pydata.org/tutorial/distributions.html).\n",
    "\n",
    "\n",
    "\n",
    "*  Plot the histogram with bin size 5\n",
    "*  Plot the histogram with bin size 10\n",
    "*  Plot the histogram with bin size 15\n",
    "*  Plot the histogram with bin size 50\n",
    "*  Plot the histogram with bin size 30\n",
    "\n",
    "Write down your inferences\n",
    "\n",
    "\n",
    "\n"
   ]
  },
  {
   "cell_type": "code",
   "execution_count": 36,
   "metadata": {
    "colab": {
     "base_uri": "https://localhost:8080/",
     "height": 282
    },
    "id": "22bHGq1DBnVB",
    "outputId": "29d8ae60-8059-4b7c-be10-96b1320aa4be"
   },
   "outputs": [
    {
     "data": {
      "text/plain": [
       "<matplotlib.axes._subplots.AxesSubplot at 0x7ff3e6931710>"
      ]
     },
     "execution_count": 36,
     "metadata": {
      "tags": []
     },
     "output_type": "execute_result"
    },
    {
     "data": {
      "image/png": "[encoded data removed]",
      "text/plain": [
       "<Figure size 432x288 with 1 Axes>"
      ]
     },
     "metadata": {
      "needs_background": "light",
      "tags": []
     },
     "output_type": "display_data"
    }
   ],
   "source": [
    "sns.histplot(x,binwidth=5)"
   ]
  },
  {
   "cell_type": "code",
   "execution_count": 31,
   "metadata": {
    "colab": {
     "base_uri": "https://localhost:8080/",
     "height": 282
    },
    "id": "Euti76_wCmiu",
    "outputId": "4945d248-7cc2-4da8-d9f5-8e3a1418bf0d"
   },
   "outputs": [
    {
     "data": {
      "text/plain": [
       "<matplotlib.axes._subplots.AxesSubplot at 0x7ff3e6b29390>"
      ]
     },
     "execution_count": 31,
     "metadata": {
      "tags": []
     },
     "output_type": "execute_result"
    },
    {
     "data": {
      "image/png": "[encoded data removed]",
      "text/plain": [
       "<Figure size 432x288 with 1 Axes>"
      ]
     },
     "metadata": {
      "needs_background": "light",
      "tags": []
     },
     "output_type": "display_data"
    }
   ],
   "source": [
    "sns.histplot(x,binwidth=10)"
   ]
  },
  {
   "cell_type": "code",
   "execution_count": 30,
   "metadata": {
    "colab": {
     "base_uri": "https://localhost:8080/",
     "height": 282
    },
    "id": "Z5oc6K6-CrOG",
    "outputId": "98668658-dccd-45cb-8ac4-d3b68e8284c5"
   },
   "outputs": [
    {
     "data": {
      "text/plain": [
       "<matplotlib.axes._subplots.AxesSubplot at 0x7ff3e6bc24d0>"
      ]
     },
     "execution_count": 30,
     "metadata": {
      "tags": []
     },
     "output_type": "execute_result"
    },
    {
     "data": {
      "image/png": "[encoded data removed]",
      "text/plain": [
       "<Figure size 432x288 with 1 Axes>"
      ]
     },
     "metadata": {
      "needs_background": "light",
      "tags": []
     },
     "output_type": "display_data"
    }
   ],
   "source": [
    "sns.histplot(x,binwidth=15)"
   ]
  },
  {
   "cell_type": "code",
   "execution_count": 32,
   "metadata": {
    "colab": {
     "base_uri": "https://localhost:8080/",
     "height": 282
    },
    "id": "QE2EEK-sCyex",
    "outputId": "6a495dda-46af-4d41-e005-c874eec05889"
   },
   "outputs": [
    {
     "data": {
      "text/plain": [
       "<matplotlib.axes._subplots.AxesSubplot at 0x7ff3e6ab5150>"
      ]
     },
     "execution_count": 32,
     "metadata": {
      "tags": []
     },
     "output_type": "execute_result"
    },
    {
     "data": {
      "image/png": "[encoded data removed]",
      "text/plain": [
       "<Figure size 432x288 with 1 Axes>"
      ]
     },
     "metadata": {
      "needs_background": "light",
      "tags": []
     },
     "output_type": "display_data"
    }
   ],
   "source": [
    "sns.histplot(x,binwidth=50)"
   ]
  },
  {
   "cell_type": "code",
   "execution_count": 34,
   "metadata": {
    "colab": {
     "base_uri": "https://localhost:8080/",
     "height": 282
    },
    "id": "P_tSD-dGC5C4",
    "outputId": "ad86057a-14cb-4a8a-c6ba-9bc3e049e082"
   },
   "outputs": [
    {
     "data": {
      "text/plain": [
       "<matplotlib.axes._subplots.AxesSubplot at 0x7ff3e6a98610>"
      ]
     },
     "execution_count": 34,
     "metadata": {
      "tags": []
     },
     "output_type": "execute_result"
    },
    {
     "data": {
      "image/png": "[encoded data removed]",
      "text/plain": [
       "<Figure size 432x288 with 1 Axes>"
      ]
     },
     "metadata": {
      "needs_background": "light",
      "tags": []
     },
     "output_type": "display_data"
    }
   ],
   "source": [
    "sns.histplot(x,binwidth=30)"
   ]
  },
  {
   "cell_type": "markdown",
   "metadata": {
    "id": "b6jmTDxqJsVY"
   },
   "source": [
    "## Density Plot\n",
    "\n",
    "KDE(Kernal Density Estimation):A histogram aims to approximate the underlying probability density function that generated the data by binning and counting observations. Kernel density estimation (KDE) presents a different solution to the same problem. Rather than using discrete bins, a KDE plot smooths the observations with a Gaussian kernel, producing a continuous density estimate:"
   ]
  },
  {
   "cell_type": "code",
   "execution_count": 42,
   "metadata": {
    "colab": {
     "base_uri": "https://localhost:8080/",
     "height": 386
    },
    "id": "_Vw-1S_3HgLS",
    "outputId": "0de1e533-7ce8-4c66-cd85-c4a6d70bc1f5"
   },
   "outputs": [
    {
     "data": {
      "text/plain": [
       "<seaborn.axisgrid.FacetGrid at 0x7ff3e6b35c10>"
      ]
     },
     "execution_count": 42,
     "metadata": {
      "tags": []
     },
     "output_type": "execute_result"
    },
    {
     "data": {
      "image/png": "[encoded data removed]",
      "text/plain": [
       "<Figure size 360x360 with 1 Axes>"
      ]
     },
     "metadata": {
      "needs_background": "light",
      "tags": []
     },
     "output_type": "display_data"
    }
   ],
   "source": [
    "sns.displot(x,  kind=\"kde\")"
   ]
  },
  {
   "cell_type": "code",
   "execution_count": 47,
   "metadata": {
    "colab": {
     "base_uri": "https://localhost:8080/",
     "height": 386
    },
    "id": "uxff1A0EKE28",
    "outputId": "089a700d-88c2-48a9-8c19-e6a48ff2fb4c"
   },
   "outputs": [
    {
     "data": {
      "text/plain": [
       "Text(3.799999999999997, 0.5, 'Density')"
      ]
     },
     "execution_count": 47,
     "metadata": {
      "tags": []
     },
     "output_type": "execute_result"
    },
    {
     "data": {
      "image/png": "[encoded data removed]",
      "text/plain": [
       "<Figure size 360x360 with 1 Axes>"
      ]
     },
     "metadata": {
      "needs_background": "light",
      "tags": []
     },
     "output_type": "display_data"
    }
   ],
   "source": [
    "sns.displot(x,  kde='True',bins=10)\n",
    "plt.ylabel('Density')"
   ]
  },
  {
   "cell_type": "code",
   "execution_count": 56,
   "metadata": {
    "colab": {
     "base_uri": "https://localhost:8080/",
     "height": 318
    },
    "id": "EZ7HqX7dKlxw",
    "outputId": "36990fc8-6073-41b1-f58a-8d7834fac284"
   },
   "outputs": [
    {
     "name": "stderr",
     "output_type": "stream",
     "text": [
      "/usr/local/lib/python3.7/dist-packages/seaborn/distributions.py:2557: FutureWarning: `distplot` is a deprecated function and will be removed in a future version. Please adapt your code to use either `displot` (a figure-level function with similar flexibility) or `kdeplot` (an axes-level function for kernel density plots).\n",
      "  warnings.warn(msg, FutureWarning)\n"
     ]
    },
    {
     "data": {
      "image/png": "[encoded data removed]",
      "text/plain": [
       "<Figure size 432x288 with 1 Axes>"
      ]
     },
     "metadata": {
      "needs_background": "light",
      "tags": []
     },
     "output_type": "display_data"
    }
   ],
   "source": [
    "#Plotting mean and median\n",
    "plt.axvline(x.mean(), color='b', linestyle='--', linewidth=2)\n",
    "plt.axvline(np.median(x), color='r', linestyle='--', linewidth=2)\n",
    "sns.distplot(x, kde=True, bins=30, hist=False)\n",
    "plt.ylabel('Density')\n",
    "plt.show()"
   ]
  },
  {
   "cell_type": "code",
   "execution_count": 57,
   "metadata": {
    "colab": {
     "base_uri": "https://localhost:8080/"
    },
    "id": "LdRjjN61K348",
    "outputId": "324b0e3d-4124-46da-e9a4-38c15aa217c3"
   },
   "outputs": [
    {
     "name": "stdout",
     "output_type": "stream",
     "text": [
      "Mean:  49.935279394702754\n",
      "Median:  50.034925979384596\n"
     ]
    }
   ],
   "source": [
    "print(\"Mean: \", np.mean(x))\n",
    "print(\"Median: \", np.median(x))"
   ]
  },
  {
   "cell_type": "markdown",
   "metadata": {
    "id": "FZmYpuT-LtOC"
   },
   "source": [
    "## Quartiles"
   ]
  },
  {
   "cell_type": "code",
   "execution_count": 14,
   "metadata": {
    "colab": {
     "base_uri": "https://localhost:8080/"
    },
    "id": "ot0qa0TvLxod",
    "outputId": "a0cd62e7-7a23-4e64-a58d-651ded03c17e"
   },
   "outputs": [
    {
     "name": "stdout",
     "output_type": "stream",
     "text": [
      "[1, 2, 2, 2, 4, 5, 6, 6, 6, 9, 10, 10, 10, 11, 14, 14, 15, 18, 19, 20]\n"
     ]
    }
   ],
   "source": [
    "my_list = [1, 2, 2, 2, 4, 5, 6, 6, 6, 9, 10, 10, 10, 11, 14, 14, 15, 18, 19, 20]\n",
    "print(my_list)"
   ]
  },
  {
   "cell_type": "code",
   "execution_count": 15,
   "metadata": {
    "colab": {
     "base_uri": "https://localhost:8080/"
    },
    "id": "DCWra8-pL0LD",
    "outputId": "8e198df0-1e22-460d-9a34-20057ac271a6"
   },
   "outputs": [
    {
     "data": {
      "text/plain": [
       "2.0"
      ]
     },
     "execution_count": 15,
     "metadata": {},
     "output_type": "execute_result"
    }
   ],
   "source": [
    "np.percentile(my_list, 10)"
   ]
  },
  {
   "cell_type": "code",
   "execution_count": 16,
   "metadata": {
    "colab": {
     "base_uri": "https://localhost:8080/"
    },
    "id": "X8Fkpyv9L6c2",
    "outputId": "d9864557-9b0d-4c1f-f4cb-f0d730260b9d"
   },
   "outputs": [
    {
     "data": {
      "text/plain": [
       "10.35"
      ]
     },
     "execution_count": 16,
     "metadata": {},
     "output_type": "execute_result"
    }
   ],
   "source": [
    "np.percentile(my_list, 65)"
   ]
  },
  {
   "cell_type": "code",
   "execution_count": 17,
   "metadata": {
    "colab": {
     "base_uri": "https://localhost:8080/"
    },
    "id": "kUh3xgvLL9en",
    "outputId": "caa26936-a101-4c65-de3f-a3df417c1eaa"
   },
   "outputs": [
    {
     "data": {
      "text/plain": [
       "19.81"
      ]
     },
     "execution_count": 17,
     "metadata": {},
     "output_type": "execute_result"
    }
   ],
   "source": [
    "np.percentile(my_list, 99)"
   ]
  },
  {
   "cell_type": "code",
   "execution_count": 62,
   "metadata": {
    "colab": {
     "base_uri": "https://localhost:8080/"
    },
    "id": "VkjgNonGL_Wf",
    "outputId": "66d61159-60b0-418d-c27d-950494094b1a"
   },
   "outputs": [
    {
     "name": "stdout",
     "output_type": "stream",
     "text": [
      "Q1:  4.75\n",
      "Q2:  9.5\n",
      "Median: 9.5\n",
      "Q3:  14.0\n"
     ]
    }
   ],
   "source": [
    "Q1 = np.percentile(my_list,25)\n",
    "Q2 = np.percentile(my_list,50)\n",
    "Q3 = np.percentile(my_list,75)\n",
    "print(\"Q1: \",Q1)\n",
    "print(\"Q2: \",Q2)\n",
    "print(\"Median:\",np.median(my_list))\n",
    "print(\"Q3: \",Q3)\n"
   ]
  },
  {
   "cell_type": "code",
   "execution_count": 63,
   "metadata": {
    "colab": {
     "base_uri": "https://localhost:8080/"
    },
    "id": "bDyl8YvbMYkC",
    "outputId": "a38af2c9-0a50-4a71-c236-0fd72a1d1bef"
   },
   "outputs": [
    {
     "name": "stdout",
     "output_type": "stream",
     "text": [
      "Inter Quartile Range:  9.25\n"
     ]
    }
   ],
   "source": [
    "IQR=Q3-Q1\n",
    "print(\"Inter Quartile Range: \",IQR)"
   ]
  },
  {
   "cell_type": "markdown",
   "metadata": {
    "id": "G9Uh87t9LPlO"
   },
   "source": [
    "## Box Plots"
   ]
  },
  {
   "cell_type": "code",
   "execution_count": 20,
   "metadata": {
    "colab": {
     "base_uri": "https://localhost:8080/",
     "height": 282
    },
    "id": "OiGd8_RkK_je",
    "outputId": "462074f9-f054-4444-c900-40c4a6edb1d6"
   },
   "outputs": [
    {
     "data": {
      "text/plain": [
       "Text(0, 0.5, 'Data points')"
      ]
     },
     "execution_count": 20,
     "metadata": {},
     "output_type": "execute_result"
    },
    {
     "data": {
      "image/png": "[encoded data removed]",
      "text/plain": [
       "<Figure size 432x288 with 1 Axes>"
      ]
     },
     "metadata": {
      "needs_background": "light"
     },
     "output_type": "display_data"
    }
   ],
   "source": [
    "my_list = [1, 2, 2, 2, 4, 5, 6, 6, 6, 9, 10, 10, 10, 11, 14, 14, 15, 18,19, 20]\n",
    "\n",
    "# Convert the list to dataframe and add column name\n",
    "df = pd.DataFrame(my_list, columns=['Sample data'])\n",
    "\n",
    "# Plot using seaborm\n",
    "sns.boxplot(data=df)\n",
    "\n",
    "# Add ylabel\n",
    "plt.ylabel('Data points')"
   ]
  },
  {
   "cell_type": "code",
   "execution_count": 65,
   "metadata": {
    "colab": {
     "base_uri": "https://localhost:8080/"
    },
    "id": "wZdy3GAWLj4S",
    "outputId": "a53b49cb-86d0-4a7b-b852-7c5016ca0bd0"
   },
   "outputs": [
    {
     "data": {
      "text/plain": [
       "array([ 4.75,  9.5 , 14.  ])"
      ]
     },
     "execution_count": 65,
     "metadata": {
      "tags": []
     },
     "output_type": "execute_result"
    }
   ],
   "source": [
    "np.percentile(my_list, [25, 50, 75])"
   ]
  },
  {
   "cell_type": "markdown",
   "metadata": {
    "id": "BWgik3RBO9-2"
   },
   "source": [
    "### **Using IQR to identify outliers**"
   ]
  },
  {
   "cell_type": "code",
   "execution_count": 21,
   "metadata": {
    "id": "kYsLau6RPA6E"
   },
   "outputs": [],
   "source": [
    "dummy_age = [20, 21, 24, 24, 28, 26, 19, 22, 26, 24, 21,\n",
    "            19, 22, 28, 29, 6, 100, 25, 25, 28, 31]\n",
    "dummy_height = [150, 151, 155, 153, 280, 160, 158, 157, 158, 145, 150,\n",
    "               155, 155, 151, 152, 153, 160, 152, 157, 157, 160, 153]\n",
    "dummy_df = pd.DataFrame(list(zip(dummy_age, dummy_height)),\n",
    "                        columns =['Age', 'Height(cm)'])"
   ]
  },
  {
   "cell_type": "code",
   "execution_count": 67,
   "metadata": {
    "colab": {
     "base_uri": "https://localhost:8080/",
     "height": 696
    },
    "id": "u873aReuPHmL",
    "outputId": "cb3177f0-d4b8-4fc5-9538-489fdc3daa56"
   },
   "outputs": [
    {
     "data": {
      "text/html": [
       "<div>\n",
       "<style scoped>\n",
       "    .dataframe tbody tr th:only-of-type {\n",
       "        vertical-align: middle;\n",
       "    }\n",
       "\n",
       "    .dataframe tbody tr th {\n",
       "        vertical-align: top;\n",
       "    }\n",
       "\n",
       "    .dataframe thead th {\n",
       "        text-align: right;\n",
       "    }\n",
       "</style>\n",
       "<table border=\"1\" class=\"dataframe\">\n",
       "  <thead>\n",
       "    <tr style=\"text-align: right;\">\n",
       "      <th></th>\n",
       "      <th>Age</th>\n",
       "      <th>Height(cm)</th>\n",
       "    </tr>\n",
       "  </thead>\n",
       "  <tbody>\n",
       "    <tr>\n",
       "      <th>0</th>\n",
       "      <td>20</td>\n",
       "      <td>150</td>\n",
       "    </tr>\n",
       "    <tr>\n",
       "      <th>1</th>\n",
       "      <td>21</td>\n",
       "      <td>151</td>\n",
       "    </tr>\n",
       "    <tr>\n",
       "      <th>2</th>\n",
       "      <td>24</td>\n",
       "      <td>155</td>\n",
       "    </tr>\n",
       "    <tr>\n",
       "      <th>3</th>\n",
       "      <td>24</td>\n",
       "      <td>153</td>\n",
       "    </tr>\n",
       "    <tr>\n",
       "      <th>4</th>\n",
       "      <td>28</td>\n",
       "      <td>280</td>\n",
       "    </tr>\n",
       "    <tr>\n",
       "      <th>5</th>\n",
       "      <td>26</td>\n",
       "      <td>160</td>\n",
       "    </tr>\n",
       "    <tr>\n",
       "      <th>6</th>\n",
       "      <td>19</td>\n",
       "      <td>158</td>\n",
       "    </tr>\n",
       "    <tr>\n",
       "      <th>7</th>\n",
       "      <td>22</td>\n",
       "      <td>157</td>\n",
       "    </tr>\n",
       "    <tr>\n",
       "      <th>8</th>\n",
       "      <td>26</td>\n",
       "      <td>158</td>\n",
       "    </tr>\n",
       "    <tr>\n",
       "      <th>9</th>\n",
       "      <td>24</td>\n",
       "      <td>145</td>\n",
       "    </tr>\n",
       "    <tr>\n",
       "      <th>10</th>\n",
       "      <td>21</td>\n",
       "      <td>150</td>\n",
       "    </tr>\n",
       "    <tr>\n",
       "      <th>11</th>\n",
       "      <td>19</td>\n",
       "      <td>155</td>\n",
       "    </tr>\n",
       "    <tr>\n",
       "      <th>12</th>\n",
       "      <td>22</td>\n",
       "      <td>155</td>\n",
       "    </tr>\n",
       "    <tr>\n",
       "      <th>13</th>\n",
       "      <td>28</td>\n",
       "      <td>151</td>\n",
       "    </tr>\n",
       "    <tr>\n",
       "      <th>14</th>\n",
       "      <td>29</td>\n",
       "      <td>152</td>\n",
       "    </tr>\n",
       "    <tr>\n",
       "      <th>15</th>\n",
       "      <td>6</td>\n",
       "      <td>153</td>\n",
       "    </tr>\n",
       "    <tr>\n",
       "      <th>16</th>\n",
       "      <td>100</td>\n",
       "      <td>160</td>\n",
       "    </tr>\n",
       "    <tr>\n",
       "      <th>17</th>\n",
       "      <td>25</td>\n",
       "      <td>152</td>\n",
       "    </tr>\n",
       "    <tr>\n",
       "      <th>18</th>\n",
       "      <td>25</td>\n",
       "      <td>157</td>\n",
       "    </tr>\n",
       "    <tr>\n",
       "      <th>19</th>\n",
       "      <td>28</td>\n",
       "      <td>157</td>\n",
       "    </tr>\n",
       "    <tr>\n",
       "      <th>20</th>\n",
       "      <td>31</td>\n",
       "      <td>160</td>\n",
       "    </tr>\n",
       "  </tbody>\n",
       "</table>\n",
       "</div>"
      ],
      "text/plain": [
       "    Age  Height(cm)\n",
       "0    20         150\n",
       "1    21         151\n",
       "2    24         155\n",
       "3    24         153\n",
       "4    28         280\n",
       "5    26         160\n",
       "6    19         158\n",
       "7    22         157\n",
       "8    26         158\n",
       "9    24         145\n",
       "10   21         150\n",
       "11   19         155\n",
       "12   22         155\n",
       "13   28         151\n",
       "14   29         152\n",
       "15    6         153\n",
       "16  100         160\n",
       "17   25         152\n",
       "18   25         157\n",
       "19   28         157\n",
       "20   31         160"
      ]
     },
     "execution_count": 67,
     "metadata": {
      "tags": []
     },
     "output_type": "execute_result"
    }
   ],
   "source": [
    "\n",
    "dummy_df"
   ]
  },
  {
   "cell_type": "code",
   "execution_count": 22,
   "metadata": {
    "id": "DiwQyWjtPIJH"
   },
   "outputs": [],
   "source": [
    "def get_lower_upper_bound(my_data):\n",
    "    # Get first and third quartile\n",
    "    q1 = np.percentile(my_data, 25)\n",
    "    q3 = np.percentile(my_data, 75)\n",
    "    \n",
    "    # Calculate Interquartile range\n",
    "    iqr = q3 - q1\n",
    "    \n",
    "    # Compute lower and upper bound\n",
    "    lower_bound = q1 - (iqr * 1.5)\n",
    "    upper_bound = q3 + (iqr * 1.5)\n",
    "    \n",
    "    return lower_bound, upper_bound"
   ]
  },
  {
   "cell_type": "code",
   "execution_count": 23,
   "metadata": {
    "id": "_83UbHB-POQm"
   },
   "outputs": [],
   "source": [
    "def get_outliers_iqr(my_data):\n",
    "    lower_bound, upper_bound = get_lower_upper_bound(my_data)\n",
    "    # Filter data less than lower bound and more than upper bound\n",
    "    return my_data[np.where((my_data > upper_bound) |\n",
    "                            (my_data < lower_bound))]"
   ]
  },
  {
   "cell_type": "code",
   "execution_count": 24,
   "metadata": {
    "colab": {
     "base_uri": "https://localhost:8080/"
    },
    "id": "BbifhK_nPQiS",
    "outputId": "42e0774b-4b15-43a6-9af9-acbeb9a7ee44"
   },
   "outputs": [
    {
     "data": {
      "text/plain": [
       "array([  6, 100], dtype=int64)"
      ]
     },
     "execution_count": 24,
     "metadata": {},
     "output_type": "execute_result"
    }
   ],
   "source": [
    "\n",
    "get_outliers_iqr(dummy_df['Age'].values)"
   ]
  },
  {
   "cell_type": "code",
   "execution_count": 25,
   "metadata": {
    "colab": {
     "base_uri": "https://localhost:8080/"
    },
    "id": "S_MomuKUPSfy",
    "outputId": "ae46b877-0b7e-4f6a-9d57-528cb542fc32"
   },
   "outputs": [
    {
     "data": {
      "text/plain": [
       "array([280], dtype=int64)"
      ]
     },
     "execution_count": 25,
     "metadata": {},
     "output_type": "execute_result"
    }
   ],
   "source": [
    "get_outliers_iqr(dummy_df['Height(cm)'].values)"
   ]
  },
  {
   "cell_type": "code",
   "execution_count": 26,
   "metadata": {
    "colab": {
     "base_uri": "https://localhost:8080/",
     "height": 282
    },
    "id": "uu4sPmXGPUSz",
    "outputId": "940efb64-d4e9-42fb-dc1e-c7873fc108db"
   },
   "outputs": [
    {
     "data": {
      "text/plain": [
       "<AxesSubplot:>"
      ]
     },
     "execution_count": 26,
     "metadata": {},
     "output_type": "execute_result"
    },
    {
     "data": {
      "image/png": "[encoded data removed]",
      "text/plain": [
       "<Figure size 432x288 with 1 Axes>"
      ]
     },
     "metadata": {
      "needs_background": "light"
     },
     "output_type": "display_data"
    }
   ],
   "source": [
    "dummy_df.boxplot(column=['Age'])"
   ]
  },
  {
   "cell_type": "code",
   "execution_count": 27,
   "metadata": {
    "colab": {
     "base_uri": "https://localhost:8080/",
     "height": 282
    },
    "id": "grtyVvCRPWS8",
    "outputId": "edd45e23-5863-49b9-b557-640c3775ce8f"
   },
   "outputs": [
    {
     "data": {
      "text/plain": [
       "<AxesSubplot:>"
      ]
     },
     "execution_count": 27,
     "metadata": {},
     "output_type": "execute_result"
    },
    {
     "data": {
      "image/png": "[encoded data removed]",
      "text/plain": [
       "<Figure size 432x288 with 1 Axes>"
      ]
     },
     "metadata": {
      "needs_background": "light"
     },
     "output_type": "display_data"
    }
   ],
   "source": [
    "dummy_df.boxplot(column=['Height(cm)'])"
   ]
  },
  {
   "cell_type": "markdown",
   "metadata": {
    "id": "IIVK3IS0HnMi"
   },
   "source": [
    "### **Find the Outliers using Z score**\n",
    "\n",
    "[Click here](https://www.statisticshowto.com/probability-and-statistics/z-score/) to read about What is Z score??\n",
    "\n",
    "[Click here ](https://medium.com/clarusway/z-score-and-how-its-used-to-determine-an-outlier-642110f3b482)to read about outlier detection using Z score"
   ]
  },
  {
   "cell_type": "code",
   "execution_count": 28,
   "metadata": {
    "colab": {
     "base_uri": "https://localhost:8080/",
     "height": 282
    },
    "id": "p1qegfHYPaUL",
    "outputId": "5646976f-c3a0-4fd0-c957-01d29efad92d"
   },
   "outputs": [
    {
     "data": {
      "text/plain": [
       "<AxesSubplot:ylabel='Count'>"
      ]
     },
     "execution_count": 28,
     "metadata": {},
     "output_type": "execute_result"
    },
    {
     "data": {
      "image/png": "[encoded data removed]",
      "text/plain": [
       "<Figure size 432x288 with 1 Axes>"
      ]
     },
     "metadata": {
      "needs_background": "light"
     },
     "output_type": "display_data"
    }
   ],
   "source": [
    "sns.histplot(x)"
   ]
  },
  {
   "cell_type": "code",
   "execution_count": 29,
   "metadata": {
    "id": "8VqprotsJAjW"
   },
   "outputs": [],
   "source": [
    "x[30] = 20\n",
    "x[90] = 150"
   ]
  },
  {
   "cell_type": "code",
   "execution_count": 30,
   "metadata": {
    "colab": {
     "base_uri": "https://localhost:8080/",
     "height": 282
    },
    "id": "f0K_Vt3vK_Zy",
    "outputId": "f5412a90-d1df-4277-d496-5153ec0e3d3d"
   },
   "outputs": [
    {
     "data": {
      "text/plain": [
       "<AxesSubplot:ylabel='Count'>"
      ]
     },
     "execution_count": 30,
     "metadata": {},
     "output_type": "execute_result"
    },
    {
     "data": {
      "image/png": "[encoded data removed]",
      "text/plain": [
       "<Figure size 432x288 with 1 Axes>"
      ]
     },
     "metadata": {
      "needs_background": "light"
     },
     "output_type": "display_data"
    }
   ],
   "source": [
    "sns.histplot(x)"
   ]
  },
  {
   "cell_type": "code",
   "execution_count": 31,
   "metadata": {
    "colab": {
     "base_uri": "https://localhost:8080/",
     "height": 203
    },
    "id": "eliUr6HBLs_o",
    "outputId": "a2da18f4-0c04-43df-b505-6bb2cd854474"
   },
   "outputs": [
    {
     "data": {
      "text/html": [
       "<div>\n",
       "<style scoped>\n",
       "    .dataframe tbody tr th:only-of-type {\n",
       "        vertical-align: middle;\n",
       "    }\n",
       "\n",
       "    .dataframe tbody tr th {\n",
       "        vertical-align: top;\n",
       "    }\n",
       "\n",
       "    .dataframe thead th {\n",
       "        text-align: right;\n",
       "    }\n",
       "</style>\n",
       "<table border=\"1\" class=\"dataframe\">\n",
       "  <thead>\n",
       "    <tr style=\"text-align: right;\">\n",
       "      <th></th>\n",
       "      <th>Data</th>\n",
       "    </tr>\n",
       "  </thead>\n",
       "  <tbody>\n",
       "    <tr>\n",
       "      <th>0</th>\n",
       "      <td>53.298110</td>\n",
       "    </tr>\n",
       "    <tr>\n",
       "      <th>1</th>\n",
       "      <td>51.608155</td>\n",
       "    </tr>\n",
       "    <tr>\n",
       "      <th>2</th>\n",
       "      <td>45.364373</td>\n",
       "    </tr>\n",
       "    <tr>\n",
       "      <th>3</th>\n",
       "      <td>42.886433</td>\n",
       "    </tr>\n",
       "    <tr>\n",
       "      <th>4</th>\n",
       "      <td>53.701045</td>\n",
       "    </tr>\n",
       "  </tbody>\n",
       "</table>\n",
       "</div>"
      ],
      "text/plain": [
       "        Data\n",
       "0  53.298110\n",
       "1  51.608155\n",
       "2  45.364373\n",
       "3  42.886433\n",
       "4  53.701045"
      ]
     },
     "execution_count": 31,
     "metadata": {},
     "output_type": "execute_result"
    }
   ],
   "source": [
    "df = pd.DataFrame(x,columns=['Data'])\n",
    "df.head(5)"
   ]
  },
  {
   "cell_type": "code",
   "execution_count": 32,
   "metadata": {
    "colab": {
     "base_uri": "https://localhost:8080/",
     "height": 203
    },
    "id": "ktjH_0-dMedt",
    "outputId": "738faf0d-4ece-40bf-b992-f3d10ae77954"
   },
   "outputs": [
    {
     "data": {
      "text/html": [
       "<div>\n",
       "<style scoped>\n",
       "    .dataframe tbody tr th:only-of-type {\n",
       "        vertical-align: middle;\n",
       "    }\n",
       "\n",
       "    .dataframe tbody tr th {\n",
       "        vertical-align: top;\n",
       "    }\n",
       "\n",
       "    .dataframe thead th {\n",
       "        text-align: right;\n",
       "    }\n",
       "</style>\n",
       "<table border=\"1\" class=\"dataframe\">\n",
       "  <thead>\n",
       "    <tr style=\"text-align: right;\">\n",
       "      <th></th>\n",
       "      <th>Data</th>\n",
       "      <th>Data_zscore</th>\n",
       "    </tr>\n",
       "  </thead>\n",
       "  <tbody>\n",
       "    <tr>\n",
       "      <th>0</th>\n",
       "      <td>53.298110</td>\n",
       "      <td>0.637631</td>\n",
       "    </tr>\n",
       "    <tr>\n",
       "      <th>1</th>\n",
       "      <td>51.608155</td>\n",
       "      <td>0.316967</td>\n",
       "    </tr>\n",
       "    <tr>\n",
       "      <th>2</th>\n",
       "      <td>45.364373</td>\n",
       "      <td>-0.867775</td>\n",
       "    </tr>\n",
       "    <tr>\n",
       "      <th>3</th>\n",
       "      <td>42.886433</td>\n",
       "      <td>-1.337958</td>\n",
       "    </tr>\n",
       "    <tr>\n",
       "      <th>4</th>\n",
       "      <td>53.701045</td>\n",
       "      <td>0.714087</td>\n",
       "    </tr>\n",
       "  </tbody>\n",
       "</table>\n",
       "</div>"
      ],
      "text/plain": [
       "        Data  Data_zscore\n",
       "0  53.298110     0.637631\n",
       "1  51.608155     0.316967\n",
       "2  45.364373    -0.867775\n",
       "3  42.886433    -1.337958\n",
       "4  53.701045     0.714087"
      ]
     },
     "execution_count": 32,
     "metadata": {},
     "output_type": "execute_result"
    }
   ],
   "source": [
    "for col in df.columns:\n",
    "  col_zscore = col + '_zscore'\n",
    "  df[col_zscore] = (df[col] - df[col].mean())/df[col].std(ddof=0)\n",
    "df.head()"
   ]
  },
  {
   "cell_type": "code",
   "execution_count": 33,
   "metadata": {
    "id": "9HrtL9RSMx8b"
   },
   "outputs": [],
   "source": [
    "df['outlier'] = (abs(df['Data_zscore'])>3).astype(int)"
   ]
  },
  {
   "cell_type": "code",
   "execution_count": 34,
   "metadata": {
    "colab": {
     "base_uri": "https://localhost:8080/",
     "height": 203
    },
    "id": "hAVarxv-NBp3",
    "outputId": "1ba821ee-0ed3-48c7-ff34-24697795bade"
   },
   "outputs": [
    {
     "data": {
      "text/html": [
       "<div>\n",
       "<style scoped>\n",
       "    .dataframe tbody tr th:only-of-type {\n",
       "        vertical-align: middle;\n",
       "    }\n",
       "\n",
       "    .dataframe tbody tr th {\n",
       "        vertical-align: top;\n",
       "    }\n",
       "\n",
       "    .dataframe thead th {\n",
       "        text-align: right;\n",
       "    }\n",
       "</style>\n",
       "<table border=\"1\" class=\"dataframe\">\n",
       "  <thead>\n",
       "    <tr style=\"text-align: right;\">\n",
       "      <th></th>\n",
       "      <th>Data</th>\n",
       "      <th>Data_zscore</th>\n",
       "      <th>outlier</th>\n",
       "    </tr>\n",
       "  </thead>\n",
       "  <tbody>\n",
       "    <tr>\n",
       "      <th>2995</th>\n",
       "      <td>45.120453</td>\n",
       "      <td>-0.914058</td>\n",
       "      <td>0</td>\n",
       "    </tr>\n",
       "    <tr>\n",
       "      <th>2996</th>\n",
       "      <td>45.591590</td>\n",
       "      <td>-0.824661</td>\n",
       "      <td>0</td>\n",
       "    </tr>\n",
       "    <tr>\n",
       "      <th>2997</th>\n",
       "      <td>46.717095</td>\n",
       "      <td>-0.611099</td>\n",
       "      <td>0</td>\n",
       "    </tr>\n",
       "    <tr>\n",
       "      <th>2998</th>\n",
       "      <td>49.038297</td>\n",
       "      <td>-0.170657</td>\n",
       "      <td>0</td>\n",
       "    </tr>\n",
       "    <tr>\n",
       "      <th>2999</th>\n",
       "      <td>47.487573</td>\n",
       "      <td>-0.464903</td>\n",
       "      <td>0</td>\n",
       "    </tr>\n",
       "  </tbody>\n",
       "</table>\n",
       "</div>"
      ],
      "text/plain": [
       "           Data  Data_zscore  outlier\n",
       "2995  45.120453    -0.914058        0\n",
       "2996  45.591590    -0.824661        0\n",
       "2997  46.717095    -0.611099        0\n",
       "2998  49.038297    -0.170657        0\n",
       "2999  47.487573    -0.464903        0"
      ]
     },
     "execution_count": 34,
     "metadata": {},
     "output_type": "execute_result"
    }
   ],
   "source": [
    "df.tail()"
   ]
  },
  {
   "cell_type": "code",
   "execution_count": 35,
   "metadata": {
    "colab": {
     "base_uri": "https://localhost:8080/",
     "height": 234
    },
    "id": "JTUGLsU2NFDU",
    "outputId": "b22dc801-205a-4931-e831-b2284a36dd9c"
   },
   "outputs": [
    {
     "data": {
      "text/html": [
       "<div>\n",
       "<style scoped>\n",
       "    .dataframe tbody tr th:only-of-type {\n",
       "        vertical-align: middle;\n",
       "    }\n",
       "\n",
       "    .dataframe tbody tr th {\n",
       "        vertical-align: top;\n",
       "    }\n",
       "\n",
       "    .dataframe thead th {\n",
       "        text-align: right;\n",
       "    }\n",
       "</style>\n",
       "<table border=\"1\" class=\"dataframe\">\n",
       "  <thead>\n",
       "    <tr style=\"text-align: right;\">\n",
       "      <th></th>\n",
       "      <th>Data</th>\n",
       "      <th>Data_zscore</th>\n",
       "      <th>outlier</th>\n",
       "    </tr>\n",
       "  </thead>\n",
       "  <tbody>\n",
       "    <tr>\n",
       "      <th>30</th>\n",
       "      <td>20.000000</td>\n",
       "      <td>-5.680599</td>\n",
       "      <td>1</td>\n",
       "    </tr>\n",
       "    <tr>\n",
       "      <th>90</th>\n",
       "      <td>150.000000</td>\n",
       "      <td>18.986566</td>\n",
       "      <td>1</td>\n",
       "    </tr>\n",
       "    <tr>\n",
       "      <th>160</th>\n",
       "      <td>32.474761</td>\n",
       "      <td>-3.313546</td>\n",
       "      <td>1</td>\n",
       "    </tr>\n",
       "    <tr>\n",
       "      <th>733</th>\n",
       "      <td>32.743868</td>\n",
       "      <td>-3.262483</td>\n",
       "      <td>1</td>\n",
       "    </tr>\n",
       "    <tr>\n",
       "      <th>2100</th>\n",
       "      <td>32.334835</td>\n",
       "      <td>-3.340096</td>\n",
       "      <td>1</td>\n",
       "    </tr>\n",
       "  </tbody>\n",
       "</table>\n",
       "</div>"
      ],
      "text/plain": [
       "            Data  Data_zscore  outlier\n",
       "30     20.000000    -5.680599        1\n",
       "90    150.000000    18.986566        1\n",
       "160    32.474761    -3.313546        1\n",
       "733    32.743868    -3.262483        1\n",
       "2100   32.334835    -3.340096        1"
      ]
     },
     "execution_count": 35,
     "metadata": {},
     "output_type": "execute_result"
    }
   ],
   "source": [
    "df.loc[df.outlier == 1]"
   ]
  },
  {
   "cell_type": "code",
   "execution_count": 36,
   "metadata": {
    "colab": {
     "base_uri": "https://localhost:8080/"
    },
    "id": "sTYxm93pNMep",
    "outputId": "9a946580-d2f3-4b13-81c8-0192aec644aa"
   },
   "outputs": [
    {
     "data": {
      "text/plain": [
       "0    2995\n",
       "1       5\n",
       "Name: outlier, dtype: int64"
      ]
     },
     "execution_count": 36,
     "metadata": {},
     "output_type": "execute_result"
    }
   ],
   "source": [
    "df.outlier.value_counts()"
   ]
  },
  {
   "cell_type": "code",
   "execution_count": 37,
   "metadata": {
    "colab": {
     "base_uri": "https://localhost:8080/"
    },
    "id": "jJjj3NhwNXiT",
    "outputId": "da08de03-cedc-44ad-9a80-8efb0d9f3c2c"
   },
   "outputs": [
    {
     "name": "stdout",
     "output_type": "stream",
     "text": [
      "Number of outliers = 5\n"
     ]
    }
   ],
   "source": [
    "print('Number of outliers = '+ str(df.outlier.value_counts()[1]))"
   ]
  },
  {
   "cell_type": "code",
   "execution_count": null,
   "metadata": {
    "id": "Rn6BFuSSNlwN"
   },
   "outputs": [],
   "source": []
  }
 ],
 "metadata": {
  "colab": {
   "collapsed_sections": [],
   "name": "EX1_Basic Statistical Measures.ipynb",
   "provenance": []
  },
  "kernelspec": {
   "display_name": "Python 3",
   "language": "python",
   "name": "python3"
  },
  "language_info": {
   "codemirror_mode": {
    "name": "ipython",
    "version": 3
   },
   "file_extension": ".py",
   "mimetype": "text/x-python",
   "name": "python",
   "nbconvert_exporter": "python",
   "pygments_lexer": "ipython3",
   "version": "3.8.8"
  }
 },
 "nbformat": 4,
 "nbformat_minor": 1
}
