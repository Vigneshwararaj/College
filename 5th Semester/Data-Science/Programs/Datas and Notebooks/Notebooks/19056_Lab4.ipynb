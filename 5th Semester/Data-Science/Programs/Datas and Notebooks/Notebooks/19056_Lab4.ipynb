{
  "cells": [
    {
      "cell_type": "markdown",
      "metadata": {
        "id": "WjXq5Da04hC9"
      },
      "source": [
        "## Import *all* necessary libraries here"
      ]
    },
    {
      "cell_type": "code",
      "execution_count": 8,
      "metadata": {
        "id": "FiPLK8JC4hDB"
      },
      "outputs": [],
      "source": [
        "import numpy as np\n",
        "import math\n",
        "import scipy.stats as st"
      ]
    },
    {
      "cell_type": "markdown",
      "metadata": {
        "id": "lC7AJg0M4hDC"
      },
      "source": [
        "## Question 1 : Warming and Ice Melt \n",
        "The average depth of the Hudson Bay is 305 feet. Climatologists were interested in seeing if warming and ice melt were affecting the water level. Fifty-five measurements over a period of randomly selected weeks yielded a\n",
        "sample mean of 306.2 feet. The population variance is known to be 3.6. Can it be concluded at the 0.05 level of significance that the average depth has increased? Is there evidence of what caused this to happen?\n"
      ]
    },
    {
      "cell_type": "code",
      "execution_count": 3,
      "metadata": {
        "id": "FheFzbkD4hDC"
      },
      "outputs": [],
      "source": [
        "import math\n",
        "import numpy as np\n",
        "import pandas as pd\n",
        "\n",
        "def q1():\n",
        "    #List your hypothesis in the comment below\n",
        "    # H0 = ; Ha \n",
        "    \n",
        "    #Initial variable here\n",
        "    n = 55\n",
        "    xbar = 306.2\n",
        "    mu = 305\n",
        "    sigma = 3.6 ** 0.5\n",
        "    alpha = 0.05\n",
        "    \n",
        "    #Fill in your code here\n",
        "    z = 4.71\n",
        "    z_critical = 1.65\n",
        "    \n",
        "    if(z < z_critical): #Add your condition check\n",
        "        rejection = False \n",
        "    else:\n",
        "        rejection = True\n",
        "        \n",
        "    return rejection, z, z_critical"
      ]
    },
    {
      "cell_type": "code",
      "execution_count": 4,
      "metadata": {
        "colab": {
          "base_uri": "https://localhost:8080/"
        },
        "id": "OLTqmck787Tc",
        "outputId": "816c5f50-c121-4f3b-93b6-522be95fc711"
      },
      "outputs": [
        {
          "data": {
            "text/plain": [
              "(True, 4.71, 1.65)"
            ]
          },
          "execution_count": 4,
          "metadata": {},
          "output_type": "execute_result"
        }
      ],
      "source": [
        "q1()"
      ]
    },
    {
      "cell_type": "markdown",
      "metadata": {
        "id": "amxwirJZ4hDD"
      },
      "source": [
        "## Question 2 : Stopping Distances \n",
        "A study found that the average stopping distance of a school bus traveling 50 miles per hour was 264 feet. A group of automotive engineers decided to conduct a study of its school buses and found that for 20 randomly selected buses, the average stopping distance of buses traveling 50 miles per hour was 262.3 feet. The standard deviation of the population was 3 feet. Test the claim that the average stopping distance of the company’s buses is actually\n",
        "less than 264 feet. Find the P-value. On the basis of the P-value, should the null hypothesis be rejected\n",
        "at α = 0.01? Assume that the variable is normally distributed.\n"
      ]
    },
    {
      "cell_type": "code",
      "execution_count": 13,
      "metadata": {
        "id": "W4UuML-04hDE"
      },
      "outputs": [],
      "source": [
        "def q2():\n",
        "    #List your hypothesis in the comment below\n",
        "    #Initial variable here\n",
        "    n = 20\n",
        "    xbar = 262.3\n",
        "    mu = 264\n",
        "    sigma = 3\n",
        "    alpha = 0.01\n",
        "    \n",
        "    #Fill in your code here\n",
        "    z = (xbar-mu)/(sigma/math.sqrt(n))\n",
        "    p = 0.0057\n",
        "     #Add your condition check\n",
        "    if p < alpha:\n",
        "      rejection = True\n",
        "    else:\n",
        "      rejection = False\n",
        "    return rejection, round(z, 2), round(p, 2)"
      ]
    },
    {
      "cell_type": "code",
      "execution_count": 14,
      "metadata": {},
      "outputs": [
        {
          "data": {
            "text/plain": [
              "(True, -2.53, 0.01)"
            ]
          },
          "execution_count": 14,
          "metadata": {},
          "output_type": "execute_result"
        }
      ],
      "source": [
        "q2()"
      ]
    },
    {
      "cell_type": "markdown",
      "metadata": {
        "id": "8EymLJhi4hDE"
      },
      "source": [
        "## Question 3 : Television Viewing by Teens\n",
        "Teens are reported to watch the fewest total hours of television per week of all the demographic groups. The average television viewing for teens on Sunday from 1:00 to 7:00 p.m. is 58 minutes. A random sample of local teens disclosed the following times (given as the list viz 'data') for Sunday afternoon television viewing. At α = 0.01, can it be concluded that the average is greater than the national viewing time? (Note: Change all times to minutes.)"
      ]
    },
    {
      "cell_type": "code",
      "execution_count": 5,
      "metadata": {
        "id": "Gtxk1OxV4hDF"
      },
      "outputs": [],
      "source": [
        "data = [\"2:30\", \"1:00\", \"1:30\", \"2:00\", \"2:15\", \"2:30\", \"1:30\", \"1:50\", \"3:20\", \"2:10\"]"
      ]
    },
    {
      "cell_type": "code",
      "execution_count": 7,
      "metadata": {
        "id": "mHPyouay4hDG"
      },
      "outputs": [],
      "source": [
        "def q3():\n",
        "    #List your hypothesis in the comment below\n",
        "    d = [150,60,90,120,135,150,90,110,200,130]\n",
        "    d = np.array(d)\n",
        "    #Initial variables here\n",
        "    n = 10\n",
        "    xbar = d.mean()\n",
        "    mu = 58\n",
        "    sigma = round(d.std(),2)\n",
        "    alpha = 0.01\n",
        "    \n",
        "    #Fill in your code here\n",
        "    t = (xbar-mu)/(sigma/np.sqrt(n))\n",
        "    t_critical = 2.821\n",
        "    \n",
        "    if t>=t_critical:\n",
        "      rejection=True\n",
        "    else:\n",
        "      rejection=False\n",
        "    \n",
        "    #Add your condition check\n",
        "   \n",
        "    return rejection, round(t, 2), round(t_critical, 2)"
      ]
    },
    {
      "cell_type": "code",
      "execution_count": 12,
      "metadata": {
        "colab": {
          "base_uri": "https://localhost:8080/"
        },
        "id": "VJCGgl3W-CsE",
        "outputId": "ecf4288f-d7a3-4f5a-b9a4-0bb4ffacc748"
      },
      "outputs": [
        {
          "data": {
            "text/plain": [
              "(True, 5.55, 2.82)"
            ]
          },
          "execution_count": 12,
          "metadata": {},
          "output_type": "execute_result"
        }
      ],
      "source": [
        "q3()"
      ]
    },
    {
      "cell_type": "markdown",
      "metadata": {
        "id": "_Z808GY_4hDG"
      },
      "source": [
        "## Question 4 : Doctor Visits \n",
        "A report by the Gallup Poll stated that on average a woman visits her physician 5.8 times a year. A researcher randomly selects 20 women and obtained these data (list viz 'data' given below). At α = 0.05, can it be concluded that the average is still 5.8 visits per year? Use the P-value method."
      ]
    },
    {
      "cell_type": "code",
      "execution_count": 17,
      "metadata": {
        "id": "7y-_YJ0k4hDH"
      },
      "outputs": [],
      "source": [
        "data = [3, 8, 2, 0, 1, 5, 3, 6, 7, 4, 2, 2, 4, 3, 6, 4, 6, 1]"
      ]
    },
    {
      "cell_type": "code",
      "execution_count": 18,
      "metadata": {
        "id": "EmjE7Ryv4hDH"
      },
      "outputs": [],
      "source": [
        "def q4():\n",
        "    #List your hypothesis in the comment below\n",
        "\n",
        "#Initial variables here\n",
        "    data = pd.Series([3, 8, 2, 0, 1, 5, 3, 6, 7, 4, 2, 2, 4, 3, 6, 4, 6, 1, 9, 1])\n",
        "    sums=0\n",
        "    for i in data:\n",
        "      sums=sums+i\n",
        "    n = 20\n",
        "    #deg = \n",
        "    xbar = sums/n\n",
        "    mu = 5.8\n",
        "    sigma = data.std()\n",
        "    alpha = 0.05\n",
        "\n",
        "    #Fill in your code here\n",
        "    denom=sigma/math.sqrt(n)\n",
        "    t=(xbar-mu)/denom\n",
        "    p=0.00054\n",
        "    #Add your condition check\n",
        "    if p<alpha:\n",
        "      rejection=True\n",
        "    else:\n",
        "      rejection=False\n",
        "    return rejection, round(t, 2), round(p, 2)"
      ]
    },
    {
      "cell_type": "code",
      "execution_count": 20,
      "metadata": {
        "colab": {
          "base_uri": "https://localhost:8080/"
        },
        "id": "2fIYhUvT-jT7",
        "outputId": "13e705de-6c19-430d-f041-f15de9616915"
      },
      "outputs": [
        {
          "data": {
            "text/plain": [
              "(True, -3.46, 0.0)"
            ]
          },
          "execution_count": 20,
          "metadata": {},
          "output_type": "execute_result"
        }
      ],
      "source": [
        "q4()"
      ]
    },
    {
      "cell_type": "markdown",
      "metadata": {
        "id": "VNnC6At_4hDI"
      },
      "source": [
        "## Question 5 : Age of Psychologists \n",
        "Test the claim that the standard deviation of the ages of psychologists in Pennsylvania is 8.6 at α = 0.05. A random sample of 12 psychologists had a standard deviation of 9.3."
      ]
    },
    {
      "cell_type": "code",
      "execution_count": 9,
      "metadata": {
        "id": "leh31f9V4hDI"
      },
      "outputs": [],
      "source": [
        "def q5():\n",
        "    #List your hypothesis in the comment below\n",
        "    # H0: sigma=8.6 ; Ha: sigma!=8.6\n",
        "\n",
        "    #Initial variables here\n",
        "    n = 12\n",
        "    degrees_of_freedom = 11\n",
        "    s = 9.3\n",
        "    sigma = 8.6\n",
        "    alpha = .05\n",
        "\n",
        "    #Fill in your code here\n",
        "    chi_square = round((n-1)*(s*s)/(sigma*sigma),2)\n",
        "    chi_square_critical_right = round(st.chi2.ppf(alpha/2,degrees_of_freedom),2)\n",
        "    chi_square_critical_left = round(st.chi2.ppf(1-(alpha/2),degrees_of_freedom),2)\n",
        "\n",
        "    if(chi_square<chi_square_critical_left or chi_square>chi_square_critical_right): #Add your condition check\n",
        "        rejection = False \n",
        "    else:\n",
        "        rejection = True\n",
        "\n",
        "    return rejection, chi_square, chi_square_critical_right,chi_square_critical_left"
      ]
    },
    {
      "cell_type": "code",
      "execution_count": 10,
      "metadata": {},
      "outputs": [
        {
          "data": {
            "text/plain": [
              "(False, 12.86, 3.82, 21.92)"
            ]
          },
          "execution_count": 10,
          "metadata": {},
          "output_type": "execute_result"
        }
      ],
      "source": [
        "q5()"
      ]
    },
    {
      "cell_type": "markdown",
      "metadata": {
        "id": "UjzxD2oQ4hDJ"
      },
      "source": [
        "## Question 6 : Transferring Phone Calls\n",
        "The manager of a large company claims that the standard deviation of the time (in minutes) that it takes a telephone call to be transferred to the correct office in her company is 1.2 minutes or less. A random sample of 15 calls is selected, and the calls are timed. The standard deviation of the sample is 1.8 minutes. At α = 0.01, test the claim that the standard deviation is less than or equal to 1.2 minutes. Use the P-value method.\n"
      ]
    },
    {
      "cell_type": "code",
      "execution_count": 11,
      "metadata": {
        "id": "WvqbxV9L4hDJ"
      },
      "outputs": [],
      "source": [
        "def q6():\n",
        "    #List your hypothesis in the comment below\n",
        "    # H0 :sd=1.2minutes  ; Ha: sd<1.2minutes\n",
        "\n",
        "    #Initial variables here\n",
        "    n = 15\n",
        "    degrees_of_freedom = 14\n",
        "    s = 1.8\n",
        "    sigma = 1.2\n",
        "    alpha = .01\n",
        "\n",
        "    #Fill in your code here\n",
        "    chi_square = round(((n-1)*(s))/sigma*2, 2)\n",
        "    p = round(st.chi2.cdf(chi_square, degrees_of_freedom), 2)\n",
        "\n",
        "    if( p > alpha): #Add your condition check\n",
        "        rejection = False \n",
        "    else:\n",
        "        rejection = True\n",
        "\n",
        "    return rejection, chi_square, p"
      ]
    },
    {
      "cell_type": "code",
      "execution_count": 12,
      "metadata": {},
      "outputs": [
        {
          "data": {
            "text/plain": [
              "(False, 42.0, 1.0)"
            ]
          },
          "execution_count": 12,
          "metadata": {},
          "output_type": "execute_result"
        }
      ],
      "source": [
        "q6()"
      ]
    }
  ],
  "metadata": {
    "colab": {
      "name": "Hypothesis Testing Evaluation.ipynb",
      "provenance": []
    },
    "kernelspec": {
      "display_name": "Python 3",
      "language": "python",
      "name": "python3"
    },
    "language_info": {
      "codemirror_mode": {
        "name": "ipython",
        "version": 3
      },
      "file_extension": ".py",
      "mimetype": "text/x-python",
      "name": "python",
      "nbconvert_exporter": "python",
      "pygments_lexer": "ipython3",
      "version": "3.8.8"
    }
  },
  "nbformat": 4,
  "nbformat_minor": 0
}
