{
 "cells": [
  {
   "cell_type": "markdown",
   "metadata": {
    "id": "vg3ioKqvpQ3O"
   },
   "source": [
    "# **19CSE305: MACHINE LEARNING LAB 2**\n",
    "\n",
    "PYTHON BASICS : EXCERCISES"
   ]
  },
  {
   "cell_type": "markdown",
   "metadata": {
    "id": "burmJnBypUxF"
   },
   "source": [
    "ROLL NUMBER: CB.EN.U4CSE19056"
   ]
  },
  {
   "cell_type": "code",
   "execution_count": null,
   "metadata": {
    "id": "hrgW4a0CJs34"
   },
   "outputs": [],
   "source": [
    "PYTHON BASIC EXCERSISE\n",
    "\n",
    "1)Get two positive integers start and end from the user and write a Python program to print all Prime numbers in that Interval.\n",
    "2) Given a list of strings( Entered by the user), write program to get a percentage share of each word in the strings list.\n",
    "percentage := (Occurrence of a word / Total words) * 100\n",
    "3)Check if  given number is Fibonacci number or not. Given an integer ‘n’( Entered by the user), write a Python function that returns true if n  is Fibonacci number else return false.\n",
    "4)Write a program to check if all digits of a number divide it. Given a number n( Entered by the user), find whether all digits of n divide it or not.\n",
    "5)Get a given array as input from the user and split it from a specified position, and move the first part of array add to the end.\n",
    "example:\n",
    "Input : {1, 2, 3, 4, 5}, k = 3\n",
    "Output :{4,5,1,2,3}\n",
    "\n",
    "\n",
    "NUMPY BASIC EXCERSISE\n",
    "\n",
    "1) Create a 2D array of shape 4x5 that contains random decimal numbers between 3 and 10.\n",
    "2) Create a randomly created 1D array and Convert it to a 2D array with 2 rows.\n",
    "3) Given a NumPy array of temperature values, convert the values of Fahrenheit degrees into Centigrade degrees. \n",
    "4) Write a NumPy program to count the number of dimensions, number of elements and number of bytes for each element in a given array.\n",
    "5) Write a NumPy program to extract third and fourth elements of the second and third rows from a given (3x4) array.\n",
    "\n"
   ]
  },
  {
   "cell_type": "markdown",
   "metadata": {},
   "source": [
    "# NUMPY BASIC EXERCISE"
   ]
  },
  {
   "cell_type": "code",
   "execution_count": 4,
   "metadata": {},
   "outputs": [
    {
     "name": "stdout",
     "output_type": "stream",
     "text": [
      "[[3.54555619 9.30318703 8.79702214 6.21433425 7.27407144]\n",
      " [7.40041073 6.51809613 4.49310132 3.7095533  8.23374772]\n",
      " [7.30840871 6.09928186 9.03832393 5.06071489 4.18882958]\n",
      " [8.27269297 9.17615817 7.81015275 9.20476512 8.18226516]]\n"
     ]
    }
   ],
   "source": [
    "#1)\n",
    "import numpy as np\n",
    "rand_arr = np.random.uniform(3,10, size=(4,5))\n",
    "print(rand_arr)"
   ]
  },
  {
   "cell_type": "code",
   "execution_count": 7,
   "metadata": {},
   "outputs": [
    {
     "name": "stdout",
     "output_type": "stream",
     "text": [
      "[[1 2 3 4]\n",
      " [5 6 7 8]]\n"
     ]
    }
   ],
   "source": [
    "#2)\n",
    "arr=np.array([1,2,3,4,5,6,7,8])\n",
    "print(arr.reshape(2,4))"
   ]
  },
  {
   "cell_type": "code",
   "execution_count": 14,
   "metadata": {},
   "outputs": [
    {
     "name": "stdout",
     "output_type": "stream",
     "text": [
      "[ 20 -15  -6  10  37]\n"
     ]
    }
   ],
   "source": [
    "#3\n",
    "ftemp=np.array([69,4,20,50,100])\n",
    "\n",
    "for i in range(len(ftemp)):\n",
    "    ftemp[i]=((ftemp[i]-32)*5)/9  \n",
    "    \n",
    "print(ftemp)   "
   ]
  },
  {
   "cell_type": "code",
   "execution_count": 21,
   "metadata": {},
   "outputs": [
    {
     "name": "stdout",
     "output_type": "stream",
     "text": [
      "1\n",
      "5\n",
      "4\n"
     ]
    }
   ],
   "source": [
    "#4\n",
    "print(ftemp.ndim)\n",
    "print(ftemp.size)\n",
    "print(ftemp.itemsize)"
   ]
  },
  {
   "cell_type": "code",
   "execution_count": 30,
   "metadata": {},
   "outputs": [
    {
     "name": "stdout",
     "output_type": "stream",
     "text": [
      "(3, 4)\n",
      "[[0 1]\n",
      " [2 1]]\n"
     ]
    }
   ],
   "source": [
    "#5\n",
    "a=np.array([[4,4,2,1],[4,2,0,1],[6,9,2,1]])\n",
    "print(a.shape)\n",
    "print(a[1:,2:])"
   ]
  },
  {
   "cell_type": "markdown",
   "metadata": {},
   "source": [
    "# Python Basic"
   ]
  },
  {
   "cell_type": "code",
   "execution_count": 33,
   "metadata": {},
   "outputs": [
    {
     "name": "stdout",
     "output_type": "stream",
     "text": [
      "2\n",
      "100\n",
      "2\n",
      "3\n",
      "5\n",
      "7\n",
      "11\n",
      "13\n",
      "17\n",
      "19\n",
      "23\n",
      "29\n",
      "31\n",
      "37\n",
      "41\n",
      "43\n",
      "47\n",
      "53\n",
      "59\n",
      "61\n",
      "67\n",
      "71\n",
      "73\n",
      "79\n",
      "83\n",
      "89\n",
      "97\n"
     ]
    }
   ],
   "source": [
    "\n",
    "#1\n",
    "a = int(input())  \n",
    "b = int(input())  \n",
    "  \n",
    "for num in range(a,b + 1):  \n",
    "   if num > 1:  \n",
    "       for i in range(2,num):  \n",
    "           if (num % i) == 0:  \n",
    "               break  \n",
    "       else:  \n",
    "           print(num)  \n",
    "    "
   ]
  },
  {
   "cell_type": "code",
   "execution_count": 36,
   "metadata": {},
   "outputs": [
    {
     "name": "stdout",
     "output_type": "stream",
     "text": [
      "8\n",
      "True\n"
     ]
    }
   ],
   "source": [
    "#3\n",
    "import math\n",
    " \n",
    "def isPerfectSquare(x):\n",
    "    s = int(math.sqrt(x))\n",
    "    return s*s == x\n",
    " \n",
    "def isFibonacci(n):\n",
    " \n",
    "    return isPerfectSquare(5*n*n + 4) or isPerfectSquare(5*n*n - 4)\n",
    "    \n",
    "a=int(input())\n",
    "print(isFibonacci(a))"
   ]
  },
  {
   "cell_type": "code",
   "execution_count": 37,
   "metadata": {},
   "outputs": [
    {
     "name": "stdout",
     "output_type": "stream",
     "text": [
      "128\n",
      "Yes\n"
     ]
    }
   ],
   "source": [
    "#4\n",
    "def checkDivisibility(n, digit) :\n",
    "    \n",
    "    return (digit != 0 and n % digit == 0)\n",
    "\n",
    "def allDigitsDivide( n) :\n",
    "     \n",
    "    temp = n\n",
    "    while (temp > 0) :\n",
    "         \n",
    "        \n",
    "        digit = temp % 10\n",
    "        if ((checkDivisibility(n, digit)) == False) :\n",
    "            return False\n",
    " \n",
    "        temp = temp // 10\n",
    "     \n",
    "    return True\n",
    " \n",
    "\n",
    "n=int(input())\n",
    " \n",
    "if (allDigitsDivide(n)) :\n",
    "    print(\"Yes\")\n",
    "else :\n",
    "    print(\"No\" )\n",
    "     "
   ]
  },
  {
   "cell_type": "code",
   "execution_count": null,
   "metadata": {},
   "outputs": [],
   "source": []
  }
 ],
 "metadata": {
  "colab": {
   "collapsed_sections": [],
   "name": "ML_LAB1_SET_2.ipynb",
   "provenance": []
  },
  "kernelspec": {
   "display_name": "Python 3",
   "language": "python",
   "name": "python3"
  },
  "language_info": {
   "codemirror_mode": {
    "name": "ipython",
    "version": 3
   },
   "file_extension": ".py",
   "mimetype": "text/x-python",
   "name": "python",
   "nbconvert_exporter": "python",
   "pygments_lexer": "ipython3",
   "version": "3.8.10"
  }
 },
 "nbformat": 4,
 "nbformat_minor": 1
}
