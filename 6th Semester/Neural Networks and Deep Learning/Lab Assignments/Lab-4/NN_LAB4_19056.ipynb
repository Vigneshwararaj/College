{
 "cells": [
  {
   "cell_type": "markdown",
   "metadata": {},
   "source": [
    "# Notebook by Suryanarayan.B (CB.EN.U4CSE19056)"
   ]
  },
  {
   "cell_type": "markdown",
   "metadata": {},
   "source": [
    "## Question 1\n",
    "\n",
    "#### 1) MLP Model"
   ]
  },
  {
   "cell_type": "code",
   "execution_count": 9,
   "metadata": {},
   "outputs": [],
   "source": [
    "import pandas as pd\n",
    "import numpy as np\n",
    "import random\n",
    "import matplotlib.pyplot as plt\n",
    "import tensorflow as tf\n",
    "from tensorflow.keras import datasets, layers, models\n",
    "from tensorflow.keras.utils import to_categorical"
   ]
  },
  {
   "cell_type": "code",
   "execution_count": 10,
   "metadata": {},
   "outputs": [],
   "source": [
    "(X_train, Y_train), (X_test, Y_test) = datasets.mnist.load_data()"
   ]
  },
  {
   "cell_type": "code",
   "execution_count": 11,
   "metadata": {},
   "outputs": [
    {
     "data": {
      "text/plain": [
       "(60000, 28, 28)"
      ]
     },
     "execution_count": 11,
     "metadata": {},
     "output_type": "execute_result"
    }
   ],
   "source": [
    "X_train.shape"
   ]
  },
  {
   "cell_type": "code",
   "execution_count": 12,
   "metadata": {},
   "outputs": [
    {
     "data": {
      "text/plain": [
       "(10000, 28, 28)"
      ]
     },
     "execution_count": 12,
     "metadata": {},
     "output_type": "execute_result"
    }
   ],
   "source": [
    "X_test.shape"
   ]
  },
  {
   "cell_type": "code",
   "execution_count": 13,
   "metadata": {},
   "outputs": [
    {
     "data": {
      "text/plain": [
       "(60000,)"
      ]
     },
     "execution_count": 13,
     "metadata": {},
     "output_type": "execute_result"
    }
   ],
   "source": [
    "Y_train.shape"
   ]
  },
  {
   "cell_type": "code",
   "execution_count": 14,
   "metadata": {},
   "outputs": [
    {
     "data": {
      "text/plain": [
       "(10000,)"
      ]
     },
     "execution_count": 14,
     "metadata": {},
     "output_type": "execute_result"
    }
   ],
   "source": [
    "Y_test.shape"
   ]
  },
  {
   "cell_type": "code",
   "execution_count": 15,
   "metadata": {},
   "outputs": [
    {
     "data": {
      "image/png": "[encoded data removed]",
      "text/plain": [
       "<Figure size 432x288 with 1 Axes>"
      ]
     },
     "metadata": {
      "needs_background": "light"
     },
     "output_type": "display_data"
    },
    {
     "data": {
      "image/png": "[encoded data removed]",
      "text/plain": [
       "<Figure size 432x288 with 1 Axes>"
      ]
     },
     "metadata": {
      "needs_background": "light"
     },
     "output_type": "display_data"
    },
    {
     "data": {
      "image/png": "[encoded data removed]",
      "text/plain": [
       "<Figure size 432x288 with 1 Axes>"
      ]
     },
     "metadata": {
      "needs_background": "light"
     },
     "output_type": "display_data"
    },
    {
     "data": {
      "image/png": "[encoded data removed]",
      "text/plain": [
       "<Figure size 432x288 with 1 Axes>"
      ]
     },
     "metadata": {
      "needs_background": "light"
     },
     "output_type": "display_data"
    },
    {
     "data": {
      "image/png": "[encoded data removed]",
      "text/plain": [
       "<Figure size 432x288 with 1 Axes>"
      ]
     },
     "metadata": {
      "needs_background": "light"
     },
     "output_type": "display_data"
    }
   ],
   "source": [
    "for i in range(5):\n",
    "    plt.imshow(X_train[i])\n",
    "    plt.title(Y_train[i])\n",
    "    plt.show()"
   ]
  },
  {
   "cell_type": "markdown",
   "metadata": {},
   "source": [
    "## Printing the shape"
   ]
  },
  {
   "cell_type": "code",
   "execution_count": 16,
   "metadata": {},
   "outputs": [
    {
     "name": "stdout",
     "output_type": "stream",
     "text": [
      "(28, 28)\n",
      "(60000, 28, 28)\n"
     ]
    }
   ],
   "source": [
    "print(X_train[0].shape)\n",
    "print(X_train.shape)"
   ]
  },
  {
   "cell_type": "markdown",
   "metadata": {},
   "source": [
    "## Reshaping the data"
   ]
  },
  {
   "cell_type": "code",
   "execution_count": 17,
   "metadata": {},
   "outputs": [],
   "source": [
    "X_train=X_train.reshape(X_train.shape[0],-1)"
   ]
  },
  {
   "cell_type": "code",
   "execution_count": 18,
   "metadata": {},
   "outputs": [],
   "source": [
    "X_test=X_test.reshape(X_test.shape[0],-1)"
   ]
  },
  {
   "cell_type": "markdown",
   "metadata": {},
   "source": [
    "## One hot encoding"
   ]
  },
  {
   "cell_type": "code",
   "execution_count": 19,
   "metadata": {},
   "outputs": [],
   "source": [
    "Y_train=to_categorical(Y_train)"
   ]
  },
  {
   "cell_type": "code",
   "execution_count": 20,
   "metadata": {},
   "outputs": [
    {
     "data": {
      "text/plain": [
       "array([[0., 0., 0., ..., 0., 0., 0.],\n",
       "       [1., 0., 0., ..., 0., 0., 0.],\n",
       "       [0., 0., 0., ..., 0., 0., 0.],\n",
       "       ...,\n",
       "       [0., 0., 0., ..., 0., 0., 0.],\n",
       "       [0., 0., 0., ..., 0., 0., 0.],\n",
       "       [0., 0., 0., ..., 0., 1., 0.]], dtype=float32)"
      ]
     },
     "execution_count": 20,
     "metadata": {},
     "output_type": "execute_result"
    }
   ],
   "source": [
    "Y_train"
   ]
  },
  {
   "cell_type": "code",
   "execution_count": 21,
   "metadata": {},
   "outputs": [],
   "source": [
    "Y_test=to_categorical(Y_test)"
   ]
  },
  {
   "cell_type": "code",
   "execution_count": 22,
   "metadata": {},
   "outputs": [
    {
     "data": {
      "text/plain": [
       "array([[0., 0., 0., ..., 1., 0., 0.],\n",
       "       [0., 0., 1., ..., 0., 0., 0.],\n",
       "       [0., 1., 0., ..., 0., 0., 0.],\n",
       "       ...,\n",
       "       [0., 0., 0., ..., 0., 0., 0.],\n",
       "       [0., 0., 0., ..., 0., 0., 0.],\n",
       "       [0., 0., 0., ..., 0., 0., 0.]], dtype=float32)"
      ]
     },
     "execution_count": 22,
     "metadata": {},
     "output_type": "execute_result"
    }
   ],
   "source": [
    "Y_test"
   ]
  },
  {
   "cell_type": "markdown",
   "metadata": {},
   "source": [
    "## Printing Shapes of train and test"
   ]
  },
  {
   "cell_type": "code",
   "execution_count": 23,
   "metadata": {},
   "outputs": [
    {
     "name": "stdout",
     "output_type": "stream",
     "text": [
      "(60000, 784) (10000, 784) (60000, 10) (10000, 10)\n"
     ]
    }
   ],
   "source": [
    "print(X_train.shape,X_test.shape,Y_train.shape,Y_test.shape)"
   ]
  },
  {
   "cell_type": "code",
   "execution_count": 24,
   "metadata": {},
   "outputs": [],
   "source": [
    "from tensorflow.keras.models import Sequential\n",
    "from tensorflow.keras.layers import Flatten\n",
    "from tensorflow.keras.layers import Dense\n",
    "from tensorflow.keras.layers import Activation\n",
    "from tensorflow.keras.layers import GlobalAveragePooling1D\n",
    "from tensorflow.keras.layers import BatchNormalization,Dropout\n",
    "from tensorflow.keras import optimizers"
   ]
  },
  {
   "cell_type": "markdown",
   "metadata": {},
   "source": [
    "### Here we use 3 hidden layers with 50 neurons and 4 batch normal function after each dense layer and 4 Dropout function after each activation layer.\n",
    "\n",
    "### Here the optimizer used is adam , kernel_initializer is he_normal and activation function is sigmoid"
   ]
  },
  {
   "cell_type": "code",
   "execution_count": 25,
   "metadata": {},
   "outputs": [],
   "source": [
    "def in_model(initializer='he_normal'):\n",
    "    model=Sequential()\n",
    "    model.add(Dense(50, input_shape = (784,),kernel_initializer=initializer))\n",
    "    model.add(BatchNormalization())\n",
    "    model.add(Activation('sigmoid'))\n",
    "    model.add(Dropout(0.2))\n",
    "    model.add(Dense(50,kernel_initializer=initializer))\n",
    "    model.add(BatchNormalization())\n",
    "    model.add(Activation('sigmoid'))\n",
    "    model.add(Dropout(0.2))\n",
    "    model.add(Dense(50,kernel_initializer=initializer))\n",
    "    model.add(BatchNormalization())\n",
    "    model.add(Activation('sigmoid'))\n",
    "    model.add(Dropout(0.2))\n",
    "    model.add(Dense(50,kernel_initializer=initializer))\n",
    "    model.add(BatchNormalization())\n",
    "    model.add(Activation('sigmoid'))\n",
    "    model.add(Dropout(0.2))\n",
    "    model.add(Dense(10,kernel_initializer=initializer))\n",
    "    model.add(Activation('softmax'))\n",
    "\n",
    "    ad = optimizers.Adam(learning_rate = 0.001)\n",
    "    model.compile(optimizer = ad, loss = \"categorical_crossentropy\", metrics = ['accuracy'])\n",
    "    return model\n"
   ]
  },
  {
   "cell_type": "code",
   "execution_count": 26,
   "metadata": {},
   "outputs": [],
   "source": [
    "model=in_model()\n"
   ]
  },
  {
   "cell_type": "code",
   "execution_count": 27,
   "metadata": {},
   "outputs": [
    {
     "name": "stdout",
     "output_type": "stream",
     "text": [
      "Model: \"sequential\"\n",
      "_________________________________________________________________\n",
      "Layer (type)                 Output Shape              Param #   \n",
      "=================================================================\n",
      "dense (Dense)                (None, 50)                39250     \n",
      "_________________________________________________________________\n",
      "batch_normalization (BatchNo (None, 50)                200       \n",
      "_________________________________________________________________\n",
      "activation (Activation)      (None, 50)                0         \n",
      "_________________________________________________________________\n",
      "dropout (Dropout)            (None, 50)                0         \n",
      "_________________________________________________________________\n",
      "dense_1 (Dense)              (None, 50)                2550      \n",
      "_________________________________________________________________\n",
      "batch_normalization_1 (Batch (None, 50)                200       \n",
      "_________________________________________________________________\n",
      "activation_1 (Activation)    (None, 50)                0         \n",
      "_________________________________________________________________\n",
      "dropout_1 (Dropout)          (None, 50)                0         \n",
      "_________________________________________________________________\n",
      "dense_2 (Dense)              (None, 50)                2550      \n",
      "_________________________________________________________________\n",
      "batch_normalization_2 (Batch (None, 50)                200       \n",
      "_________________________________________________________________\n",
      "activation_2 (Activation)    (None, 50)                0         \n",
      "_________________________________________________________________\n",
      "dropout_2 (Dropout)          (None, 50)                0         \n",
      "_________________________________________________________________\n",
      "dense_3 (Dense)              (None, 50)                2550      \n",
      "_________________________________________________________________\n",
      "batch_normalization_3 (Batch (None, 50)                200       \n",
      "_________________________________________________________________\n",
      "activation_3 (Activation)    (None, 50)                0         \n",
      "_________________________________________________________________\n",
      "dropout_3 (Dropout)          (None, 50)                0         \n",
      "_________________________________________________________________\n",
      "dense_4 (Dense)              (None, 10)                510       \n",
      "_________________________________________________________________\n",
      "activation_4 (Activation)    (None, 10)                0         \n",
      "=================================================================\n",
      "Total params: 48,210\n",
      "Trainable params: 47,810\n",
      "Non-trainable params: 400\n",
      "_________________________________________________________________\n"
     ]
    }
   ],
   "source": [
    "model.summary()"
   ]
  },
  {
   "cell_type": "code",
   "execution_count": 28,
   "metadata": {},
   "outputs": [],
   "source": [
    "from tensorflow.keras.callbacks import Callback"
   ]
  },
  {
   "cell_type": "markdown",
   "metadata": {},
   "source": [
    "## Custom callback function\n",
    "### This function stops the training once accuracy reaches 90% "
   ]
  },
  {
   "cell_type": "code",
   "execution_count": 29,
   "metadata": {},
   "outputs": [],
   "source": [
    "class TerminateOnBaseline(Callback):\n",
    "    def __init__(self, monitor='accuracy', baseline=0.9):\n",
    "        super(TerminateOnBaseline, self).__init__()\n",
    "        self.monitor = monitor\n",
    "        self.baseline = baseline\n",
    "\n",
    "    def on_epoch_end(self, epoch, logs=None):\n",
    "        logs = logs or {}\n",
    "        acc = logs.get(self.monitor)\n",
    "        if acc is not None:\n",
    "            if acc >= self.baseline:\n",
    "                print('Epoch %d: Reached baseline, terminating training' % (epoch))\n",
    "                self.model.stop_training = True"
   ]
  },
  {
   "cell_type": "code",
   "execution_count": 30,
   "metadata": {},
   "outputs": [],
   "source": [
    "callback = [TerminateOnBaseline()]"
   ]
  },
  {
   "cell_type": "markdown",
   "metadata": {},
   "source": [
    "### Training the model"
   ]
  },
  {
   "cell_type": "code",
   "execution_count": 31,
   "metadata": {},
   "outputs": [
    {
     "name": "stdout",
     "output_type": "stream",
     "text": [
      "Epoch 1/100\n",
      "1313/1313 [==============================] - 24s 16ms/step - loss: 1.2775 - accuracy: 0.5902 - val_loss: 0.4666 - val_accuracy: 0.8808\n",
      "Epoch 2/100\n",
      "1313/1313 [==============================] - 21s 16ms/step - loss: 0.6955 - accuracy: 0.7864 - val_loss: 0.3224 - val_accuracy: 0.9056\n",
      "Epoch 3/100\n",
      "1313/1313 [==============================] - 20s 16ms/step - loss: 0.5754 - accuracy: 0.8262 - val_loss: 0.2807 - val_accuracy: 0.9179\n",
      "Epoch 4/100\n",
      "1313/1313 [==============================] - 20s 15ms/step - loss: 0.5133 - accuracy: 0.8481 - val_loss: 0.2528 - val_accuracy: 0.9254\n",
      "Epoch 5/100\n",
      "1313/1313 [==============================] - 20s 15ms/step - loss: 0.4672 - accuracy: 0.8611 - val_loss: 0.2259 - val_accuracy: 0.9346\n",
      "Epoch 6/100\n",
      "1313/1313 [==============================] - 20s 15ms/step - loss: 0.4353 - accuracy: 0.8725 - val_loss: 0.2122 - val_accuracy: 0.9384\n",
      "Epoch 7/100\n",
      "1313/1313 [==============================] - 20s 15ms/step - loss: 0.4042 - accuracy: 0.8812 - val_loss: 0.1942 - val_accuracy: 0.9450\n",
      "Epoch 8/100\n",
      "1313/1313 [==============================] - 20s 15ms/step - loss: 0.3806 - accuracy: 0.8879 - val_loss: 0.1798 - val_accuracy: 0.9484\n",
      "Epoch 9/100\n",
      "1313/1313 [==============================] - 20s 15ms/step - loss: 0.3654 - accuracy: 0.8923 - val_loss: 0.1738 - val_accuracy: 0.9501\n",
      "Epoch 10/100\n",
      "1313/1313 [==============================] - 20s 15ms/step - loss: 0.3503 - accuracy: 0.8969 - val_loss: 0.1737 - val_accuracy: 0.9494\n",
      "Epoch 11/100\n",
      "1313/1313 [==============================] - 20s 15ms/step - loss: 0.3379 - accuracy: 0.9006 - val_loss: 0.1648 - val_accuracy: 0.9524\n",
      "Epoch 10: Reached baseline, terminating training\n"
     ]
    }
   ],
   "source": [
    "train1=model.fit(X_train,Y_train,validation_split=0.3,epochs=100,callbacks=[callback],verbose=1)"
   ]
  },
  {
   "cell_type": "code",
   "execution_count": 32,
   "metadata": {},
   "outputs": [
    {
     "data": {
      "image/png": "[encoded data removed]",
      "text/plain": [
       "<Figure size 432x288 with 1 Axes>"
      ]
     },
     "metadata": {
      "needs_background": "light"
     },
     "output_type": "display_data"
    }
   ],
   "source": [
    "plt.plot(train1.history['accuracy' ])\n",
    "plt.plot(train1.history['val_accuracy'])\n",
    "plt.plot(train1.history['loss'])\n",
    "plt.plot(train1.history['val_loss'])\n",
    "plt.legend(['train acc', 'valid acc', 'train loss', 'valid loss'], loc = 'upper left')\n",
    "plt.show()"
   ]
  },
  {
   "cell_type": "markdown",
   "metadata": {},
   "source": [
    "### Printing the accuracy"
   ]
  },
  {
   "cell_type": "code",
   "execution_count": 33,
   "metadata": {},
   "outputs": [
    {
     "name": "stdout",
     "output_type": "stream",
     "text": [
      "313/313 [==============================] - 2s 5ms/step - loss: 0.1565 - accuracy: 0.9538\n",
      "Test Accuracy is: 95.38000226020813%\n"
     ]
    }
   ],
   "source": [
    "model_out1=model.evaluate(X_test,Y_test)\n",
    "print(f\"Test Accuracy is: {model_out1[1]*100}%\")"
   ]
  },
  {
   "cell_type": "code",
   "execution_count": 34,
   "metadata": {},
   "outputs": [
    {
     "name": "stdout",
     "output_type": "stream",
     "text": [
      "['loss', 'accuracy']\n",
      "[0.15651117265224457, 0.9538000226020813]\n"
     ]
    }
   ],
   "source": [
    "print(model.metrics_names) \n",
    "print(model_out1)"
   ]
  },
  {
   "cell_type": "markdown",
   "metadata": {},
   "source": [
    "### Printing Confusion Matrix"
   ]
  },
  {
   "cell_type": "code",
   "execution_count": 35,
   "metadata": {},
   "outputs": [],
   "source": [
    "from sklearn.metrics import confusion_matrix"
   ]
  },
  {
   "cell_type": "code",
   "execution_count": 36,
   "metadata": {},
   "outputs": [],
   "source": [
    "def print_conf(model):\n",
    "    labels=Y_test\n",
    "    y_pred=model.predict(X_test)\n",
    "    diffmatrix = confusion_matrix(labels.argmax(axis=1), y_pred.argmax(axis=1))\n",
    "    return diffmatrix"
   ]
  },
  {
   "cell_type": "code",
   "execution_count": 37,
   "metadata": {},
   "outputs": [],
   "source": [
    "cm1=print_conf(model)"
   ]
  },
  {
   "cell_type": "code",
   "execution_count": 38,
   "metadata": {},
   "outputs": [],
   "source": [
    "import seaborn as sns"
   ]
  },
  {
   "cell_type": "code",
   "execution_count": 39,
   "metadata": {},
   "outputs": [
    {
     "data": {
      "text/plain": [
       "array([[ 968,    0,    0,    2,    0,    2,    2,    4,    1,    1],\n",
       "       [   0, 1123,    0,    2,    1,    2,    2,    1,    4,    0],\n",
       "       [  12,    2,  974,    9,   10,    0,    5,   13,    6,    1],\n",
       "       [   1,    1,    7,  965,    1,   21,    0,   11,    3,    0],\n",
       "       [   2,    0,    1,    1,  940,    0,    7,    2,    3,   26],\n",
       "       [   8,    1,    1,   16,    2,  840,    6,    3,   11,    4],\n",
       "       [  13,    2,    1,    0,    3,   13,  922,    0,    4,    0],\n",
       "       [   3,    9,   15,    7,    1,    0,    0,  979,    1,   13],\n",
       "       [   7,    6,    4,   14,    7,   25,   10,    9,  886,    6],\n",
       "       [   5,    6,    0,    8,   18,   22,    0,    8,    1,  941]],\n",
       "      dtype=int64)"
      ]
     },
     "execution_count": 39,
     "metadata": {},
     "output_type": "execute_result"
    }
   ],
   "source": [
    "cm1"
   ]
  },
  {
   "cell_type": "code",
   "execution_count": 40,
   "metadata": {},
   "outputs": [
    {
     "data": {
      "image/png": "[encoded data removed]",
      "text/plain": [
       "<Figure size 720x720 with 2 Axes>"
      ]
     },
     "metadata": {
      "needs_background": "light"
     },
     "output_type": "display_data"
    }
   ],
   "source": [
    "def matrix(cm):\n",
    "    fig, ax = plt.subplots(figsize=(10,10))       \n",
    "    sns.set(font_scale=1)\n",
    "    sns.heatmap(cm, annot=True, ax=ax)\n",
    "\n",
    "matrix(cm1)"
   ]
  },
  {
   "cell_type": "markdown",
   "metadata": {},
   "source": [
    "#### 2) Ensemble Learning model using Voting Classifier"
   ]
  },
  {
   "cell_type": "code",
   "execution_count": 41,
   "metadata": {},
   "outputs": [],
   "source": [
    "y_train=np.argmax(Y_train,axis=1)\n",
    "y_test=np.argmax(Y_test,axis=1)"
   ]
  },
  {
   "cell_type": "code",
   "execution_count": 42,
   "metadata": {},
   "outputs": [],
   "source": [
    "from tensorflow.keras.wrappers.scikit_learn import KerasClassifier\n",
    "from sklearn.ensemble import VotingClassifier\n",
    "from sklearn.metrics import accuracy_score"
   ]
  },
  {
   "cell_type": "code",
   "execution_count": 43,
   "metadata": {},
   "outputs": [],
   "source": [
    "callback1 = [TerminateOnBaseline()]"
   ]
  },
  {
   "cell_type": "markdown",
   "metadata": {},
   "source": [
    "### Initializing 3 models for Ensemble Learning"
   ]
  },
  {
   "cell_type": "code",
   "execution_count": 44,
   "metadata": {},
   "outputs": [],
   "source": [
    "emodel1=KerasClassifier(build_fn=in_model,epochs=100,validation_split=0.3,callbacks=[callback1],verbose=1)\n",
    "emodel2=KerasClassifier(build_fn=in_model,epochs=100,validation_split=0.3,callbacks=[callback1],verbose=1)\n",
    "emodel3=KerasClassifier(build_fn=in_model,epochs=100,validation_split=0.3,callbacks=[callback1],verbose=1)\n",
    "emodel1._estimator_type=\"classifier\"\n",
    "emodel2._estimator_type=\"classifier\"\n",
    "emodel3._estimator_type=\"classifier\""
   ]
  },
  {
   "cell_type": "code",
   "execution_count": 45,
   "metadata": {},
   "outputs": [],
   "source": [
    "ensemble=VotingClassifier(estimators=[('model1',emodel1),('model2',emodel2),('model3',emodel3)],voting='soft')"
   ]
  },
  {
   "cell_type": "code",
   "execution_count": 46,
   "metadata": {},
   "outputs": [
    {
     "name": "stdout",
     "output_type": "stream",
     "text": [
      "Epoch 1/100\n",
      "1313/1313 [==============================] - 21s 15ms/step - loss: 1.3198 - accuracy: 0.5711 - val_loss: 0.4990 - val_accuracy: 0.8661\n",
      "Epoch 2/100\n",
      "1313/1313 [==============================] - 19s 14ms/step - loss: 0.7342 - accuracy: 0.7762 - val_loss: 0.3414 - val_accuracy: 0.8962\n",
      "Epoch 3/100\n",
      "1313/1313 [==============================] - 20s 15ms/step - loss: 0.5948 - accuracy: 0.8236 - val_loss: 0.2900 - val_accuracy: 0.9132\n",
      "Epoch 4/100\n",
      "1313/1313 [==============================] - 20s 15ms/step - loss: 0.5165 - accuracy: 0.8467 - val_loss: 0.2486 - val_accuracy: 0.9273\n",
      "Epoch 5/100\n",
      "1313/1313 [==============================] - 20s 15ms/step - loss: 0.4755 - accuracy: 0.8594 - val_loss: 0.2196 - val_accuracy: 0.9363\n",
      "Epoch 6/100\n",
      "1313/1313 [==============================] - 20s 15ms/step - loss: 0.4368 - accuracy: 0.8717 - val_loss: 0.2141 - val_accuracy: 0.9373\n",
      "Epoch 7/100\n",
      "1313/1313 [==============================] - 20s 15ms/step - loss: 0.4117 - accuracy: 0.8780 - val_loss: 0.1877 - val_accuracy: 0.9458\n",
      "Epoch 8/100\n",
      "1313/1313 [==============================] - 20s 15ms/step - loss: 0.3835 - accuracy: 0.8863 - val_loss: 0.1771 - val_accuracy: 0.9491\n",
      "Epoch 9/100\n",
      "1313/1313 [==============================] - 20s 15ms/step - loss: 0.3671 - accuracy: 0.8901 - val_loss: 0.1679 - val_accuracy: 0.9508\n",
      "Epoch 10/100\n",
      "1313/1313 [==============================] - 20s 15ms/step - loss: 0.3443 - accuracy: 0.8977 - val_loss: 0.1729 - val_accuracy: 0.9501\n",
      "Epoch 11/100\n",
      "1313/1313 [==============================] - 20s 15ms/step - loss: 0.3344 - accuracy: 0.9007 - val_loss: 0.1582 - val_accuracy: 0.9542\n",
      "Epoch 10: Reached baseline, terminating training\n",
      "Epoch 1/100\n",
      "1313/1313 [==============================] - 20s 15ms/step - loss: 1.3162 - accuracy: 0.5829 - val_loss: 0.4376 - val_accuracy: 0.8896\n",
      "Epoch 2/100\n",
      "1313/1313 [==============================] - 19s 15ms/step - loss: 0.7079 - accuracy: 0.7870 - val_loss: 0.3212 - val_accuracy: 0.9095\n",
      "Epoch 3/100\n",
      "1313/1313 [==============================] - 19s 15ms/step - loss: 0.5721 - accuracy: 0.8307 - val_loss: 0.2627 - val_accuracy: 0.9241\n",
      "Epoch 4/100\n",
      "1313/1313 [==============================] - 19s 15ms/step - loss: 0.5082 - accuracy: 0.8509 - val_loss: 0.2509 - val_accuracy: 0.9261\n",
      "Epoch 5/100\n",
      "1313/1313 [==============================] - 19s 15ms/step - loss: 0.4633 - accuracy: 0.8637 - val_loss: 0.2302 - val_accuracy: 0.9342\n",
      "Epoch 6/100\n",
      "1313/1313 [==============================] - 19s 15ms/step - loss: 0.4334 - accuracy: 0.8716 - val_loss: 0.2126 - val_accuracy: 0.9377\n",
      "Epoch 7/100\n",
      "1313/1313 [==============================] - 19s 15ms/step - loss: 0.3933 - accuracy: 0.8825 - val_loss: 0.1842 - val_accuracy: 0.9463\n",
      "Epoch 8/100\n",
      "1313/1313 [==============================] - 19s 15ms/step - loss: 0.3777 - accuracy: 0.8888 - val_loss: 0.1782 - val_accuracy: 0.9480\n",
      "Epoch 9/100\n",
      "1313/1313 [==============================] - 20s 15ms/step - loss: 0.3597 - accuracy: 0.8935 - val_loss: 0.1741 - val_accuracy: 0.9492\n",
      "Epoch 10/100\n",
      "1313/1313 [==============================] - 19s 15ms/step - loss: 0.3428 - accuracy: 0.8987 - val_loss: 0.1622 - val_accuracy: 0.9536\n",
      "Epoch 11/100\n",
      "1313/1313 [==============================] - 19s 14ms/step - loss: 0.3371 - accuracy: 0.9004 - val_loss: 0.1524 - val_accuracy: 0.9560\n",
      "Epoch 10: Reached baseline, terminating training\n",
      "Epoch 1/100\n",
      "1313/1313 [==============================] - 20s 15ms/step - loss: 1.3121 - accuracy: 0.5799 - val_loss: 0.4615 - val_accuracy: 0.8786\n",
      "Epoch 2/100\n",
      "1313/1313 [==============================] - 19s 15ms/step - loss: 0.7033 - accuracy: 0.7875 - val_loss: 0.3199 - val_accuracy: 0.9064\n",
      "Epoch 3/100\n",
      "1313/1313 [==============================] - 19s 15ms/step - loss: 0.5721 - accuracy: 0.8287 - val_loss: 0.2817 - val_accuracy: 0.9161\n",
      "Epoch 4/100\n",
      "1313/1313 [==============================] - 19s 15ms/step - loss: 0.5040 - accuracy: 0.8501 - val_loss: 0.2536 - val_accuracy: 0.9239\n",
      "Epoch 5/100\n",
      "1313/1313 [==============================] - 19s 15ms/step - loss: 0.4680 - accuracy: 0.8597 - val_loss: 0.2202 - val_accuracy: 0.9347\n",
      "Epoch 6/100\n",
      "1313/1313 [==============================] - 19s 15ms/step - loss: 0.4360 - accuracy: 0.8724 - val_loss: 0.2094 - val_accuracy: 0.9387\n",
      "Epoch 7/100\n",
      "1313/1313 [==============================] - 20s 15ms/step - loss: 0.4042 - accuracy: 0.8797 - val_loss: 0.1934 - val_accuracy: 0.9416\n",
      "Epoch 8/100\n",
      "1313/1313 [==============================] - 19s 15ms/step - loss: 0.3856 - accuracy: 0.8852 - val_loss: 0.1823 - val_accuracy: 0.9472\n",
      "Epoch 9/100\n",
      "1313/1313 [==============================] - 19s 15ms/step - loss: 0.3683 - accuracy: 0.8904 - val_loss: 0.1751 - val_accuracy: 0.9489\n",
      "Epoch 10/100\n",
      "1313/1313 [==============================] - 19s 15ms/step - loss: 0.3492 - accuracy: 0.8957 - val_loss: 0.1679 - val_accuracy: 0.9513\n",
      "Epoch 11/100\n",
      "1313/1313 [==============================] - 19s 14ms/step - loss: 0.3315 - accuracy: 0.9011 - val_loss: 0.1569 - val_accuracy: 0.9541\n",
      "Epoch 10: Reached baseline, terminating training\n"
     ]
    }
   ],
   "source": [
    "etrain=ensemble.fit(X_train,y_train)"
   ]
  },
  {
   "cell_type": "code",
   "execution_count": 47,
   "metadata": {},
   "outputs": [
    {
     "name": "stdout",
     "output_type": "stream",
     "text": [
      "313/313 [==============================] - 1s 2ms/step\n",
      "313/313 [==============================] - 1s 2ms/step\n",
      "313/313 [==============================] - 1s 2ms/step\n"
     ]
    }
   ],
   "source": [
    "Y_pred1 = ensemble.predict(X_test)"
   ]
  },
  {
   "cell_type": "code",
   "execution_count": 48,
   "metadata": {},
   "outputs": [
    {
     "data": {
      "text/plain": [
       "(10000,)"
      ]
     },
     "execution_count": 48,
     "metadata": {},
     "output_type": "execute_result"
    }
   ],
   "source": [
    "Y_pred1.shape"
   ]
  },
  {
   "cell_type": "markdown",
   "metadata": {},
   "source": [
    "### Printing the accuracy"
   ]
  },
  {
   "cell_type": "code",
   "execution_count": 49,
   "metadata": {},
   "outputs": [],
   "source": [
    "ex1=accuracy_score(y_test,Y_pred1)"
   ]
  },
  {
   "cell_type": "code",
   "execution_count": 50,
   "metadata": {},
   "outputs": [
    {
     "name": "stdout",
     "output_type": "stream",
     "text": [
      "Test Accuracy is : 96.1  %\n"
     ]
    }
   ],
   "source": [
    "print(\"Test Accuracy is :\", ex1*100 ,\" %\")"
   ]
  },
  {
   "cell_type": "markdown",
   "metadata": {},
   "source": [
    "### Printing the confusion matrix"
   ]
  },
  {
   "cell_type": "code",
   "execution_count": 51,
   "metadata": {},
   "outputs": [],
   "source": [
    "cm2=confusion_matrix(y_test, Y_pred1)"
   ]
  },
  {
   "cell_type": "code",
   "execution_count": 52,
   "metadata": {},
   "outputs": [
    {
     "data": {
      "text/plain": [
       "array([[ 967,    0,    1,    1,    2,    3,    4,    1,    1,    0],\n",
       "       [   0, 1124,    3,    1,    0,    1,    3,    1,    2,    0],\n",
       "       [   6,    4,  993,    5,    8,    0,    2,    5,    8,    1],\n",
       "       [   0,    1,   10,  970,    0,    9,    0,   12,    7,    1],\n",
       "       [   1,    0,    3,    0,  947,    0,    8,    1,    1,   21],\n",
       "       [   5,    1,    1,   22,    3,  831,   10,    4,   11,    4],\n",
       "       [   7,    4,    0,    1,    4,    5,  933,    0,    4,    0],\n",
       "       [   2,   13,   15,    3,    4,    0,    0,  981,    0,   10],\n",
       "       [   7,    6,    3,    6,    7,    9,    5,    8,  919,    4],\n",
       "       [   8,    5,    0,    9,   23,    7,    0,    7,    5,  945]],\n",
       "      dtype=int64)"
      ]
     },
     "execution_count": 52,
     "metadata": {},
     "output_type": "execute_result"
    }
   ],
   "source": [
    "cm2"
   ]
  },
  {
   "cell_type": "code",
   "execution_count": 53,
   "metadata": {},
   "outputs": [
    {
     "data": {
      "image/png": "[encoded data removed]",
      "text/plain": [
       "<Figure size 720x720 with 2 Axes>"
      ]
     },
     "metadata": {},
     "output_type": "display_data"
    }
   ],
   "source": [
    "matrix(cm2)"
   ]
  },
  {
   "cell_type": "markdown",
   "metadata": {},
   "source": [
    "## Question 2"
   ]
  },
  {
   "cell_type": "markdown",
   "metadata": {},
   "source": [
    "### 1) MLP Model\n",
    "### Here the dataset used is https://archive.ics.uci.edu/ml/machine-learning-databases/car/car.data"
   ]
  },
  {
   "cell_type": "code",
   "execution_count": 54,
   "metadata": {},
   "outputs": [],
   "source": [
    "df=pd.read_csv('https://archive.ics.uci.edu/ml/machine-learning-databases/car/car.data')"
   ]
  },
  {
   "cell_type": "code",
   "execution_count": 55,
   "metadata": {},
   "outputs": [
    {
     "data": {
      "text/html": [
       "<div>\n",
       "<style scoped>\n",
       "    .dataframe tbody tr th:only-of-type {\n",
       "        vertical-align: middle;\n",
       "    }\n",
       "\n",
       "    .dataframe tbody tr th {\n",
       "        vertical-align: top;\n",
       "    }\n",
       "\n",
       "    .dataframe thead th {\n",
       "        text-align: right;\n",
       "    }\n",
       "</style>\n",
       "<table border=\"1\" class=\"dataframe\">\n",
       "  <thead>\n",
       "    <tr style=\"text-align: right;\">\n",
       "      <th></th>\n",
       "      <th>vhigh</th>\n",
       "      <th>vhigh.1</th>\n",
       "      <th>2</th>\n",
       "      <th>2.1</th>\n",
       "      <th>small</th>\n",
       "      <th>low</th>\n",
       "      <th>unacc</th>\n",
       "    </tr>\n",
       "  </thead>\n",
       "  <tbody>\n",
       "    <tr>\n",
       "      <th>0</th>\n",
       "      <td>vhigh</td>\n",
       "      <td>vhigh</td>\n",
       "      <td>2</td>\n",
       "      <td>2</td>\n",
       "      <td>small</td>\n",
       "      <td>med</td>\n",
       "      <td>unacc</td>\n",
       "    </tr>\n",
       "    <tr>\n",
       "      <th>1</th>\n",
       "      <td>vhigh</td>\n",
       "      <td>vhigh</td>\n",
       "      <td>2</td>\n",
       "      <td>2</td>\n",
       "      <td>small</td>\n",
       "      <td>high</td>\n",
       "      <td>unacc</td>\n",
       "    </tr>\n",
       "    <tr>\n",
       "      <th>2</th>\n",
       "      <td>vhigh</td>\n",
       "      <td>vhigh</td>\n",
       "      <td>2</td>\n",
       "      <td>2</td>\n",
       "      <td>med</td>\n",
       "      <td>low</td>\n",
       "      <td>unacc</td>\n",
       "    </tr>\n",
       "    <tr>\n",
       "      <th>3</th>\n",
       "      <td>vhigh</td>\n",
       "      <td>vhigh</td>\n",
       "      <td>2</td>\n",
       "      <td>2</td>\n",
       "      <td>med</td>\n",
       "      <td>med</td>\n",
       "      <td>unacc</td>\n",
       "    </tr>\n",
       "    <tr>\n",
       "      <th>4</th>\n",
       "      <td>vhigh</td>\n",
       "      <td>vhigh</td>\n",
       "      <td>2</td>\n",
       "      <td>2</td>\n",
       "      <td>med</td>\n",
       "      <td>high</td>\n",
       "      <td>unacc</td>\n",
       "    </tr>\n",
       "  </tbody>\n",
       "</table>\n",
       "</div>"
      ],
      "text/plain": [
       "   vhigh vhigh.1  2 2.1  small   low  unacc\n",
       "0  vhigh   vhigh  2   2  small   med  unacc\n",
       "1  vhigh   vhigh  2   2  small  high  unacc\n",
       "2  vhigh   vhigh  2   2    med   low  unacc\n",
       "3  vhigh   vhigh  2   2    med   med  unacc\n",
       "4  vhigh   vhigh  2   2    med  high  unacc"
      ]
     },
     "execution_count": 55,
     "metadata": {},
     "output_type": "execute_result"
    }
   ],
   "source": [
    "df.head()"
   ]
  },
  {
   "cell_type": "markdown",
   "metadata": {},
   "source": [
    "### Splitting the data"
   ]
  },
  {
   "cell_type": "code",
   "execution_count": 56,
   "metadata": {},
   "outputs": [
    {
     "data": {
      "text/html": [
       "<div>\n",
       "<style scoped>\n",
       "    .dataframe tbody tr th:only-of-type {\n",
       "        vertical-align: middle;\n",
       "    }\n",
       "\n",
       "    .dataframe tbody tr th {\n",
       "        vertical-align: top;\n",
       "    }\n",
       "\n",
       "    .dataframe thead th {\n",
       "        text-align: right;\n",
       "    }\n",
       "</style>\n",
       "<table border=\"1\" class=\"dataframe\">\n",
       "  <thead>\n",
       "    <tr style=\"text-align: right;\">\n",
       "      <th></th>\n",
       "      <th>vhigh</th>\n",
       "      <th>vhigh.1</th>\n",
       "      <th>2</th>\n",
       "      <th>2.1</th>\n",
       "      <th>small</th>\n",
       "      <th>low</th>\n",
       "    </tr>\n",
       "  </thead>\n",
       "  <tbody>\n",
       "    <tr>\n",
       "      <th>0</th>\n",
       "      <td>vhigh</td>\n",
       "      <td>vhigh</td>\n",
       "      <td>2</td>\n",
       "      <td>2</td>\n",
       "      <td>small</td>\n",
       "      <td>med</td>\n",
       "    </tr>\n",
       "    <tr>\n",
       "      <th>1</th>\n",
       "      <td>vhigh</td>\n",
       "      <td>vhigh</td>\n",
       "      <td>2</td>\n",
       "      <td>2</td>\n",
       "      <td>small</td>\n",
       "      <td>high</td>\n",
       "    </tr>\n",
       "    <tr>\n",
       "      <th>2</th>\n",
       "      <td>vhigh</td>\n",
       "      <td>vhigh</td>\n",
       "      <td>2</td>\n",
       "      <td>2</td>\n",
       "      <td>med</td>\n",
       "      <td>low</td>\n",
       "    </tr>\n",
       "    <tr>\n",
       "      <th>3</th>\n",
       "      <td>vhigh</td>\n",
       "      <td>vhigh</td>\n",
       "      <td>2</td>\n",
       "      <td>2</td>\n",
       "      <td>med</td>\n",
       "      <td>med</td>\n",
       "    </tr>\n",
       "    <tr>\n",
       "      <th>4</th>\n",
       "      <td>vhigh</td>\n",
       "      <td>vhigh</td>\n",
       "      <td>2</td>\n",
       "      <td>2</td>\n",
       "      <td>med</td>\n",
       "      <td>high</td>\n",
       "    </tr>\n",
       "    <tr>\n",
       "      <th>...</th>\n",
       "      <td>...</td>\n",
       "      <td>...</td>\n",
       "      <td>...</td>\n",
       "      <td>...</td>\n",
       "      <td>...</td>\n",
       "      <td>...</td>\n",
       "    </tr>\n",
       "    <tr>\n",
       "      <th>1722</th>\n",
       "      <td>low</td>\n",
       "      <td>low</td>\n",
       "      <td>5more</td>\n",
       "      <td>more</td>\n",
       "      <td>med</td>\n",
       "      <td>med</td>\n",
       "    </tr>\n",
       "    <tr>\n",
       "      <th>1723</th>\n",
       "      <td>low</td>\n",
       "      <td>low</td>\n",
       "      <td>5more</td>\n",
       "      <td>more</td>\n",
       "      <td>med</td>\n",
       "      <td>high</td>\n",
       "    </tr>\n",
       "    <tr>\n",
       "      <th>1724</th>\n",
       "      <td>low</td>\n",
       "      <td>low</td>\n",
       "      <td>5more</td>\n",
       "      <td>more</td>\n",
       "      <td>big</td>\n",
       "      <td>low</td>\n",
       "    </tr>\n",
       "    <tr>\n",
       "      <th>1725</th>\n",
       "      <td>low</td>\n",
       "      <td>low</td>\n",
       "      <td>5more</td>\n",
       "      <td>more</td>\n",
       "      <td>big</td>\n",
       "      <td>med</td>\n",
       "    </tr>\n",
       "    <tr>\n",
       "      <th>1726</th>\n",
       "      <td>low</td>\n",
       "      <td>low</td>\n",
       "      <td>5more</td>\n",
       "      <td>more</td>\n",
       "      <td>big</td>\n",
       "      <td>high</td>\n",
       "    </tr>\n",
       "  </tbody>\n",
       "</table>\n",
       "<p>1727 rows × 6 columns</p>\n",
       "</div>"
      ],
      "text/plain": [
       "      vhigh vhigh.1      2   2.1  small   low\n",
       "0     vhigh   vhigh      2     2  small   med\n",
       "1     vhigh   vhigh      2     2  small  high\n",
       "2     vhigh   vhigh      2     2    med   low\n",
       "3     vhigh   vhigh      2     2    med   med\n",
       "4     vhigh   vhigh      2     2    med  high\n",
       "...     ...     ...    ...   ...    ...   ...\n",
       "1722    low     low  5more  more    med   med\n",
       "1723    low     low  5more  more    med  high\n",
       "1724    low     low  5more  more    big   low\n",
       "1725    low     low  5more  more    big   med\n",
       "1726    low     low  5more  more    big  high\n",
       "\n",
       "[1727 rows x 6 columns]"
      ]
     },
     "execution_count": 56,
     "metadata": {},
     "output_type": "execute_result"
    }
   ],
   "source": [
    "X=df.drop('unacc',axis=1)\n",
    "X"
   ]
  },
  {
   "cell_type": "code",
   "execution_count": 57,
   "metadata": {},
   "outputs": [
    {
     "data": {
      "text/plain": [
       "0       unacc\n",
       "1       unacc\n",
       "2       unacc\n",
       "3       unacc\n",
       "4       unacc\n",
       "        ...  \n",
       "1722     good\n",
       "1723    vgood\n",
       "1724    unacc\n",
       "1725     good\n",
       "1726    vgood\n",
       "Name: unacc, Length: 1727, dtype: object"
      ]
     },
     "execution_count": 57,
     "metadata": {},
     "output_type": "execute_result"
    }
   ],
   "source": [
    "Y=df.iloc[:,-1]\n",
    "Y"
   ]
  },
  {
   "cell_type": "markdown",
   "metadata": {},
   "source": [
    "### One-Hot Encoding"
   ]
  },
  {
   "cell_type": "code",
   "execution_count": 58,
   "metadata": {},
   "outputs": [],
   "source": [
    "X=pd.get_dummies(X)"
   ]
  },
  {
   "cell_type": "code",
   "execution_count": 59,
   "metadata": {},
   "outputs": [],
   "source": [
    "X=X.values"
   ]
  },
  {
   "cell_type": "code",
   "execution_count": 60,
   "metadata": {},
   "outputs": [],
   "source": [
    "Y=pd.get_dummies(Y)"
   ]
  },
  {
   "cell_type": "code",
   "execution_count": 61,
   "metadata": {},
   "outputs": [],
   "source": [
    "Y=Y.values"
   ]
  },
  {
   "cell_type": "code",
   "execution_count": 62,
   "metadata": {},
   "outputs": [
    {
     "name": "stdout",
     "output_type": "stream",
     "text": [
      "(1727, 21) (1727, 4)\n"
     ]
    }
   ],
   "source": [
    "print(X.shape,Y.shape)"
   ]
  },
  {
   "cell_type": "markdown",
   "metadata": {},
   "source": [
    "### Train-test-split"
   ]
  },
  {
   "cell_type": "code",
   "execution_count": 63,
   "metadata": {},
   "outputs": [],
   "source": [
    "from sklearn.model_selection import train_test_split"
   ]
  },
  {
   "cell_type": "code",
   "execution_count": 64,
   "metadata": {},
   "outputs": [],
   "source": [
    "X_train, X_test, y_train, y_test = train_test_split(X, Y, test_size=0.33, random_state=42)"
   ]
  },
  {
   "cell_type": "code",
   "execution_count": 65,
   "metadata": {},
   "outputs": [
    {
     "name": "stdout",
     "output_type": "stream",
     "text": [
      "Train shape (1157, 21)\n",
      "Test shape (570, 21)\n",
      "(1157, 4)\n",
      "(570, 4)\n"
     ]
    }
   ],
   "source": [
    "print(\"Train shape\",X_train.shape)\n",
    "print(\"Test shape\",X_test.shape)\n",
    "print(y_train.shape)\n",
    "print(y_test.shape)"
   ]
  },
  {
   "cell_type": "code",
   "execution_count": 66,
   "metadata": {},
   "outputs": [],
   "source": [
    "X_train=np.asarray(X_train).astype(float)\n",
    "\n",
    "y_train=np.asarray(y_train).astype(float)"
   ]
  },
  {
   "cell_type": "markdown",
   "metadata": {},
   "source": [
    "### Initializing the NN Model"
   ]
  },
  {
   "cell_type": "code",
   "execution_count": 67,
   "metadata": {},
   "outputs": [],
   "source": [
    "def car_model(initializer='he_normal'):\n",
    "    model=Sequential()\n",
    "    model.add(Dense(50, input_shape = (21,),kernel_initializer=initializer))\n",
    "    model.add(BatchNormalization())\n",
    "    model.add(Activation('sigmoid'))\n",
    "    model.add(Dropout(0.2))\n",
    "    model.add(Dense(50,kernel_initializer=initializer))\n",
    "    model.add(BatchNormalization())\n",
    "    model.add(Activation('sigmoid'))\n",
    "    model.add(Dropout(0.2))\n",
    "    model.add(Dense(50,kernel_initializer=initializer))\n",
    "    model.add(BatchNormalization())\n",
    "    model.add(Activation('sigmoid'))\n",
    "    model.add(Dropout(0.2))\n",
    "    model.add(Dense(50,kernel_initializer=initializer))\n",
    "    model.add(BatchNormalization())\n",
    "    model.add(Activation('sigmoid'))\n",
    "    model.add(Dropout(0.2))\n",
    "    model.add(Dense(4,kernel_initializer=initializer))\n",
    "    model.add(Activation('softmax'))\n",
    "\n",
    "    ad = optimizers.Adam(learning_rate = 0.001)\n",
    "    model.compile(optimizer = ad, loss = \"categorical_crossentropy\", metrics = ['accuracy'])\n",
    "    return model"
   ]
  },
  {
   "cell_type": "code",
   "execution_count": 68,
   "metadata": {},
   "outputs": [],
   "source": [
    "cmodel1=car_model()"
   ]
  },
  {
   "cell_type": "code",
   "execution_count": 69,
   "metadata": {},
   "outputs": [
    {
     "name": "stdout",
     "output_type": "stream",
     "text": [
      "Model: \"sequential_4\"\n",
      "_________________________________________________________________\n",
      "Layer (type)                 Output Shape              Param #   \n",
      "=================================================================\n",
      "dense_20 (Dense)             (None, 50)                1100      \n",
      "_________________________________________________________________\n",
      "batch_normalization_16 (Batc (None, 50)                200       \n",
      "_________________________________________________________________\n",
      "activation_20 (Activation)   (None, 50)                0         \n",
      "_________________________________________________________________\n",
      "dropout_16 (Dropout)         (None, 50)                0         \n",
      "_________________________________________________________________\n",
      "dense_21 (Dense)             (None, 50)                2550      \n",
      "_________________________________________________________________\n",
      "batch_normalization_17 (Batc (None, 50)                200       \n",
      "_________________________________________________________________\n",
      "activation_21 (Activation)   (None, 50)                0         \n",
      "_________________________________________________________________\n",
      "dropout_17 (Dropout)         (None, 50)                0         \n",
      "_________________________________________________________________\n",
      "dense_22 (Dense)             (None, 50)                2550      \n",
      "_________________________________________________________________\n",
      "batch_normalization_18 (Batc (None, 50)                200       \n",
      "_________________________________________________________________\n",
      "activation_22 (Activation)   (None, 50)                0         \n",
      "_________________________________________________________________\n",
      "dropout_18 (Dropout)         (None, 50)                0         \n",
      "_________________________________________________________________\n",
      "dense_23 (Dense)             (None, 50)                2550      \n",
      "_________________________________________________________________\n",
      "batch_normalization_19 (Batc (None, 50)                200       \n",
      "_________________________________________________________________\n",
      "activation_23 (Activation)   (None, 50)                0         \n",
      "_________________________________________________________________\n",
      "dropout_19 (Dropout)         (None, 50)                0         \n",
      "_________________________________________________________________\n",
      "dense_24 (Dense)             (None, 4)                 204       \n",
      "_________________________________________________________________\n",
      "activation_24 (Activation)   (None, 4)                 0         \n",
      "=================================================================\n",
      "Total params: 9,754\n",
      "Trainable params: 9,354\n",
      "Non-trainable params: 400\n",
      "_________________________________________________________________\n"
     ]
    }
   ],
   "source": [
    "cmodel1.summary()"
   ]
  },
  {
   "cell_type": "markdown",
   "metadata": {},
   "source": [
    "### Call back function"
   ]
  },
  {
   "cell_type": "code",
   "execution_count": 70,
   "metadata": {},
   "outputs": [],
   "source": [
    "callback_c1 = [TerminateOnBaseline()]"
   ]
  },
  {
   "cell_type": "markdown",
   "metadata": {},
   "source": [
    "### Training the model"
   ]
  },
  {
   "cell_type": "code",
   "execution_count": 71,
   "metadata": {},
   "outputs": [
    {
     "name": "stdout",
     "output_type": "stream",
     "text": [
      "Epoch 1/100\n",
      "26/26 [==============================] - 2s 30ms/step - loss: 1.2413 - accuracy: 0.4400 - val_loss: 1.0090 - val_accuracy: 0.6667\n",
      "Epoch 2/100\n",
      "26/26 [==============================] - 0s 17ms/step - loss: 0.9385 - accuracy: 0.6700 - val_loss: 0.9272 - val_accuracy: 0.6667\n",
      "Epoch 3/100\n",
      "26/26 [==============================] - 0s 17ms/step - loss: 0.7890 - accuracy: 0.7046 - val_loss: 0.9071 - val_accuracy: 0.6667\n",
      "Epoch 4/100\n",
      "26/26 [==============================] - 0s 17ms/step - loss: 0.7585 - accuracy: 0.7194 - val_loss: 0.8838 - val_accuracy: 0.6667\n",
      "Epoch 5/100\n",
      "26/26 [==============================] - 0s 16ms/step - loss: 0.7269 - accuracy: 0.7182 - val_loss: 0.8213 - val_accuracy: 0.6667\n",
      "Epoch 6/100\n",
      "26/26 [==============================] - 0s 16ms/step - loss: 0.6733 - accuracy: 0.7355 - val_loss: 0.7654 - val_accuracy: 0.6667\n",
      "Epoch 7/100\n",
      "26/26 [==============================] - 0s 16ms/step - loss: 0.6294 - accuracy: 0.7392 - val_loss: 0.6921 - val_accuracy: 0.6667\n",
      "Epoch 8/100\n",
      "26/26 [==============================] - 0s 17ms/step - loss: 0.6127 - accuracy: 0.7590 - val_loss: 0.6403 - val_accuracy: 0.6667\n",
      "Epoch 9/100\n",
      "26/26 [==============================] - 0s 15ms/step - loss: 0.5826 - accuracy: 0.7812 - val_loss: 0.5915 - val_accuracy: 0.6983\n",
      "Epoch 10/100\n",
      "26/26 [==============================] - 0s 15ms/step - loss: 0.5469 - accuracy: 0.7923 - val_loss: 0.5484 - val_accuracy: 0.7557\n",
      "Epoch 11/100\n",
      "26/26 [==============================] - 0s 16ms/step - loss: 0.5319 - accuracy: 0.7849 - val_loss: 0.5216 - val_accuracy: 0.7672\n",
      "Epoch 12/100\n",
      "26/26 [==============================] - 0s 15ms/step - loss: 0.5302 - accuracy: 0.8010 - val_loss: 0.5070 - val_accuracy: 0.7874\n",
      "Epoch 13/100\n",
      "26/26 [==============================] - 0s 16ms/step - loss: 0.5131 - accuracy: 0.7936 - val_loss: 0.5029 - val_accuracy: 0.7874\n",
      "Epoch 14/100\n",
      "26/26 [==============================] - 0s 15ms/step - loss: 0.5371 - accuracy: 0.7923 - val_loss: 0.5023 - val_accuracy: 0.7787\n",
      "Epoch 15/100\n",
      "26/26 [==============================] - 0s 16ms/step - loss: 0.5139 - accuracy: 0.7960 - val_loss: 0.4926 - val_accuracy: 0.7874\n",
      "Epoch 16/100\n",
      "26/26 [==============================] - 0s 16ms/step - loss: 0.4720 - accuracy: 0.8146 - val_loss: 0.4842 - val_accuracy: 0.7960\n",
      "Epoch 17/100\n",
      "26/26 [==============================] - 0s 16ms/step - loss: 0.5045 - accuracy: 0.8010 - val_loss: 0.4717 - val_accuracy: 0.8075\n",
      "Epoch 18/100\n",
      "26/26 [==============================] - 0s 16ms/step - loss: 0.4839 - accuracy: 0.8096 - val_loss: 0.4669 - val_accuracy: 0.8132\n",
      "Epoch 19/100\n",
      "26/26 [==============================] - 0s 15ms/step - loss: 0.4616 - accuracy: 0.8133 - val_loss: 0.4626 - val_accuracy: 0.8161\n",
      "Epoch 20/100\n",
      "26/26 [==============================] - 0s 16ms/step - loss: 0.4574 - accuracy: 0.8257 - val_loss: 0.4587 - val_accuracy: 0.8190\n",
      "Epoch 21/100\n",
      "26/26 [==============================] - 0s 16ms/step - loss: 0.5008 - accuracy: 0.8183 - val_loss: 0.4537 - val_accuracy: 0.8190\n",
      "Epoch 22/100\n",
      "26/26 [==============================] - 0s 16ms/step - loss: 0.4710 - accuracy: 0.8171 - val_loss: 0.4543 - val_accuracy: 0.8218\n",
      "Epoch 23/100\n",
      "26/26 [==============================] - 0s 16ms/step - loss: 0.4479 - accuracy: 0.8269 - val_loss: 0.4551 - val_accuracy: 0.8075\n",
      "Epoch 24/100\n",
      "26/26 [==============================] - 0s 16ms/step - loss: 0.4615 - accuracy: 0.8084 - val_loss: 0.4558 - val_accuracy: 0.8161\n",
      "Epoch 25/100\n",
      "26/26 [==============================] - 0s 16ms/step - loss: 0.4546 - accuracy: 0.8158 - val_loss: 0.4510 - val_accuracy: 0.8190\n",
      "Epoch 26/100\n",
      "26/26 [==============================] - 0s 15ms/step - loss: 0.4585 - accuracy: 0.8245 - val_loss: 0.4523 - val_accuracy: 0.8103\n",
      "Epoch 27/100\n",
      "26/26 [==============================] - 0s 15ms/step - loss: 0.4589 - accuracy: 0.8146 - val_loss: 0.4465 - val_accuracy: 0.8190\n",
      "Epoch 28/100\n",
      "26/26 [==============================] - 0s 15ms/step - loss: 0.4549 - accuracy: 0.8158 - val_loss: 0.4387 - val_accuracy: 0.8247\n",
      "Epoch 29/100\n",
      "26/26 [==============================] - 0s 15ms/step - loss: 0.4314 - accuracy: 0.8307 - val_loss: 0.4369 - val_accuracy: 0.8218\n",
      "Epoch 30/100\n",
      "26/26 [==============================] - 0s 16ms/step - loss: 0.4480 - accuracy: 0.8245 - val_loss: 0.4346 - val_accuracy: 0.8218\n",
      "Epoch 31/100\n",
      "26/26 [==============================] - 0s 16ms/step - loss: 0.4280 - accuracy: 0.8220 - val_loss: 0.4305 - val_accuracy: 0.8305\n",
      "Epoch 32/100\n",
      "26/26 [==============================] - 0s 16ms/step - loss: 0.4211 - accuracy: 0.8443 - val_loss: 0.4316 - val_accuracy: 0.8247\n",
      "Epoch 33/100\n",
      "26/26 [==============================] - 0s 15ms/step - loss: 0.4211 - accuracy: 0.8344 - val_loss: 0.4296 - val_accuracy: 0.8218\n",
      "Epoch 34/100\n",
      "26/26 [==============================] - 0s 15ms/step - loss: 0.4141 - accuracy: 0.8418 - val_loss: 0.4251 - val_accuracy: 0.8333\n",
      "Epoch 35/100\n",
      "26/26 [==============================] - 0s 16ms/step - loss: 0.4374 - accuracy: 0.8220 - val_loss: 0.4212 - val_accuracy: 0.8362\n",
      "Epoch 36/100\n",
      "26/26 [==============================] - 0s 16ms/step - loss: 0.4253 - accuracy: 0.8294 - val_loss: 0.4211 - val_accuracy: 0.8305\n",
      "Epoch 37/100\n",
      "26/26 [==============================] - 0s 15ms/step - loss: 0.4282 - accuracy: 0.8356 - val_loss: 0.4198 - val_accuracy: 0.8305\n",
      "Epoch 38/100\n",
      "26/26 [==============================] - 0s 16ms/step - loss: 0.4358 - accuracy: 0.8158 - val_loss: 0.4168 - val_accuracy: 0.8276\n",
      "Epoch 39/100\n",
      "26/26 [==============================] - 0s 15ms/step - loss: 0.4168 - accuracy: 0.8269 - val_loss: 0.4165 - val_accuracy: 0.8305\n",
      "Epoch 40/100\n",
      "26/26 [==============================] - 0s 16ms/step - loss: 0.4054 - accuracy: 0.8381 - val_loss: 0.4098 - val_accuracy: 0.8362\n",
      "Epoch 41/100\n",
      "26/26 [==============================] - 0s 15ms/step - loss: 0.3880 - accuracy: 0.8480 - val_loss: 0.4080 - val_accuracy: 0.8333\n",
      "Epoch 42/100\n",
      "26/26 [==============================] - 0s 16ms/step - loss: 0.4014 - accuracy: 0.8492 - val_loss: 0.4051 - val_accuracy: 0.8333\n",
      "Epoch 43/100\n",
      "26/26 [==============================] - 0s 17ms/step - loss: 0.3991 - accuracy: 0.8356 - val_loss: 0.4002 - val_accuracy: 0.8391\n",
      "Epoch 44/100\n",
      "26/26 [==============================] - 0s 15ms/step - loss: 0.3991 - accuracy: 0.8405 - val_loss: 0.3985 - val_accuracy: 0.8362\n",
      "Epoch 45/100\n",
      "26/26 [==============================] - 0s 16ms/step - loss: 0.3790 - accuracy: 0.8554 - val_loss: 0.3949 - val_accuracy: 0.8362\n",
      "Epoch 46/100\n",
      "26/26 [==============================] - 0s 16ms/step - loss: 0.3718 - accuracy: 0.8455 - val_loss: 0.3913 - val_accuracy: 0.8391\n",
      "Epoch 47/100\n",
      "26/26 [==============================] - 0s 15ms/step - loss: 0.3920 - accuracy: 0.8430 - val_loss: 0.3888 - val_accuracy: 0.8391\n",
      "Epoch 48/100\n",
      "26/26 [==============================] - 0s 16ms/step - loss: 0.3768 - accuracy: 0.8381 - val_loss: 0.3889 - val_accuracy: 0.8276\n",
      "Epoch 49/100\n",
      "26/26 [==============================] - 0s 15ms/step - loss: 0.3878 - accuracy: 0.8307 - val_loss: 0.3929 - val_accuracy: 0.8218\n",
      "Epoch 50/100\n",
      "26/26 [==============================] - 0s 15ms/step - loss: 0.3752 - accuracy: 0.8541 - val_loss: 0.3845 - val_accuracy: 0.8362\n",
      "Epoch 51/100\n",
      "26/26 [==============================] - 0s 15ms/step - loss: 0.3924 - accuracy: 0.8430 - val_loss: 0.3773 - val_accuracy: 0.8305\n",
      "Epoch 52/100\n",
      "26/26 [==============================] - 0s 15ms/step - loss: 0.3772 - accuracy: 0.8467 - val_loss: 0.3761 - val_accuracy: 0.8333\n",
      "Epoch 53/100\n",
      "26/26 [==============================] - 0s 15ms/step - loss: 0.3590 - accuracy: 0.8492 - val_loss: 0.3747 - val_accuracy: 0.8362\n",
      "Epoch 54/100\n",
      "26/26 [==============================] - 0s 15ms/step - loss: 0.4071 - accuracy: 0.8183 - val_loss: 0.3716 - val_accuracy: 0.8391\n",
      "Epoch 55/100\n",
      "26/26 [==============================] - 0s 15ms/step - loss: 0.4057 - accuracy: 0.8455 - val_loss: 0.3661 - val_accuracy: 0.8362\n",
      "Epoch 56/100\n",
      "26/26 [==============================] - 0s 15ms/step - loss: 0.3706 - accuracy: 0.8455 - val_loss: 0.3646 - val_accuracy: 0.8391\n",
      "Epoch 57/100\n",
      "26/26 [==============================] - 0s 15ms/step - loss: 0.3348 - accuracy: 0.8616 - val_loss: 0.3650 - val_accuracy: 0.8333\n",
      "Epoch 58/100\n",
      "26/26 [==============================] - 0s 16ms/step - loss: 0.3727 - accuracy: 0.8331 - val_loss: 0.3584 - val_accuracy: 0.8420\n",
      "Epoch 59/100\n",
      "26/26 [==============================] - 0s 15ms/step - loss: 0.3471 - accuracy: 0.8529 - val_loss: 0.3581 - val_accuracy: 0.8420\n",
      "Epoch 60/100\n",
      "26/26 [==============================] - 0s 17ms/step - loss: 0.3485 - accuracy: 0.8591 - val_loss: 0.3582 - val_accuracy: 0.8333\n",
      "Epoch 61/100\n",
      "26/26 [==============================] - 0s 15ms/step - loss: 0.3449 - accuracy: 0.8616 - val_loss: 0.3531 - val_accuracy: 0.8391\n",
      "Epoch 62/100\n",
      "26/26 [==============================] - 0s 15ms/step - loss: 0.3457 - accuracy: 0.8640 - val_loss: 0.3501 - val_accuracy: 0.8391\n",
      "Epoch 63/100\n",
      "26/26 [==============================] - 0s 15ms/step - loss: 0.3486 - accuracy: 0.8541 - val_loss: 0.3518 - val_accuracy: 0.8391\n",
      "Epoch 64/100\n",
      "26/26 [==============================] - 0s 15ms/step - loss: 0.3664 - accuracy: 0.8480 - val_loss: 0.3454 - val_accuracy: 0.8391\n",
      "Epoch 65/100\n",
      "26/26 [==============================] - 0s 15ms/step - loss: 0.3416 - accuracy: 0.8554 - val_loss: 0.3445 - val_accuracy: 0.8448\n",
      "Epoch 66/100\n",
      "26/26 [==============================] - 0s 15ms/step - loss: 0.3427 - accuracy: 0.8517 - val_loss: 0.3442 - val_accuracy: 0.8448\n",
      "Epoch 67/100\n",
      "26/26 [==============================] - 0s 15ms/step - loss: 0.3431 - accuracy: 0.8578 - val_loss: 0.3437 - val_accuracy: 0.8420\n",
      "Epoch 68/100\n",
      "26/26 [==============================] - 0s 15ms/step - loss: 0.3444 - accuracy: 0.8653 - val_loss: 0.3436 - val_accuracy: 0.8362\n",
      "Epoch 69/100\n",
      "26/26 [==============================] - 0s 15ms/step - loss: 0.3438 - accuracy: 0.8480 - val_loss: 0.3399 - val_accuracy: 0.8420\n",
      "Epoch 70/100\n",
      "26/26 [==============================] - 0s 15ms/step - loss: 0.3304 - accuracy: 0.8702 - val_loss: 0.3401 - val_accuracy: 0.8420\n",
      "Epoch 71/100\n",
      "26/26 [==============================] - 0s 15ms/step - loss: 0.3520 - accuracy: 0.8566 - val_loss: 0.3412 - val_accuracy: 0.8534\n",
      "Epoch 72/100\n",
      "26/26 [==============================] - 0s 15ms/step - loss: 0.3042 - accuracy: 0.8739 - val_loss: 0.3397 - val_accuracy: 0.8506\n",
      "Epoch 73/100\n",
      "26/26 [==============================] - 0s 16ms/step - loss: 0.3230 - accuracy: 0.8591 - val_loss: 0.3354 - val_accuracy: 0.8506\n",
      "Epoch 74/100\n",
      "26/26 [==============================] - 0s 17ms/step - loss: 0.3403 - accuracy: 0.8541 - val_loss: 0.3302 - val_accuracy: 0.8592\n",
      "Epoch 75/100\n",
      "26/26 [==============================] - 0s 19ms/step - loss: 0.3364 - accuracy: 0.8554 - val_loss: 0.3279 - val_accuracy: 0.8592\n",
      "Epoch 76/100\n",
      "26/26 [==============================] - 0s 16ms/step - loss: 0.3334 - accuracy: 0.8628 - val_loss: 0.3281 - val_accuracy: 0.8736\n",
      "Epoch 77/100\n",
      "26/26 [==============================] - 0s 16ms/step - loss: 0.3092 - accuracy: 0.8739 - val_loss: 0.3265 - val_accuracy: 0.8563\n",
      "Epoch 78/100\n",
      "26/26 [==============================] - 0s 18ms/step - loss: 0.3142 - accuracy: 0.8739 - val_loss: 0.3226 - val_accuracy: 0.8649\n",
      "Epoch 79/100\n",
      "26/26 [==============================] - 0s 15ms/step - loss: 0.3263 - accuracy: 0.8677 - val_loss: 0.3185 - val_accuracy: 0.8592\n",
      "Epoch 80/100\n",
      "26/26 [==============================] - 0s 18ms/step - loss: 0.3070 - accuracy: 0.8813 - val_loss: 0.3189 - val_accuracy: 0.8678\n",
      "Epoch 81/100\n",
      "26/26 [==============================] - 0s 18ms/step - loss: 0.2942 - accuracy: 0.8826 - val_loss: 0.3179 - val_accuracy: 0.8621\n",
      "Epoch 82/100\n",
      "26/26 [==============================] - 0s 16ms/step - loss: 0.3175 - accuracy: 0.8665 - val_loss: 0.3144 - val_accuracy: 0.8678\n",
      "Epoch 83/100\n",
      "26/26 [==============================] - 0s 17ms/step - loss: 0.3268 - accuracy: 0.8541 - val_loss: 0.3179 - val_accuracy: 0.8678\n",
      "Epoch 84/100\n",
      "26/26 [==============================] - 0s 16ms/step - loss: 0.3039 - accuracy: 0.8801 - val_loss: 0.3188 - val_accuracy: 0.8621\n",
      "Epoch 85/100\n",
      "26/26 [==============================] - 0s 15ms/step - loss: 0.2877 - accuracy: 0.8813 - val_loss: 0.3151 - val_accuracy: 0.8678\n",
      "Epoch 86/100\n",
      "26/26 [==============================] - 0s 15ms/step - loss: 0.3397 - accuracy: 0.8554 - val_loss: 0.3126 - val_accuracy: 0.8764\n",
      "Epoch 87/100\n",
      "26/26 [==============================] - 0s 16ms/step - loss: 0.3349 - accuracy: 0.8665 - val_loss: 0.3109 - val_accuracy: 0.8707\n",
      "Epoch 88/100\n",
      "26/26 [==============================] - 0s 15ms/step - loss: 0.3012 - accuracy: 0.8727 - val_loss: 0.3102 - val_accuracy: 0.8736\n",
      "Epoch 89/100\n",
      "26/26 [==============================] - 0s 15ms/step - loss: 0.3031 - accuracy: 0.8764 - val_loss: 0.3057 - val_accuracy: 0.8707\n",
      "Epoch 90/100\n",
      "26/26 [==============================] - 0s 15ms/step - loss: 0.3130 - accuracy: 0.8813 - val_loss: 0.3060 - val_accuracy: 0.8707\n",
      "Epoch 91/100\n",
      "26/26 [==============================] - 0s 15ms/step - loss: 0.2854 - accuracy: 0.8875 - val_loss: 0.3036 - val_accuracy: 0.8764\n",
      "Epoch 92/100\n",
      "26/26 [==============================] - 0s 15ms/step - loss: 0.3075 - accuracy: 0.8752 - val_loss: 0.3045 - val_accuracy: 0.8736\n",
      "Epoch 93/100\n",
      "26/26 [==============================] - 0s 15ms/step - loss: 0.3116 - accuracy: 0.8554 - val_loss: 0.3018 - val_accuracy: 0.8707\n",
      "Epoch 94/100\n",
      "26/26 [==============================] - 0s 15ms/step - loss: 0.3137 - accuracy: 0.8764 - val_loss: 0.3008 - val_accuracy: 0.8707\n",
      "Epoch 95/100\n",
      "26/26 [==============================] - 0s 15ms/step - loss: 0.2889 - accuracy: 0.8739 - val_loss: 0.2996 - val_accuracy: 0.8736\n",
      "Epoch 96/100\n",
      "26/26 [==============================] - 0s 15ms/step - loss: 0.2840 - accuracy: 0.8888 - val_loss: 0.2985 - val_accuracy: 0.8764\n",
      "Epoch 97/100\n",
      "26/26 [==============================] - 0s 15ms/step - loss: 0.3045 - accuracy: 0.8739 - val_loss: 0.2950 - val_accuracy: 0.8736\n",
      "Epoch 98/100\n",
      "26/26 [==============================] - 0s 15ms/step - loss: 0.2804 - accuracy: 0.8875 - val_loss: 0.2904 - val_accuracy: 0.8764\n",
      "Epoch 99/100\n",
      "26/26 [==============================] - 0s 15ms/step - loss: 0.3101 - accuracy: 0.8727 - val_loss: 0.2891 - val_accuracy: 0.8793\n",
      "Epoch 100/100\n",
      "26/26 [==============================] - 0s 15ms/step - loss: 0.3176 - accuracy: 0.8752 - val_loss: 0.2856 - val_accuracy: 0.8736\n"
     ]
    }
   ],
   "source": [
    "ctrain1=cmodel1.fit(X_train,y_train,validation_split=0.3,epochs=100,callbacks=[callback_c1],verbose=1)"
   ]
  },
  {
   "cell_type": "code",
   "execution_count": 73,
   "metadata": {},
   "outputs": [
    {
     "data": {
      "image/png": "[encoded data removed]",
      "text/plain": [
       "<Figure size 432x288 with 1 Axes>"
      ]
     },
     "metadata": {},
     "output_type": "display_data"
    }
   ],
   "source": [
    "plt.plot(ctrain1.history['accuracy' ])\n",
    "plt.plot(ctrain1.history['val_accuracy'])\n",
    "plt.plot(ctrain1.history['loss'])\n",
    "plt.plot(ctrain1.history['val_loss'])\n",
    "plt.legend(['train acc', 'valid acc', 'train loss', 'valid loss'], loc = 'upper left')\n",
    "plt.show()"
   ]
  },
  {
   "cell_type": "markdown",
   "metadata": {},
   "source": [
    "### Test Accuracy"
   ]
  },
  {
   "cell_type": "code",
   "execution_count": 75,
   "metadata": {},
   "outputs": [
    {
     "name": "stdout",
     "output_type": "stream",
     "text": [
      "18/18 [==============================] - 0s 8ms/step - loss: 0.2211 - accuracy: 0.9018\n",
      "Test Accuracy is: 90.1754379272461%\n"
     ]
    }
   ],
   "source": [
    "cmodel_out1=cmodel1.evaluate(X_test,y_test)\n",
    "print(f\"Test Accuracy is: {cmodel_out1[1]*100}%\")"
   ]
  },
  {
   "cell_type": "markdown",
   "metadata": {},
   "source": [
    "### Print Confusion Matrix"
   ]
  },
  {
   "cell_type": "code",
   "execution_count": 77,
   "metadata": {},
   "outputs": [],
   "source": [
    "def cprint_conf(model):\n",
    "    labels=y_test\n",
    "    y_pred=model.predict(X_test)\n",
    "    diffmatrix = confusion_matrix(labels.argmax(axis=1), y_pred.argmax(axis=1))\n",
    "    return diffmatrix"
   ]
  },
  {
   "cell_type": "code",
   "execution_count": 79,
   "metadata": {},
   "outputs": [],
   "source": [
    "car_cm1=cprint_conf(cmodel1)"
   ]
  },
  {
   "cell_type": "code",
   "execution_count": 80,
   "metadata": {},
   "outputs": [
    {
     "data": {
      "text/plain": [
       "array([[117,   4,   6,   0],\n",
       "       [  7,  11,   0,   0],\n",
       "       [ 13,   0, 386,   0],\n",
       "       [ 13,  13,   0,   0]], dtype=int64)"
      ]
     },
     "execution_count": 80,
     "metadata": {},
     "output_type": "execute_result"
    }
   ],
   "source": [
    "car_cm1"
   ]
  },
  {
   "cell_type": "code",
   "execution_count": 81,
   "metadata": {},
   "outputs": [
    {
     "data": {
      "image/png": "[encoded data removed]",
      "text/plain": [
       "<Figure size 720x720 with 2 Axes>"
      ]
     },
     "metadata": {},
     "output_type": "display_data"
    }
   ],
   "source": [
    "matrix(car_cm1)"
   ]
  },
  {
   "cell_type": "markdown",
   "metadata": {},
   "source": [
    "### 2) Ensemble Learning model using Voting Classifier"
   ]
  },
  {
   "cell_type": "code",
   "execution_count": 82,
   "metadata": {},
   "outputs": [],
   "source": [
    "y_train=np.argmax(y_train,axis=1)"
   ]
  },
  {
   "cell_type": "code",
   "execution_count": 83,
   "metadata": {},
   "outputs": [
    {
     "data": {
      "text/plain": [
       "array([2, 2, 2, ..., 2, 2, 0], dtype=int64)"
      ]
     },
     "execution_count": 83,
     "metadata": {},
     "output_type": "execute_result"
    }
   ],
   "source": [
    "y_train"
   ]
  },
  {
   "cell_type": "code",
   "execution_count": 84,
   "metadata": {},
   "outputs": [
    {
     "data": {
      "text/plain": [
       "array([2, 2, 2, 0, 2, 0, 2, 2, 2, 2, 3, 2, 2, 2, 2, 2, 2, 2, 2, 0, 2, 2,\n",
       "       0, 2, 2, 0, 2, 2, 2, 2, 0, 2, 2, 1, 2, 2, 1, 2, 2, 3, 0, 0, 2, 2,\n",
       "       0, 3, 2, 2, 2, 2, 2, 2, 0, 0, 2, 2, 2, 2, 2, 0, 2, 2, 2, 2, 2, 3,\n",
       "       2, 2, 1, 2, 3, 0, 2, 2, 2, 0, 2, 2, 2, 2, 3, 2, 2, 0, 2, 0, 2, 2,\n",
       "       0, 0, 2, 1, 2, 2, 2, 2, 2, 2, 2, 0, 2, 2, 2, 2, 2, 1, 0, 2, 2, 0,\n",
       "       2, 0, 2, 2, 0, 2, 2, 2, 2, 2, 2, 0, 2, 0, 0, 2, 0, 2, 2, 2, 2, 2,\n",
       "       2, 2, 2, 2, 2, 2, 2, 2, 2, 0, 2, 0, 2, 0, 2, 2, 0, 2, 0, 3, 2, 2,\n",
       "       2, 2, 2, 2, 2, 2, 0, 0, 2, 3, 2, 3, 0, 0, 2, 3, 0, 2, 3, 2, 0, 0,\n",
       "       3, 2, 0, 2, 0, 2, 2, 0, 1, 2, 2, 2, 2, 2, 2, 0, 0, 2, 2, 2, 0, 2,\n",
       "       2, 2, 2, 2, 2, 3, 2, 0, 2, 0, 2, 1, 2, 2, 0, 2, 2, 2, 2, 2, 2, 0,\n",
       "       3, 2, 2, 0, 1, 0, 0, 0, 2, 2, 0, 2, 2, 2, 0, 2, 0, 2, 2, 2, 2, 2,\n",
       "       2, 2, 2, 2, 2, 2, 2, 2, 2, 2, 2, 0, 0, 2, 2, 2, 2, 2, 0, 2, 1, 2,\n",
       "       2, 2, 0, 0, 2, 2, 2, 2, 0, 2, 0, 0, 2, 1, 2, 2, 2, 1, 2, 0, 1, 0,\n",
       "       2, 1, 3, 2, 1, 2, 2, 2, 0, 3, 2, 2, 2, 2, 0, 0, 2, 2, 2, 2, 2, 2,\n",
       "       0, 2, 3, 2, 2, 2, 2, 0, 0, 0, 2, 2, 0, 2, 2, 2, 2, 2, 1, 0, 2, 2,\n",
       "       2, 2, 2, 2, 2, 2, 2, 0, 2, 0, 2, 2, 2, 2, 2, 2, 2, 2, 2, 2, 2, 0,\n",
       "       0, 2, 0, 2, 2, 2, 3, 2, 2, 2, 0, 0, 0, 2, 3, 0, 2, 0, 2, 3, 2, 0,\n",
       "       2, 2, 2, 0, 2, 0, 0, 2, 0, 2, 2, 2, 0, 2, 2, 2, 2, 0, 0, 2, 2, 2,\n",
       "       2, 0, 0, 2, 2, 2, 2, 2, 2, 0, 2, 2, 2, 2, 2, 2, 0, 0, 0, 0, 3, 0,\n",
       "       2, 2, 2, 0, 0, 0, 2, 2, 2, 2, 0, 2, 1, 2, 2, 2, 0, 0, 2, 2, 2, 2,\n",
       "       2, 0, 2, 2, 2, 2, 2, 2, 2, 0, 2, 3, 2, 2, 2, 2, 2, 0, 3, 2, 2, 2,\n",
       "       2, 2, 2, 2, 2, 2, 0, 2, 2, 2, 2, 2, 2, 0, 2, 2, 2, 2, 2, 2, 0, 2,\n",
       "       2, 0, 2, 2, 2, 2, 2, 2, 2, 2, 2, 2, 2, 2, 2, 2, 2, 2, 0, 2, 0, 2,\n",
       "       0, 2, 2, 2, 2, 2, 0, 2, 2, 2, 2, 2, 1, 3, 2, 0, 0, 2, 2, 2, 2, 0,\n",
       "       0, 2, 0, 2, 2, 2, 0, 2, 3, 2, 2, 2, 2, 2, 2, 3, 2, 2, 2, 2, 0, 2,\n",
       "       2, 0, 0, 2, 2, 2, 2, 2, 2, 2, 2, 1, 2, 2, 2, 2, 2, 2, 2, 2],\n",
       "      dtype=int64)"
      ]
     },
     "execution_count": 84,
     "metadata": {},
     "output_type": "execute_result"
    }
   ],
   "source": [
    "y_test=np.argmax(y_test,axis=1)\n",
    "y_test"
   ]
  },
  {
   "cell_type": "code",
   "execution_count": 97,
   "metadata": {},
   "outputs": [],
   "source": [
    "ecallback1 = [TerminateOnBaseline()]"
   ]
  },
  {
   "cell_type": "markdown",
   "metadata": {},
   "source": [
    "### Intializing 3 models for Ensemble learning"
   ]
  },
  {
   "cell_type": "code",
   "execution_count": 98,
   "metadata": {},
   "outputs": [],
   "source": [
    "emodel7=KerasClassifier(build_fn=car_model,epochs=100,validation_split=0.3,callbacks=[ecallback1],verbose=1)\n",
    "emodel8=KerasClassifier(build_fn=car_model,epochs=100,validation_split=0.3,callbacks=[ecallback1],verbose=1)\n",
    "emodel9=KerasClassifier(build_fn=car_model,epochs=100,validation_split=0.3,callbacks=[ecallback1],verbose=1)\n",
    "emodel7._estimator_type=\"classifier\"\n",
    "emodel8._estimator_type=\"classifier\"\n",
    "emodel9._estimator_type=\"classifier\""
   ]
  },
  {
   "cell_type": "code",
   "execution_count": 99,
   "metadata": {},
   "outputs": [],
   "source": [
    "ensemble3=VotingClassifier(estimators=[('model1',emodel7),('model2',emodel8),('model3',emodel9)],voting='soft')"
   ]
  },
  {
   "cell_type": "code",
   "execution_count": 100,
   "metadata": {},
   "outputs": [
    {
     "name": "stdout",
     "output_type": "stream",
     "text": [
      "Epoch 1/100\n",
      "26/26 [==============================] - 2s 33ms/step - loss: 1.3295 - accuracy: 0.2991 - val_loss: 1.1008 - val_accuracy: 0.6667\n",
      "Epoch 2/100\n",
      "26/26 [==============================] - 1s 20ms/step - loss: 0.9455 - accuracy: 0.6836 - val_loss: 0.9391 - val_accuracy: 0.6667\n",
      "Epoch 3/100\n",
      "26/26 [==============================] - 1s 20ms/step - loss: 0.8491 - accuracy: 0.7206 - val_loss: 0.9032 - val_accuracy: 0.6667\n",
      "Epoch 4/100\n",
      "26/26 [==============================] - 1s 20ms/step - loss: 0.8025 - accuracy: 0.7108 - val_loss: 0.8804 - val_accuracy: 0.6667\n",
      "Epoch 5/100\n",
      "26/26 [==============================] - 0s 19ms/step - loss: 0.7674 - accuracy: 0.7206 - val_loss: 0.8489 - val_accuracy: 0.6667\n",
      "Epoch 6/100\n",
      "26/26 [==============================] - 0s 19ms/step - loss: 0.7064 - accuracy: 0.7342 - val_loss: 0.7941 - val_accuracy: 0.6667\n",
      "Epoch 7/100\n",
      "26/26 [==============================] - 0s 17ms/step - loss: 0.6671 - accuracy: 0.7194 - val_loss: 0.7430 - val_accuracy: 0.7730\n",
      "Epoch 8/100\n",
      "26/26 [==============================] - 0s 16ms/step - loss: 0.6258 - accuracy: 0.7503 - val_loss: 0.6913 - val_accuracy: 0.7989\n",
      "Epoch 9/100\n",
      "26/26 [==============================] - 0s 18ms/step - loss: 0.6204 - accuracy: 0.7429 - val_loss: 0.6459 - val_accuracy: 0.7874\n",
      "Epoch 10/100\n",
      "26/26 [==============================] - 0s 16ms/step - loss: 0.5832 - accuracy: 0.7849 - val_loss: 0.6224 - val_accuracy: 0.7787\n",
      "Epoch 11/100\n",
      "26/26 [==============================] - 0s 16ms/step - loss: 0.5503 - accuracy: 0.7837 - val_loss: 0.5954 - val_accuracy: 0.7759\n",
      "Epoch 12/100\n",
      "26/26 [==============================] - 0s 16ms/step - loss: 0.5425 - accuracy: 0.7960 - val_loss: 0.5822 - val_accuracy: 0.7759\n",
      "Epoch 13/100\n",
      "26/26 [==============================] - 0s 16ms/step - loss: 0.5291 - accuracy: 0.7948 - val_loss: 0.5627 - val_accuracy: 0.7845\n",
      "Epoch 14/100\n",
      "26/26 [==============================] - 0s 16ms/step - loss: 0.5270 - accuracy: 0.7886 - val_loss: 0.5420 - val_accuracy: 0.7989\n",
      "Epoch 15/100\n",
      "26/26 [==============================] - 0s 16ms/step - loss: 0.5226 - accuracy: 0.8072 - val_loss: 0.5322 - val_accuracy: 0.7989\n",
      "Epoch 16/100\n",
      "26/26 [==============================] - 0s 16ms/step - loss: 0.5153 - accuracy: 0.7960 - val_loss: 0.5201 - val_accuracy: 0.7960\n",
      "Epoch 17/100\n",
      "26/26 [==============================] - 0s 16ms/step - loss: 0.5029 - accuracy: 0.8035 - val_loss: 0.5050 - val_accuracy: 0.8017\n",
      "Epoch 18/100\n",
      "26/26 [==============================] - 0s 15ms/step - loss: 0.4791 - accuracy: 0.8121 - val_loss: 0.4981 - val_accuracy: 0.8161\n",
      "Epoch 19/100\n",
      "26/26 [==============================] - 0s 17ms/step - loss: 0.4700 - accuracy: 0.8220 - val_loss: 0.4822 - val_accuracy: 0.8247\n",
      "Epoch 20/100\n",
      "26/26 [==============================] - 0s 18ms/step - loss: 0.4892 - accuracy: 0.8035 - val_loss: 0.4763 - val_accuracy: 0.8333\n",
      "Epoch 21/100\n",
      "26/26 [==============================] - 0s 17ms/step - loss: 0.4599 - accuracy: 0.8059 - val_loss: 0.4708 - val_accuracy: 0.8247\n",
      "Epoch 22/100\n",
      "26/26 [==============================] - 0s 17ms/step - loss: 0.4626 - accuracy: 0.8171 - val_loss: 0.4675 - val_accuracy: 0.8218\n",
      "Epoch 23/100\n",
      "26/26 [==============================] - 0s 16ms/step - loss: 0.4595 - accuracy: 0.8183 - val_loss: 0.4620 - val_accuracy: 0.8276\n",
      "Epoch 24/100\n",
      "26/26 [==============================] - 1s 27ms/step - loss: 0.4834 - accuracy: 0.8133 - val_loss: 0.4537 - val_accuracy: 0.8276\n",
      "Epoch 25/100\n",
      "26/26 [==============================] - 1s 20ms/step - loss: 0.4340 - accuracy: 0.8282 - val_loss: 0.4493 - val_accuracy: 0.8305\n",
      "Epoch 26/100\n",
      "26/26 [==============================] - 0s 17ms/step - loss: 0.4516 - accuracy: 0.8257 - val_loss: 0.4512 - val_accuracy: 0.8333\n",
      "Epoch 27/100\n",
      "26/26 [==============================] - 0s 17ms/step - loss: 0.4406 - accuracy: 0.8158 - val_loss: 0.4479 - val_accuracy: 0.8305\n",
      "Epoch 28/100\n",
      "26/26 [==============================] - 0s 16ms/step - loss: 0.4406 - accuracy: 0.8282 - val_loss: 0.4441 - val_accuracy: 0.8362\n",
      "Epoch 29/100\n",
      "26/26 [==============================] - 1s 21ms/step - loss: 0.4393 - accuracy: 0.8393 - val_loss: 0.4381 - val_accuracy: 0.8305\n",
      "Epoch 30/100\n",
      "26/26 [==============================] - 0s 17ms/step - loss: 0.4274 - accuracy: 0.8282 - val_loss: 0.4358 - val_accuracy: 0.8247\n",
      "Epoch 31/100\n",
      "26/26 [==============================] - 0s 17ms/step - loss: 0.4168 - accuracy: 0.8368 - val_loss: 0.4345 - val_accuracy: 0.8333\n",
      "Epoch 32/100\n",
      "26/26 [==============================] - 0s 16ms/step - loss: 0.4187 - accuracy: 0.8294 - val_loss: 0.4323 - val_accuracy: 0.8333\n",
      "Epoch 33/100\n",
      "26/26 [==============================] - 1s 20ms/step - loss: 0.4320 - accuracy: 0.8245 - val_loss: 0.4259 - val_accuracy: 0.8362\n",
      "Epoch 34/100\n",
      "26/26 [==============================] - 0s 17ms/step - loss: 0.4249 - accuracy: 0.8294 - val_loss: 0.4217 - val_accuracy: 0.8333\n",
      "Epoch 35/100\n",
      "26/26 [==============================] - 0s 16ms/step - loss: 0.4219 - accuracy: 0.8331 - val_loss: 0.4198 - val_accuracy: 0.8362\n",
      "Epoch 36/100\n",
      "26/26 [==============================] - 0s 15ms/step - loss: 0.4210 - accuracy: 0.8368 - val_loss: 0.4159 - val_accuracy: 0.8333\n",
      "Epoch 37/100\n",
      "26/26 [==============================] - 0s 16ms/step - loss: 0.4097 - accuracy: 0.8245 - val_loss: 0.4153 - val_accuracy: 0.8333\n",
      "Epoch 38/100\n",
      "26/26 [==============================] - 0s 16ms/step - loss: 0.4189 - accuracy: 0.8257 - val_loss: 0.4145 - val_accuracy: 0.8305\n",
      "Epoch 39/100\n",
      "26/26 [==============================] - 0s 17ms/step - loss: 0.4115 - accuracy: 0.8307 - val_loss: 0.4122 - val_accuracy: 0.8333\n",
      "Epoch 40/100\n",
      "26/26 [==============================] - 0s 17ms/step - loss: 0.4031 - accuracy: 0.8405 - val_loss: 0.4057 - val_accuracy: 0.8276\n",
      "Epoch 41/100\n",
      "26/26 [==============================] - 0s 17ms/step - loss: 0.3937 - accuracy: 0.8418 - val_loss: 0.4017 - val_accuracy: 0.8218\n",
      "Epoch 42/100\n",
      "26/26 [==============================] - 0s 15ms/step - loss: 0.3725 - accuracy: 0.8455 - val_loss: 0.3942 - val_accuracy: 0.8305\n",
      "Epoch 43/100\n",
      "26/26 [==============================] - 0s 16ms/step - loss: 0.3931 - accuracy: 0.8430 - val_loss: 0.3909 - val_accuracy: 0.8333\n",
      "Epoch 44/100\n",
      "26/26 [==============================] - 0s 16ms/step - loss: 0.4153 - accuracy: 0.8319 - val_loss: 0.3885 - val_accuracy: 0.8420\n",
      "Epoch 45/100\n",
      "26/26 [==============================] - 0s 16ms/step - loss: 0.3990 - accuracy: 0.8430 - val_loss: 0.3865 - val_accuracy: 0.8391\n",
      "Epoch 46/100\n",
      "26/26 [==============================] - 0s 17ms/step - loss: 0.3775 - accuracy: 0.8541 - val_loss: 0.3825 - val_accuracy: 0.8420\n",
      "Epoch 47/100\n",
      "26/26 [==============================] - 0s 17ms/step - loss: 0.4002 - accuracy: 0.8245 - val_loss: 0.3804 - val_accuracy: 0.8391\n",
      "Epoch 48/100\n",
      "26/26 [==============================] - 0s 15ms/step - loss: 0.3930 - accuracy: 0.8257 - val_loss: 0.3778 - val_accuracy: 0.8420\n",
      "Epoch 49/100\n",
      "26/26 [==============================] - 0s 15ms/step - loss: 0.3885 - accuracy: 0.8393 - val_loss: 0.3753 - val_accuracy: 0.8362\n",
      "Epoch 50/100\n",
      "26/26 [==============================] - 0s 15ms/step - loss: 0.3599 - accuracy: 0.8504 - val_loss: 0.3752 - val_accuracy: 0.8391\n",
      "Epoch 51/100\n",
      "26/26 [==============================] - 0s 16ms/step - loss: 0.3434 - accuracy: 0.8566 - val_loss: 0.3717 - val_accuracy: 0.8362\n",
      "Epoch 52/100\n",
      "26/26 [==============================] - 0s 15ms/step - loss: 0.3689 - accuracy: 0.8467 - val_loss: 0.3704 - val_accuracy: 0.8362\n",
      "Epoch 53/100\n",
      "26/26 [==============================] - 0s 15ms/step - loss: 0.3773 - accuracy: 0.8393 - val_loss: 0.3646 - val_accuracy: 0.8391\n",
      "Epoch 54/100\n",
      "26/26 [==============================] - 0s 16ms/step - loss: 0.3616 - accuracy: 0.8529 - val_loss: 0.3608 - val_accuracy: 0.8362\n",
      "Epoch 55/100\n",
      "26/26 [==============================] - 0s 16ms/step - loss: 0.3406 - accuracy: 0.8541 - val_loss: 0.3593 - val_accuracy: 0.8391\n",
      "Epoch 56/100\n",
      "26/26 [==============================] - 0s 17ms/step - loss: 0.3659 - accuracy: 0.8443 - val_loss: 0.3576 - val_accuracy: 0.8391\n",
      "Epoch 57/100\n",
      "26/26 [==============================] - 0s 17ms/step - loss: 0.3543 - accuracy: 0.8467 - val_loss: 0.3540 - val_accuracy: 0.8362\n",
      "Epoch 58/100\n",
      "26/26 [==============================] - 0s 16ms/step - loss: 0.3703 - accuracy: 0.8504 - val_loss: 0.3502 - val_accuracy: 0.8362\n",
      "Epoch 59/100\n",
      "26/26 [==============================] - 0s 15ms/step - loss: 0.3530 - accuracy: 0.8554 - val_loss: 0.3509 - val_accuracy: 0.8362\n",
      "Epoch 60/100\n",
      "26/26 [==============================] - 0s 15ms/step - loss: 0.3448 - accuracy: 0.8566 - val_loss: 0.3470 - val_accuracy: 0.8420\n",
      "Epoch 61/100\n",
      "26/26 [==============================] - 0s 15ms/step - loss: 0.3853 - accuracy: 0.8381 - val_loss: 0.3458 - val_accuracy: 0.8420\n",
      "Epoch 62/100\n",
      "26/26 [==============================] - 0s 15ms/step - loss: 0.3391 - accuracy: 0.8603 - val_loss: 0.3456 - val_accuracy: 0.8420\n",
      "Epoch 63/100\n",
      "26/26 [==============================] - 0s 15ms/step - loss: 0.3235 - accuracy: 0.8677 - val_loss: 0.3452 - val_accuracy: 0.8391\n",
      "Epoch 64/100\n",
      "26/26 [==============================] - 0s 15ms/step - loss: 0.3666 - accuracy: 0.8480 - val_loss: 0.3420 - val_accuracy: 0.8420\n",
      "Epoch 65/100\n",
      "26/26 [==============================] - 0s 15ms/step - loss: 0.3488 - accuracy: 0.8702 - val_loss: 0.3390 - val_accuracy: 0.8420\n",
      "Epoch 66/100\n",
      "26/26 [==============================] - 0s 15ms/step - loss: 0.3472 - accuracy: 0.8517 - val_loss: 0.3335 - val_accuracy: 0.8477\n",
      "Epoch 67/100\n",
      "26/26 [==============================] - 0s 15ms/step - loss: 0.3159 - accuracy: 0.8653 - val_loss: 0.3291 - val_accuracy: 0.8563\n",
      "Epoch 68/100\n",
      "26/26 [==============================] - 0s 16ms/step - loss: 0.3492 - accuracy: 0.8554 - val_loss: 0.3269 - val_accuracy: 0.8678\n",
      "Epoch 69/100\n",
      "26/26 [==============================] - 0s 15ms/step - loss: 0.3538 - accuracy: 0.8418 - val_loss: 0.3246 - val_accuracy: 0.8678\n",
      "Epoch 70/100\n",
      "26/26 [==============================] - 0s 15ms/step - loss: 0.3219 - accuracy: 0.8677 - val_loss: 0.3243 - val_accuracy: 0.8707\n",
      "Epoch 71/100\n",
      "26/26 [==============================] - 0s 15ms/step - loss: 0.3262 - accuracy: 0.8640 - val_loss: 0.3251 - val_accuracy: 0.8736\n",
      "Epoch 72/100\n",
      "26/26 [==============================] - 0s 17ms/step - loss: 0.3253 - accuracy: 0.8677 - val_loss: 0.3238 - val_accuracy: 0.8592\n",
      "Epoch 73/100\n",
      "26/26 [==============================] - 0s 16ms/step - loss: 0.3167 - accuracy: 0.8714 - val_loss: 0.3224 - val_accuracy: 0.8707\n",
      "Epoch 74/100\n",
      "26/26 [==============================] - 0s 15ms/step - loss: 0.3343 - accuracy: 0.8640 - val_loss: 0.3213 - val_accuracy: 0.8736\n",
      "Epoch 75/100\n",
      "26/26 [==============================] - 0s 15ms/step - loss: 0.3263 - accuracy: 0.8665 - val_loss: 0.3191 - val_accuracy: 0.8707\n",
      "Epoch 76/100\n",
      "26/26 [==============================] - 0s 16ms/step - loss: 0.3164 - accuracy: 0.8690 - val_loss: 0.3160 - val_accuracy: 0.8707\n",
      "Epoch 77/100\n",
      "26/26 [==============================] - 0s 15ms/step - loss: 0.3504 - accuracy: 0.8504 - val_loss: 0.3151 - val_accuracy: 0.8793\n",
      "Epoch 78/100\n",
      "26/26 [==============================] - 0s 15ms/step - loss: 0.3308 - accuracy: 0.8665 - val_loss: 0.3114 - val_accuracy: 0.8736\n",
      "Epoch 79/100\n",
      "26/26 [==============================] - 0s 15ms/step - loss: 0.3215 - accuracy: 0.8690 - val_loss: 0.3088 - val_accuracy: 0.8678\n",
      "Epoch 80/100\n",
      "26/26 [==============================] - 0s 16ms/step - loss: 0.3130 - accuracy: 0.8603 - val_loss: 0.3096 - val_accuracy: 0.8592\n",
      "Epoch 81/100\n",
      "26/26 [==============================] - 0s 15ms/step - loss: 0.3086 - accuracy: 0.8727 - val_loss: 0.3095 - val_accuracy: 0.8649\n",
      "Epoch 82/100\n",
      "26/26 [==============================] - 0s 16ms/step - loss: 0.3126 - accuracy: 0.8739 - val_loss: 0.3090 - val_accuracy: 0.8764\n",
      "Epoch 83/100\n",
      "26/26 [==============================] - 0s 16ms/step - loss: 0.2995 - accuracy: 0.8714 - val_loss: 0.3061 - val_accuracy: 0.8707\n",
      "Epoch 84/100\n",
      "26/26 [==============================] - 0s 15ms/step - loss: 0.3114 - accuracy: 0.8603 - val_loss: 0.3078 - val_accuracy: 0.8793\n",
      "Epoch 85/100\n",
      "26/26 [==============================] - 0s 15ms/step - loss: 0.2978 - accuracy: 0.8776 - val_loss: 0.3044 - val_accuracy: 0.8822\n",
      "Epoch 86/100\n",
      "26/26 [==============================] - 0s 16ms/step - loss: 0.2889 - accuracy: 0.8850 - val_loss: 0.3018 - val_accuracy: 0.8851\n",
      "Epoch 87/100\n",
      "26/26 [==============================] - 0s 16ms/step - loss: 0.2886 - accuracy: 0.8912 - val_loss: 0.3030 - val_accuracy: 0.8793\n",
      "Epoch 88/100\n",
      "26/26 [==============================] - 0s 15ms/step - loss: 0.3223 - accuracy: 0.8677 - val_loss: 0.2984 - val_accuracy: 0.8822\n",
      "Epoch 89/100\n",
      "26/26 [==============================] - 0s 15ms/step - loss: 0.3050 - accuracy: 0.8789 - val_loss: 0.2971 - val_accuracy: 0.8851\n",
      "Epoch 90/100\n",
      "26/26 [==============================] - 0s 15ms/step - loss: 0.3129 - accuracy: 0.8714 - val_loss: 0.2955 - val_accuracy: 0.8822\n",
      "Epoch 91/100\n",
      "26/26 [==============================] - 0s 16ms/step - loss: 0.2882 - accuracy: 0.8875 - val_loss: 0.2948 - val_accuracy: 0.8764\n",
      "Epoch 92/100\n",
      "26/26 [==============================] - 0s 16ms/step - loss: 0.2749 - accuracy: 0.8925 - val_loss: 0.2934 - val_accuracy: 0.8764\n",
      "Epoch 93/100\n",
      "26/26 [==============================] - 0s 16ms/step - loss: 0.3064 - accuracy: 0.8690 - val_loss: 0.2917 - val_accuracy: 0.8764\n",
      "Epoch 94/100\n",
      "26/26 [==============================] - 0s 15ms/step - loss: 0.2860 - accuracy: 0.8937 - val_loss: 0.2927 - val_accuracy: 0.8764\n",
      "Epoch 95/100\n",
      "26/26 [==============================] - 0s 15ms/step - loss: 0.3478 - accuracy: 0.8529 - val_loss: 0.2888 - val_accuracy: 0.8793\n",
      "Epoch 96/100\n",
      "26/26 [==============================] - 0s 18ms/step - loss: 0.2945 - accuracy: 0.8727 - val_loss: 0.2873 - val_accuracy: 0.8764\n",
      "Epoch 97/100\n",
      "26/26 [==============================] - 0s 16ms/step - loss: 0.2868 - accuracy: 0.8838 - val_loss: 0.2860 - val_accuracy: 0.8793\n",
      "Epoch 98/100\n",
      "26/26 [==============================] - 0s 15ms/step - loss: 0.2935 - accuracy: 0.8752 - val_loss: 0.2850 - val_accuracy: 0.8822\n",
      "Epoch 99/100\n",
      "26/26 [==============================] - 0s 15ms/step - loss: 0.2728 - accuracy: 0.8925 - val_loss: 0.2817 - val_accuracy: 0.8822\n",
      "Epoch 100/100\n",
      "26/26 [==============================] - 0s 15ms/step - loss: 0.2835 - accuracy: 0.8888 - val_loss: 0.2826 - val_accuracy: 0.8822\n",
      "Epoch 1/100\n",
      "26/26 [==============================] - 2s 24ms/step - loss: 1.3234 - accuracy: 0.3548 - val_loss: 1.0610 - val_accuracy: 0.6667\n",
      "Epoch 2/100\n",
      "26/26 [==============================] - 0s 16ms/step - loss: 0.9660 - accuracy: 0.6613 - val_loss: 0.9327 - val_accuracy: 0.6667\n",
      "Epoch 3/100\n",
      "26/26 [==============================] - 0s 15ms/step - loss: 0.8135 - accuracy: 0.7244 - val_loss: 0.8914 - val_accuracy: 0.6667\n",
      "Epoch 4/100\n",
      "26/26 [==============================] - 0s 15ms/step - loss: 0.7490 - accuracy: 0.7182 - val_loss: 0.8450 - val_accuracy: 0.6667\n",
      "Epoch 5/100\n",
      "26/26 [==============================] - 0s 15ms/step - loss: 0.7103 - accuracy: 0.7404 - val_loss: 0.7812 - val_accuracy: 0.6667\n",
      "Epoch 6/100\n",
      "26/26 [==============================] - 0s 15ms/step - loss: 0.6502 - accuracy: 0.7565 - val_loss: 0.7049 - val_accuracy: 0.7098\n",
      "Epoch 7/100\n",
      "26/26 [==============================] - 0s 15ms/step - loss: 0.6171 - accuracy: 0.7651 - val_loss: 0.6363 - val_accuracy: 0.7701\n",
      "Epoch 8/100\n",
      "26/26 [==============================] - 0s 16ms/step - loss: 0.6039 - accuracy: 0.7689 - val_loss: 0.5816 - val_accuracy: 0.8161\n",
      "Epoch 9/100\n",
      "26/26 [==============================] - 0s 15ms/step - loss: 0.5827 - accuracy: 0.7664 - val_loss: 0.5450 - val_accuracy: 0.8218\n",
      "Epoch 10/100\n",
      "26/26 [==============================] - ETA: 0s - loss: 0.5580 - accuracy: 0.76 - 0s 15ms/step - loss: 0.5569 - accuracy: 0.7701 - val_loss: 0.5199 - val_accuracy: 0.8190\n",
      "Epoch 11/100\n",
      "26/26 [==============================] - 0s 16ms/step - loss: 0.5386 - accuracy: 0.7936 - val_loss: 0.4997 - val_accuracy: 0.8391\n",
      "Epoch 12/100\n",
      "26/26 [==============================] - 0s 16ms/step - loss: 0.5183 - accuracy: 0.8047 - val_loss: 0.4820 - val_accuracy: 0.8247\n",
      "Epoch 13/100\n",
      "26/26 [==============================] - 0s 15ms/step - loss: 0.5087 - accuracy: 0.8096 - val_loss: 0.4740 - val_accuracy: 0.8333\n",
      "Epoch 14/100\n",
      "26/26 [==============================] - 0s 16ms/step - loss: 0.5046 - accuracy: 0.7923 - val_loss: 0.4710 - val_accuracy: 0.8276\n",
      "Epoch 15/100\n",
      "26/26 [==============================] - 0s 15ms/step - loss: 0.5191 - accuracy: 0.7824 - val_loss: 0.4644 - val_accuracy: 0.8305\n",
      "Epoch 16/100\n",
      "26/26 [==============================] - 0s 15ms/step - loss: 0.4851 - accuracy: 0.8195 - val_loss: 0.4573 - val_accuracy: 0.8333\n",
      "Epoch 17/100\n",
      "26/26 [==============================] - 0s 15ms/step - loss: 0.4892 - accuracy: 0.8035 - val_loss: 0.4570 - val_accuracy: 0.8362\n",
      "Epoch 18/100\n",
      "26/26 [==============================] - 0s 15ms/step - loss: 0.4563 - accuracy: 0.8195 - val_loss: 0.4559 - val_accuracy: 0.8333\n",
      "Epoch 19/100\n",
      "26/26 [==============================] - 0s 16ms/step - loss: 0.4624 - accuracy: 0.8269 - val_loss: 0.4550 - val_accuracy: 0.8391\n",
      "Epoch 20/100\n",
      "26/26 [==============================] - 0s 17ms/step - loss: 0.4659 - accuracy: 0.8183 - val_loss: 0.4561 - val_accuracy: 0.8333\n",
      "Epoch 21/100\n",
      "26/26 [==============================] - 0s 15ms/step - loss: 0.4619 - accuracy: 0.8096 - val_loss: 0.4492 - val_accuracy: 0.8333\n",
      "Epoch 22/100\n",
      "26/26 [==============================] - 0s 16ms/step - loss: 0.4876 - accuracy: 0.8035 - val_loss: 0.4490 - val_accuracy: 0.8333\n",
      "Epoch 23/100\n",
      "26/26 [==============================] - 0s 15ms/step - loss: 0.4553 - accuracy: 0.8171 - val_loss: 0.4526 - val_accuracy: 0.8305\n",
      "Epoch 24/100\n",
      "26/26 [==============================] - 0s 15ms/step - loss: 0.4552 - accuracy: 0.8059 - val_loss: 0.4466 - val_accuracy: 0.8333\n",
      "Epoch 25/100\n",
      "26/26 [==============================] - 0s 15ms/step - loss: 0.4506 - accuracy: 0.8232 - val_loss: 0.4450 - val_accuracy: 0.8333\n",
      "Epoch 26/100\n",
      "26/26 [==============================] - 0s 16ms/step - loss: 0.4262 - accuracy: 0.8294 - val_loss: 0.4465 - val_accuracy: 0.8305\n",
      "Epoch 27/100\n",
      "26/26 [==============================] - 0s 15ms/step - loss: 0.4534 - accuracy: 0.8232 - val_loss: 0.4412 - val_accuracy: 0.8276\n",
      "Epoch 28/100\n",
      "26/26 [==============================] - 0s 16ms/step - loss: 0.4475 - accuracy: 0.8195 - val_loss: 0.4399 - val_accuracy: 0.8305\n",
      "Epoch 29/100\n",
      "26/26 [==============================] - 0s 16ms/step - loss: 0.4188 - accuracy: 0.8356 - val_loss: 0.4376 - val_accuracy: 0.8276\n",
      "Epoch 30/100\n",
      "26/26 [==============================] - 0s 16ms/step - loss: 0.4503 - accuracy: 0.8232 - val_loss: 0.4354 - val_accuracy: 0.8362\n",
      "Epoch 31/100\n",
      "26/26 [==============================] - 0s 16ms/step - loss: 0.4291 - accuracy: 0.8257 - val_loss: 0.4324 - val_accuracy: 0.8333\n",
      "Epoch 32/100\n",
      "26/26 [==============================] - 0s 15ms/step - loss: 0.4244 - accuracy: 0.8405 - val_loss: 0.4315 - val_accuracy: 0.8362\n",
      "Epoch 33/100\n",
      "26/26 [==============================] - 0s 15ms/step - loss: 0.4223 - accuracy: 0.8344 - val_loss: 0.4305 - val_accuracy: 0.8333\n",
      "Epoch 34/100\n",
      "26/26 [==============================] - 0s 15ms/step - loss: 0.4130 - accuracy: 0.8418 - val_loss: 0.4288 - val_accuracy: 0.8362\n",
      "Epoch 35/100\n",
      "26/26 [==============================] - 0s 15ms/step - loss: 0.4008 - accuracy: 0.8554 - val_loss: 0.4264 - val_accuracy: 0.8362\n",
      "Epoch 36/100\n",
      "26/26 [==============================] - 0s 16ms/step - loss: 0.4243 - accuracy: 0.8282 - val_loss: 0.4220 - val_accuracy: 0.8362\n",
      "Epoch 37/100\n",
      "26/26 [==============================] - 0s 16ms/step - loss: 0.4071 - accuracy: 0.8455 - val_loss: 0.4213 - val_accuracy: 0.8362\n",
      "Epoch 38/100\n",
      "26/26 [==============================] - 0s 15ms/step - loss: 0.3950 - accuracy: 0.8381 - val_loss: 0.4177 - val_accuracy: 0.8391\n",
      "Epoch 39/100\n",
      "26/26 [==============================] - 0s 16ms/step - loss: 0.4118 - accuracy: 0.8331 - val_loss: 0.4123 - val_accuracy: 0.8333\n",
      "Epoch 40/100\n",
      "26/26 [==============================] - 0s 15ms/step - loss: 0.3839 - accuracy: 0.8529 - val_loss: 0.4101 - val_accuracy: 0.8362\n",
      "Epoch 41/100\n",
      "26/26 [==============================] - 0s 16ms/step - loss: 0.3797 - accuracy: 0.8492 - val_loss: 0.4094 - val_accuracy: 0.8333\n",
      "Epoch 42/100\n",
      "26/26 [==============================] - 0s 16ms/step - loss: 0.3897 - accuracy: 0.8480 - val_loss: 0.4074 - val_accuracy: 0.8247\n",
      "Epoch 43/100\n",
      "26/26 [==============================] - 0s 15ms/step - loss: 0.3950 - accuracy: 0.8455 - val_loss: 0.4071 - val_accuracy: 0.8305\n",
      "Epoch 44/100\n",
      "26/26 [==============================] - 0s 15ms/step - loss: 0.3864 - accuracy: 0.8541 - val_loss: 0.4020 - val_accuracy: 0.8333\n",
      "Epoch 45/100\n",
      "26/26 [==============================] - 0s 17ms/step - loss: 0.4040 - accuracy: 0.8381 - val_loss: 0.4027 - val_accuracy: 0.8362\n",
      "Epoch 46/100\n",
      "26/26 [==============================] - 0s 15ms/step - loss: 0.3964 - accuracy: 0.8393 - val_loss: 0.3943 - val_accuracy: 0.8362\n",
      "Epoch 47/100\n",
      "26/26 [==============================] - 0s 16ms/step - loss: 0.3988 - accuracy: 0.8393 - val_loss: 0.3936 - val_accuracy: 0.8362\n",
      "Epoch 48/100\n",
      "26/26 [==============================] - 0s 15ms/step - loss: 0.4040 - accuracy: 0.8220 - val_loss: 0.3944 - val_accuracy: 0.8333\n",
      "Epoch 49/100\n",
      "26/26 [==============================] - 0s 15ms/step - loss: 0.3939 - accuracy: 0.8393 - val_loss: 0.3914 - val_accuracy: 0.8420\n",
      "Epoch 50/100\n",
      "26/26 [==============================] - 0s 15ms/step - loss: 0.3811 - accuracy: 0.8443 - val_loss: 0.3935 - val_accuracy: 0.8391\n",
      "Epoch 51/100\n",
      "26/26 [==============================] - 0s 17ms/step - loss: 0.4241 - accuracy: 0.8381 - val_loss: 0.3873 - val_accuracy: 0.8420\n",
      "Epoch 52/100\n",
      "26/26 [==============================] - 0s 16ms/step - loss: 0.4002 - accuracy: 0.8480 - val_loss: 0.3873 - val_accuracy: 0.8362\n",
      "Epoch 53/100\n",
      "26/26 [==============================] - 0s 17ms/step - loss: 0.3616 - accuracy: 0.8467 - val_loss: 0.3865 - val_accuracy: 0.8362\n",
      "Epoch 54/100\n",
      "26/26 [==============================] - 0s 15ms/step - loss: 0.3535 - accuracy: 0.8677 - val_loss: 0.3838 - val_accuracy: 0.8333\n",
      "Epoch 55/100\n",
      "26/26 [==============================] - 0s 15ms/step - loss: 0.3763 - accuracy: 0.8405 - val_loss: 0.3788 - val_accuracy: 0.8391\n",
      "Epoch 56/100\n",
      "26/26 [==============================] - 0s 15ms/step - loss: 0.3677 - accuracy: 0.8653 - val_loss: 0.3735 - val_accuracy: 0.8362\n",
      "Epoch 57/100\n",
      "26/26 [==============================] - 0s 16ms/step - loss: 0.3716 - accuracy: 0.8492 - val_loss: 0.3695 - val_accuracy: 0.8362\n",
      "Epoch 58/100\n",
      "26/26 [==============================] - 0s 15ms/step - loss: 0.3592 - accuracy: 0.8566 - val_loss: 0.3667 - val_accuracy: 0.8391\n",
      "Epoch 59/100\n",
      "26/26 [==============================] - 0s 15ms/step - loss: 0.3547 - accuracy: 0.8517 - val_loss: 0.3659 - val_accuracy: 0.8391\n",
      "Epoch 60/100\n",
      "26/26 [==============================] - 0s 15ms/step - loss: 0.3427 - accuracy: 0.8566 - val_loss: 0.3601 - val_accuracy: 0.8448\n",
      "Epoch 61/100\n",
      "26/26 [==============================] - 0s 15ms/step - loss: 0.3710 - accuracy: 0.8443 - val_loss: 0.3565 - val_accuracy: 0.8391\n",
      "Epoch 62/100\n",
      "26/26 [==============================] - 0s 15ms/step - loss: 0.3621 - accuracy: 0.8517 - val_loss: 0.3558 - val_accuracy: 0.8477\n",
      "Epoch 63/100\n",
      "26/26 [==============================] - 0s 16ms/step - loss: 0.3533 - accuracy: 0.8591 - val_loss: 0.3552 - val_accuracy: 0.8391\n",
      "Epoch 64/100\n",
      "26/26 [==============================] - 0s 15ms/step - loss: 0.3724 - accuracy: 0.8405 - val_loss: 0.3523 - val_accuracy: 0.8420\n",
      "Epoch 65/100\n",
      "26/26 [==============================] - 0s 15ms/step - loss: 0.3485 - accuracy: 0.8578 - val_loss: 0.3483 - val_accuracy: 0.8362\n",
      "Epoch 66/100\n",
      "26/26 [==============================] - 0s 15ms/step - loss: 0.3700 - accuracy: 0.8418 - val_loss: 0.3490 - val_accuracy: 0.8420\n",
      "Epoch 67/100\n",
      "26/26 [==============================] - 0s 15ms/step - loss: 0.3642 - accuracy: 0.8443 - val_loss: 0.3458 - val_accuracy: 0.8391\n",
      "Epoch 68/100\n",
      "26/26 [==============================] - 0s 14ms/step - loss: 0.3436 - accuracy: 0.8541 - val_loss: 0.3437 - val_accuracy: 0.8362\n",
      "Epoch 69/100\n",
      "26/26 [==============================] - 0s 17ms/step - loss: 0.3412 - accuracy: 0.8628 - val_loss: 0.3446 - val_accuracy: 0.8420\n",
      "Epoch 70/100\n",
      "26/26 [==============================] - 0s 15ms/step - loss: 0.3324 - accuracy: 0.8714 - val_loss: 0.3429 - val_accuracy: 0.8420\n",
      "Epoch 71/100\n",
      "26/26 [==============================] - 0s 16ms/step - loss: 0.3605 - accuracy: 0.8492 - val_loss: 0.3355 - val_accuracy: 0.8477\n",
      "Epoch 72/100\n",
      "26/26 [==============================] - 0s 15ms/step - loss: 0.3253 - accuracy: 0.8752 - val_loss: 0.3344 - val_accuracy: 0.8391\n",
      "Epoch 73/100\n",
      "26/26 [==============================] - 0s 15ms/step - loss: 0.3492 - accuracy: 0.8603 - val_loss: 0.3322 - val_accuracy: 0.8391\n",
      "Epoch 74/100\n",
      "26/26 [==============================] - 0s 15ms/step - loss: 0.3229 - accuracy: 0.8616 - val_loss: 0.3327 - val_accuracy: 0.8391\n",
      "Epoch 75/100\n",
      "26/26 [==============================] - 0s 15ms/step - loss: 0.3431 - accuracy: 0.8529 - val_loss: 0.3335 - val_accuracy: 0.8362\n",
      "Epoch 76/100\n",
      "26/26 [==============================] - 0s 15ms/step - loss: 0.3204 - accuracy: 0.8665 - val_loss: 0.3306 - val_accuracy: 0.8362\n",
      "Epoch 77/100\n",
      "26/26 [==============================] - 0s 15ms/step - loss: 0.3258 - accuracy: 0.8628 - val_loss: 0.3256 - val_accuracy: 0.8420\n",
      "Epoch 78/100\n",
      "26/26 [==============================] - 0s 15ms/step - loss: 0.3238 - accuracy: 0.8702 - val_loss: 0.3266 - val_accuracy: 0.8391\n",
      "Epoch 79/100\n",
      "26/26 [==============================] - 0s 15ms/step - loss: 0.2955 - accuracy: 0.8776 - val_loss: 0.3260 - val_accuracy: 0.8391\n",
      "Epoch 80/100\n",
      "26/26 [==============================] - 0s 15ms/step - loss: 0.3192 - accuracy: 0.8665 - val_loss: 0.3260 - val_accuracy: 0.8362\n",
      "Epoch 81/100\n",
      "26/26 [==============================] - 0s 15ms/step - loss: 0.3193 - accuracy: 0.8690 - val_loss: 0.3213 - val_accuracy: 0.8448\n",
      "Epoch 82/100\n",
      "26/26 [==============================] - 0s 15ms/step - loss: 0.3232 - accuracy: 0.8727 - val_loss: 0.3180 - val_accuracy: 0.8563\n",
      "Epoch 83/100\n",
      "26/26 [==============================] - 0s 15ms/step - loss: 0.3305 - accuracy: 0.8616 - val_loss: 0.3144 - val_accuracy: 0.8592\n",
      "Epoch 84/100\n",
      "26/26 [==============================] - 0s 16ms/step - loss: 0.3330 - accuracy: 0.8690 - val_loss: 0.3162 - val_accuracy: 0.8420\n",
      "Epoch 85/100\n",
      "26/26 [==============================] - 0s 16ms/step - loss: 0.3100 - accuracy: 0.8702 - val_loss: 0.3176 - val_accuracy: 0.8506\n",
      "Epoch 86/100\n",
      "26/26 [==============================] - 0s 15ms/step - loss: 0.3154 - accuracy: 0.8702 - val_loss: 0.3164 - val_accuracy: 0.8534\n",
      "Epoch 87/100\n",
      "26/26 [==============================] - 0s 15ms/step - loss: 0.3367 - accuracy: 0.8616 - val_loss: 0.3179 - val_accuracy: 0.8563\n",
      "Epoch 88/100\n",
      "26/26 [==============================] - 0s 15ms/step - loss: 0.3126 - accuracy: 0.8665 - val_loss: 0.3157 - val_accuracy: 0.8649\n",
      "Epoch 89/100\n",
      "26/26 [==============================] - 0s 15ms/step - loss: 0.3012 - accuracy: 0.8764 - val_loss: 0.3118 - val_accuracy: 0.8563\n",
      "Epoch 90/100\n",
      "26/26 [==============================] - 0s 15ms/step - loss: 0.3084 - accuracy: 0.8702 - val_loss: 0.3073 - val_accuracy: 0.8649\n",
      "Epoch 91/100\n",
      "26/26 [==============================] - 0s 17ms/step - loss: 0.3182 - accuracy: 0.8591 - val_loss: 0.3057 - val_accuracy: 0.8621\n",
      "Epoch 92/100\n",
      "26/26 [==============================] - 0s 17ms/step - loss: 0.3002 - accuracy: 0.8739 - val_loss: 0.3029 - val_accuracy: 0.8649\n",
      "Epoch 93/100\n",
      "26/26 [==============================] - 0s 15ms/step - loss: 0.2803 - accuracy: 0.8727 - val_loss: 0.3001 - val_accuracy: 0.8621\n",
      "Epoch 94/100\n",
      "26/26 [==============================] - 0s 15ms/step - loss: 0.2868 - accuracy: 0.8764 - val_loss: 0.3000 - val_accuracy: 0.8764\n",
      "Epoch 95/100\n",
      "26/26 [==============================] - 0s 15ms/step - loss: 0.3082 - accuracy: 0.8739 - val_loss: 0.3007 - val_accuracy: 0.8764\n",
      "Epoch 96/100\n",
      "26/26 [==============================] - 0s 16ms/step - loss: 0.3032 - accuracy: 0.8789 - val_loss: 0.2989 - val_accuracy: 0.8764\n",
      "Epoch 97/100\n",
      "26/26 [==============================] - 0s 15ms/step - loss: 0.2789 - accuracy: 0.8875 - val_loss: 0.2941 - val_accuracy: 0.8764\n",
      "Epoch 98/100\n",
      "26/26 [==============================] - 0s 15ms/step - loss: 0.2755 - accuracy: 0.8912 - val_loss: 0.2925 - val_accuracy: 0.8736\n",
      "Epoch 99/100\n",
      "26/26 [==============================] - 0s 15ms/step - loss: 0.3003 - accuracy: 0.8714 - val_loss: 0.2955 - val_accuracy: 0.8707\n",
      "Epoch 100/100\n",
      "26/26 [==============================] - 0s 15ms/step - loss: 0.2815 - accuracy: 0.8714 - val_loss: 0.2915 - val_accuracy: 0.8736\n",
      "Epoch 1/100\n",
      "26/26 [==============================] - 2s 23ms/step - loss: 1.5059 - accuracy: 0.2546 - val_loss: 1.0833 - val_accuracy: 0.6667\n",
      "Epoch 2/100\n",
      "26/26 [==============================] - 0s 15ms/step - loss: 1.0002 - accuracy: 0.6020 - val_loss: 0.9385 - val_accuracy: 0.6667\n",
      "Epoch 3/100\n",
      "26/26 [==============================] - 0s 15ms/step - loss: 0.7982 - accuracy: 0.7083 - val_loss: 0.9369 - val_accuracy: 0.6667\n",
      "Epoch 4/100\n",
      "26/26 [==============================] - 0s 15ms/step - loss: 0.7495 - accuracy: 0.7194 - val_loss: 0.9303 - val_accuracy: 0.6667\n",
      "Epoch 5/100\n",
      "26/26 [==============================] - 0s 16ms/step - loss: 0.6901 - accuracy: 0.7194 - val_loss: 0.9016 - val_accuracy: 0.6667\n",
      "Epoch 6/100\n",
      "26/26 [==============================] - 0s 16ms/step - loss: 0.6409 - accuracy: 0.7553 - val_loss: 0.8565 - val_accuracy: 0.6667\n",
      "Epoch 7/100\n",
      "26/26 [==============================] - 0s 15ms/step - loss: 0.6292 - accuracy: 0.7577 - val_loss: 0.8234 - val_accuracy: 0.6667\n",
      "Epoch 8/100\n",
      "26/26 [==============================] - 0s 16ms/step - loss: 0.6042 - accuracy: 0.7602 - val_loss: 0.7647 - val_accuracy: 0.6667\n",
      "Epoch 9/100\n",
      "26/26 [==============================] - 0s 16ms/step - loss: 0.5844 - accuracy: 0.7787 - val_loss: 0.7102 - val_accuracy: 0.6667\n",
      "Epoch 10/100\n",
      "26/26 [==============================] - 0s 15ms/step - loss: 0.5713 - accuracy: 0.7701 - val_loss: 0.6472 - val_accuracy: 0.6782\n",
      "Epoch 11/100\n",
      "26/26 [==============================] - 0s 17ms/step - loss: 0.5353 - accuracy: 0.7849 - val_loss: 0.6029 - val_accuracy: 0.6983\n",
      "Epoch 12/100\n",
      "26/26 [==============================] - 0s 16ms/step - loss: 0.5502 - accuracy: 0.7812 - val_loss: 0.5644 - val_accuracy: 0.7328\n",
      "Epoch 13/100\n",
      "26/26 [==============================] - 0s 15ms/step - loss: 0.5131 - accuracy: 0.8121 - val_loss: 0.5561 - val_accuracy: 0.7443\n",
      "Epoch 14/100\n",
      "26/26 [==============================] - 0s 15ms/step - loss: 0.4954 - accuracy: 0.8146 - val_loss: 0.5467 - val_accuracy: 0.7586\n",
      "Epoch 15/100\n",
      "26/26 [==============================] - 0s 15ms/step - loss: 0.5103 - accuracy: 0.8010 - val_loss: 0.5228 - val_accuracy: 0.7701\n",
      "Epoch 16/100\n",
      "26/26 [==============================] - 0s 15ms/step - loss: 0.4876 - accuracy: 0.8195 - val_loss: 0.5114 - val_accuracy: 0.7672\n",
      "Epoch 17/100\n",
      "26/26 [==============================] - 0s 15ms/step - loss: 0.4878 - accuracy: 0.8096 - val_loss: 0.4990 - val_accuracy: 0.7989\n",
      "Epoch 18/100\n",
      "26/26 [==============================] - 0s 15ms/step - loss: 0.4796 - accuracy: 0.8220 - val_loss: 0.4882 - val_accuracy: 0.8075\n",
      "Epoch 19/100\n",
      "26/26 [==============================] - 0s 15ms/step - loss: 0.4826 - accuracy: 0.8220 - val_loss: 0.4862 - val_accuracy: 0.8132\n",
      "Epoch 20/100\n",
      "26/26 [==============================] - 0s 16ms/step - loss: 0.4857 - accuracy: 0.8010 - val_loss: 0.4817 - val_accuracy: 0.8190\n",
      "Epoch 21/100\n",
      "26/26 [==============================] - 0s 16ms/step - loss: 0.4655 - accuracy: 0.8245 - val_loss: 0.4804 - val_accuracy: 0.8161\n",
      "Epoch 22/100\n",
      "26/26 [==============================] - 0s 15ms/step - loss: 0.4648 - accuracy: 0.8183 - val_loss: 0.4782 - val_accuracy: 0.8190\n",
      "Epoch 23/100\n",
      "26/26 [==============================] - 0s 16ms/step - loss: 0.4561 - accuracy: 0.8245 - val_loss: 0.4724 - val_accuracy: 0.8218\n",
      "Epoch 24/100\n",
      "26/26 [==============================] - 0s 16ms/step - loss: 0.4594 - accuracy: 0.8269 - val_loss: 0.4710 - val_accuracy: 0.8161\n",
      "Epoch 25/100\n",
      "26/26 [==============================] - 0s 15ms/step - loss: 0.4290 - accuracy: 0.8405 - val_loss: 0.4650 - val_accuracy: 0.8247\n",
      "Epoch 26/100\n",
      "26/26 [==============================] - 0s 15ms/step - loss: 0.4539 - accuracy: 0.8208 - val_loss: 0.4627 - val_accuracy: 0.8218\n",
      "Epoch 27/100\n",
      "26/26 [==============================] - 0s 15ms/step - loss: 0.4334 - accuracy: 0.8455 - val_loss: 0.4561 - val_accuracy: 0.8247\n",
      "Epoch 28/100\n",
      "26/26 [==============================] - 0s 15ms/step - loss: 0.4446 - accuracy: 0.8282 - val_loss: 0.4538 - val_accuracy: 0.8305\n",
      "Epoch 29/100\n",
      "26/26 [==============================] - 0s 16ms/step - loss: 0.4381 - accuracy: 0.8294 - val_loss: 0.4502 - val_accuracy: 0.8276\n",
      "Epoch 30/100\n",
      "26/26 [==============================] - 0s 15ms/step - loss: 0.4442 - accuracy: 0.8183 - val_loss: 0.4482 - val_accuracy: 0.8218\n",
      "Epoch 31/100\n",
      "26/26 [==============================] - 0s 15ms/step - loss: 0.4196 - accuracy: 0.8307 - val_loss: 0.4454 - val_accuracy: 0.8247\n",
      "Epoch 32/100\n",
      "26/26 [==============================] - 0s 15ms/step - loss: 0.4376 - accuracy: 0.8430 - val_loss: 0.4485 - val_accuracy: 0.8247\n",
      "Epoch 33/100\n",
      "26/26 [==============================] - 0s 15ms/step - loss: 0.4398 - accuracy: 0.8245 - val_loss: 0.4431 - val_accuracy: 0.8247\n",
      "Epoch 34/100\n",
      "26/26 [==============================] - 0s 16ms/step - loss: 0.4400 - accuracy: 0.8257 - val_loss: 0.4393 - val_accuracy: 0.8305\n",
      "Epoch 35/100\n",
      "26/26 [==============================] - 0s 15ms/step - loss: 0.4292 - accuracy: 0.8294 - val_loss: 0.4365 - val_accuracy: 0.8305\n",
      "Epoch 36/100\n",
      "26/26 [==============================] - 0s 16ms/step - loss: 0.4146 - accuracy: 0.8344 - val_loss: 0.4279 - val_accuracy: 0.8333\n",
      "Epoch 37/100\n",
      "26/26 [==============================] - 0s 15ms/step - loss: 0.4255 - accuracy: 0.8381 - val_loss: 0.4222 - val_accuracy: 0.8305\n",
      "Epoch 38/100\n",
      "26/26 [==============================] - 0s 15ms/step - loss: 0.4021 - accuracy: 0.8331 - val_loss: 0.4195 - val_accuracy: 0.8391\n",
      "Epoch 39/100\n",
      "26/26 [==============================] - 0s 15ms/step - loss: 0.4158 - accuracy: 0.8245 - val_loss: 0.4168 - val_accuracy: 0.8362\n",
      "Epoch 40/100\n",
      "26/26 [==============================] - 0s 15ms/step - loss: 0.4245 - accuracy: 0.8294 - val_loss: 0.4161 - val_accuracy: 0.8333\n",
      "Epoch 41/100\n",
      "26/26 [==============================] - 0s 16ms/step - loss: 0.3795 - accuracy: 0.8541 - val_loss: 0.4108 - val_accuracy: 0.8276\n",
      "Epoch 42/100\n",
      "26/26 [==============================] - 0s 16ms/step - loss: 0.4149 - accuracy: 0.8319 - val_loss: 0.4090 - val_accuracy: 0.8362\n",
      "Epoch 43/100\n",
      "26/26 [==============================] - 0s 15ms/step - loss: 0.3985 - accuracy: 0.8418 - val_loss: 0.4039 - val_accuracy: 0.8362\n",
      "Epoch 44/100\n",
      "26/26 [==============================] - 0s 16ms/step - loss: 0.4020 - accuracy: 0.8455 - val_loss: 0.4023 - val_accuracy: 0.8362\n",
      "Epoch 45/100\n",
      "26/26 [==============================] - 0s 17ms/step - loss: 0.3978 - accuracy: 0.8418 - val_loss: 0.4004 - val_accuracy: 0.8362\n",
      "Epoch 46/100\n",
      "26/26 [==============================] - 0s 16ms/step - loss: 0.4032 - accuracy: 0.8319 - val_loss: 0.3926 - val_accuracy: 0.8420\n",
      "Epoch 47/100\n",
      "26/26 [==============================] - 0s 16ms/step - loss: 0.3853 - accuracy: 0.8405 - val_loss: 0.3866 - val_accuracy: 0.8362\n",
      "Epoch 48/100\n",
      "26/26 [==============================] - 0s 15ms/step - loss: 0.3697 - accuracy: 0.8492 - val_loss: 0.3875 - val_accuracy: 0.8391\n",
      "Epoch 49/100\n",
      "26/26 [==============================] - 0s 15ms/step - loss: 0.3854 - accuracy: 0.8418 - val_loss: 0.3853 - val_accuracy: 0.8362\n",
      "Epoch 50/100\n",
      "26/26 [==============================] - 0s 16ms/step - loss: 0.3763 - accuracy: 0.8554 - val_loss: 0.3868 - val_accuracy: 0.8362\n",
      "Epoch 51/100\n",
      "26/26 [==============================] - 0s 15ms/step - loss: 0.3946 - accuracy: 0.8393 - val_loss: 0.3809 - val_accuracy: 0.8333\n",
      "Epoch 52/100\n",
      "26/26 [==============================] - 0s 15ms/step - loss: 0.3647 - accuracy: 0.8517 - val_loss: 0.3776 - val_accuracy: 0.8362\n",
      "Epoch 53/100\n",
      "26/26 [==============================] - 0s 15ms/step - loss: 0.3601 - accuracy: 0.8480 - val_loss: 0.3758 - val_accuracy: 0.8362\n",
      "Epoch 54/100\n",
      "26/26 [==============================] - 0s 15ms/step - loss: 0.3867 - accuracy: 0.8480 - val_loss: 0.3709 - val_accuracy: 0.8391\n",
      "Epoch 55/100\n",
      "26/26 [==============================] - 0s 15ms/step - loss: 0.3555 - accuracy: 0.8566 - val_loss: 0.3682 - val_accuracy: 0.8362\n",
      "Epoch 56/100\n",
      "26/26 [==============================] - 0s 15ms/step - loss: 0.3510 - accuracy: 0.8578 - val_loss: 0.3648 - val_accuracy: 0.8420\n",
      "Epoch 57/100\n",
      "26/26 [==============================] - 0s 15ms/step - loss: 0.3477 - accuracy: 0.8591 - val_loss: 0.3592 - val_accuracy: 0.8420\n",
      "Epoch 58/100\n",
      "26/26 [==============================] - 0s 15ms/step - loss: 0.3447 - accuracy: 0.8640 - val_loss: 0.3581 - val_accuracy: 0.8391\n",
      "Epoch 59/100\n",
      "26/26 [==============================] - 0s 15ms/step - loss: 0.3673 - accuracy: 0.8443 - val_loss: 0.3585 - val_accuracy: 0.8391\n",
      "Epoch 60/100\n",
      "26/26 [==============================] - 0s 15ms/step - loss: 0.3851 - accuracy: 0.8430 - val_loss: 0.3626 - val_accuracy: 0.8333\n",
      "Epoch 61/100\n",
      "26/26 [==============================] - 0s 15ms/step - loss: 0.3499 - accuracy: 0.8578 - val_loss: 0.3580 - val_accuracy: 0.8391\n",
      "Epoch 62/100\n",
      "26/26 [==============================] - 0s 16ms/step - loss: 0.3483 - accuracy: 0.8578 - val_loss: 0.3521 - val_accuracy: 0.8391\n",
      "Epoch 63/100\n",
      "26/26 [==============================] - 0s 18ms/step - loss: 0.3358 - accuracy: 0.8640 - val_loss: 0.3516 - val_accuracy: 0.8362\n",
      "Epoch 64/100\n",
      "26/26 [==============================] - 0s 16ms/step - loss: 0.3511 - accuracy: 0.8504 - val_loss: 0.3458 - val_accuracy: 0.8391\n",
      "Epoch 65/100\n",
      "26/26 [==============================] - 0s 15ms/step - loss: 0.3474 - accuracy: 0.8603 - val_loss: 0.3434 - val_accuracy: 0.8420\n",
      "Epoch 66/100\n",
      "26/26 [==============================] - 0s 15ms/step - loss: 0.3396 - accuracy: 0.8566 - val_loss: 0.3399 - val_accuracy: 0.8391\n",
      "Epoch 67/100\n",
      "26/26 [==============================] - 0s 15ms/step - loss: 0.3420 - accuracy: 0.8653 - val_loss: 0.3383 - val_accuracy: 0.8391\n",
      "Epoch 68/100\n",
      "26/26 [==============================] - 0s 16ms/step - loss: 0.3308 - accuracy: 0.8665 - val_loss: 0.3380 - val_accuracy: 0.8362\n",
      "Epoch 69/100\n",
      "26/26 [==============================] - 0s 16ms/step - loss: 0.3484 - accuracy: 0.8504 - val_loss: 0.3346 - val_accuracy: 0.8391\n",
      "Epoch 70/100\n",
      "26/26 [==============================] - 0s 15ms/step - loss: 0.3424 - accuracy: 0.8665 - val_loss: 0.3324 - val_accuracy: 0.8391\n",
      "Epoch 71/100\n",
      "26/26 [==============================] - 0s 15ms/step - loss: 0.3391 - accuracy: 0.8566 - val_loss: 0.3348 - val_accuracy: 0.8420\n",
      "Epoch 72/100\n",
      "26/26 [==============================] - 0s 15ms/step - loss: 0.3002 - accuracy: 0.8789 - val_loss: 0.3324 - val_accuracy: 0.8477\n",
      "Epoch 73/100\n",
      "26/26 [==============================] - 0s 16ms/step - loss: 0.3221 - accuracy: 0.8677 - val_loss: 0.3292 - val_accuracy: 0.8506\n",
      "Epoch 74/100\n",
      "26/26 [==============================] - 0s 16ms/step - loss: 0.3085 - accuracy: 0.8727 - val_loss: 0.3285 - val_accuracy: 0.8506\n",
      "Epoch 75/100\n",
      "26/26 [==============================] - 0s 15ms/step - loss: 0.3406 - accuracy: 0.8640 - val_loss: 0.3265 - val_accuracy: 0.8506\n",
      "Epoch 76/100\n",
      "26/26 [==============================] - 0s 15ms/step - loss: 0.2959 - accuracy: 0.8838 - val_loss: 0.3236 - val_accuracy: 0.8534\n",
      "Epoch 77/100\n",
      "26/26 [==============================] - 0s 15ms/step - loss: 0.3200 - accuracy: 0.8665 - val_loss: 0.3254 - val_accuracy: 0.8534\n",
      "Epoch 78/100\n",
      "26/26 [==============================] - 0s 15ms/step - loss: 0.3368 - accuracy: 0.8603 - val_loss: 0.3198 - val_accuracy: 0.8621\n",
      "Epoch 79/100\n",
      "26/26 [==============================] - 0s 15ms/step - loss: 0.3071 - accuracy: 0.8789 - val_loss: 0.3170 - val_accuracy: 0.8621\n",
      "Epoch 80/100\n",
      "26/26 [==============================] - 0s 15ms/step - loss: 0.3106 - accuracy: 0.8764 - val_loss: 0.3175 - val_accuracy: 0.8592\n",
      "Epoch 81/100\n",
      "26/26 [==============================] - 0s 15ms/step - loss: 0.3105 - accuracy: 0.8789 - val_loss: 0.3168 - val_accuracy: 0.8592\n",
      "Epoch 82/100\n",
      "26/26 [==============================] - 0s 16ms/step - loss: 0.3300 - accuracy: 0.8727 - val_loss: 0.3158 - val_accuracy: 0.8592\n",
      "Epoch 83/100\n",
      "26/26 [==============================] - 0s 15ms/step - loss: 0.3228 - accuracy: 0.8467 - val_loss: 0.3162 - val_accuracy: 0.8649\n",
      "Epoch 84/100\n",
      "26/26 [==============================] - 0s 16ms/step - loss: 0.3141 - accuracy: 0.8665 - val_loss: 0.3150 - val_accuracy: 0.8621\n",
      "Epoch 85/100\n",
      "26/26 [==============================] - 0s 15ms/step - loss: 0.3231 - accuracy: 0.8702 - val_loss: 0.3162 - val_accuracy: 0.8592\n",
      "Epoch 86/100\n",
      "26/26 [==============================] - 0s 15ms/step - loss: 0.3113 - accuracy: 0.8776 - val_loss: 0.3136 - val_accuracy: 0.8592\n",
      "Epoch 87/100\n",
      "26/26 [==============================] - 0s 16ms/step - loss: 0.3024 - accuracy: 0.8714 - val_loss: 0.3100 - val_accuracy: 0.8621\n",
      "Epoch 88/100\n",
      "26/26 [==============================] - 0s 16ms/step - loss: 0.3044 - accuracy: 0.8739 - val_loss: 0.3061 - val_accuracy: 0.8649\n",
      "Epoch 89/100\n",
      "26/26 [==============================] - 0s 16ms/step - loss: 0.2970 - accuracy: 0.8739 - val_loss: 0.3044 - val_accuracy: 0.8678\n",
      "Epoch 90/100\n",
      "26/26 [==============================] - 0s 15ms/step - loss: 0.2995 - accuracy: 0.8702 - val_loss: 0.3051 - val_accuracy: 0.8793\n",
      "Epoch 91/100\n",
      "26/26 [==============================] - 0s 16ms/step - loss: 0.2968 - accuracy: 0.8764 - val_loss: 0.3026 - val_accuracy: 0.8764\n",
      "Epoch 92/100\n",
      "26/26 [==============================] - 0s 15ms/step - loss: 0.3108 - accuracy: 0.8603 - val_loss: 0.3010 - val_accuracy: 0.8592\n",
      "Epoch 93/100\n",
      "26/26 [==============================] - 0s 16ms/step - loss: 0.2754 - accuracy: 0.8888 - val_loss: 0.2988 - val_accuracy: 0.8592\n",
      "Epoch 94/100\n",
      "26/26 [==============================] - 0s 15ms/step - loss: 0.3203 - accuracy: 0.8690 - val_loss: 0.2949 - val_accuracy: 0.8649\n",
      "Epoch 95/100\n",
      "26/26 [==============================] - 0s 17ms/step - loss: 0.3152 - accuracy: 0.8752 - val_loss: 0.2936 - val_accuracy: 0.8678\n",
      "Epoch 96/100\n",
      "26/26 [==============================] - 0s 17ms/step - loss: 0.3064 - accuracy: 0.8714 - val_loss: 0.2959 - val_accuracy: 0.8736\n",
      "Epoch 97/100\n",
      "26/26 [==============================] - 0s 15ms/step - loss: 0.3152 - accuracy: 0.8714 - val_loss: 0.2967 - val_accuracy: 0.8793\n",
      "Epoch 98/100\n",
      "26/26 [==============================] - 0s 15ms/step - loss: 0.2893 - accuracy: 0.8875 - val_loss: 0.2941 - val_accuracy: 0.8678\n",
      "Epoch 99/100\n",
      "26/26 [==============================] - 0s 15ms/step - loss: 0.3055 - accuracy: 0.8714 - val_loss: 0.2961 - val_accuracy: 0.8649\n",
      "Epoch 100/100\n",
      "26/26 [==============================] - 0s 15ms/step - loss: 0.2873 - accuracy: 0.8826 - val_loss: 0.2925 - val_accuracy: 0.8764\n"
     ]
    }
   ],
   "source": [
    "etrain4=ensemble3.fit(X_train,y_train)"
   ]
  },
  {
   "cell_type": "code",
   "execution_count": 93,
   "metadata": {},
   "outputs": [
    {
     "name": "stdout",
     "output_type": "stream",
     "text": [
      "18/18 [==============================] - 0s 3ms/step\n",
      "18/18 [==============================] - 0s 3ms/step\n",
      "18/18 [==============================] - 0s 3ms/step\n"
     ]
    }
   ],
   "source": [
    "y_pred = ensemble3.predict(X_test)"
   ]
  },
  {
   "cell_type": "markdown",
   "metadata": {},
   "source": [
    "### Test Accuracy"
   ]
  },
  {
   "cell_type": "code",
   "execution_count": 95,
   "metadata": {},
   "outputs": [],
   "source": [
    "x=accuracy_score(y_test,y_pred)"
   ]
  },
  {
   "cell_type": "code",
   "execution_count": 96,
   "metadata": {},
   "outputs": [
    {
     "name": "stdout",
     "output_type": "stream",
     "text": [
      "Test Accuracy is : 89.47368421052632  %\n"
     ]
    }
   ],
   "source": [
    "print(\"Test Accuracy is :\", x*100 ,\" %\")"
   ]
  },
  {
   "cell_type": "markdown",
   "metadata": {},
   "source": [
    "### Confusion Matrix"
   ]
  },
  {
   "cell_type": "code",
   "execution_count": 101,
   "metadata": {},
   "outputs": [],
   "source": [
    "ecm=confusion_matrix(y_test, y_pred)"
   ]
  },
  {
   "cell_type": "code",
   "execution_count": 102,
   "metadata": {},
   "outputs": [
    {
     "data": {
      "text/plain": [
       "array([[111,   4,  12,   0],\n",
       "       [  5,  13,   0,   0],\n",
       "       [ 13,   0, 386,   0],\n",
       "       [ 10,  16,   0,   0]], dtype=int64)"
      ]
     },
     "execution_count": 102,
     "metadata": {},
     "output_type": "execute_result"
    }
   ],
   "source": [
    "ecm"
   ]
  },
  {
   "cell_type": "code",
   "execution_count": 103,
   "metadata": {},
   "outputs": [
    {
     "data": {
      "image/png": "[encoded data removed]",
      "text/plain": [
       "<Figure size 720x720 with 2 Axes>"
      ]
     },
     "metadata": {},
     "output_type": "display_data"
    }
   ],
   "source": [
    "matrix(ecm)"
   ]
  },
  {
   "cell_type": "markdown",
   "metadata": {},
   "source": [
    "# Inference:\n",
    "\n",
    "### From the above experiments we infer that ensemble model gives slight or same accuracy compared to baseline MLP model "
   ]
  }
 ],
 "metadata": {
  "interpreter": {
   "hash": "89be2f73d9f1a76fb6d1ca84f57c8871cbb8506070a0d438c7d4ef600913a12d"
  },
  "kernelspec": {
   "display_name": "Python 3.9.0 ('tf_2.7')",
   "language": "python",
   "name": "python3"
  },
  "language_info": {
   "codemirror_mode": {
    "name": "ipython",
    "version": 3
   },
   "file_extension": ".py",
   "mimetype": "text/x-python",
   "name": "python",
   "nbconvert_exporter": "python",
   "pygments_lexer": "ipython3",
   "version": "3.9.0"
  },
  "orig_nbformat": 4
 },
 "nbformat": 4,
 "nbformat_minor": 2
}
