{
 "cells": [
  {
   "cell_type": "markdown",
   "metadata": {},
   "source": [
    "## Question 1"
   ]
  },
  {
   "cell_type": "code",
   "execution_count": 1,
   "metadata": {},
   "outputs": [],
   "source": [
    "import pandas as pd\n",
    "import numpy as np\n",
    "import random\n",
    "import matplotlib.pyplot as plt\n",
    "import tensorflow as tf\n",
    "from tensorflow.keras import datasets, layers, models\n",
    "from tensorflow.keras.utils import to_categorical\n",
    "from tensorflow.keras.models import Sequential\n",
    "from tensorflow.keras.layers import Flatten\n",
    "from tensorflow.keras.layers import Dense\n",
    "from tensorflow.keras.layers import Activation\n",
    "from tensorflow.keras.models import load_model\n",
    "from tensorflow.keras.layers import BatchNormalization,Dropout\n",
    "from tensorflow.keras import optimizers"
   ]
  },
  {
   "cell_type": "code",
   "execution_count": 2,
   "metadata": {},
   "outputs": [],
   "source": [
    "(X_train, Y_train), (X_test, Y_test) = datasets.fashion_mnist.load_data()"
   ]
  },
  {
   "cell_type": "code",
   "execution_count": 3,
   "metadata": {},
   "outputs": [
    {
     "data": {
      "text/plain": [
       "array([9, 0, 0, ..., 3, 0, 5], dtype=uint8)"
      ]
     },
     "execution_count": 3,
     "metadata": {},
     "output_type": "execute_result"
    }
   ],
   "source": [
    "Y_train"
   ]
  },
  {
   "cell_type": "code",
   "execution_count": 4,
   "metadata": {},
   "outputs": [
    {
     "data": {
      "image/png": "[encoded data removed]",
      "text/plain": [
       "<Figure size 432x288 with 1 Axes>"
      ]
     },
     "metadata": {
      "needs_background": "light"
     },
     "output_type": "display_data"
    },
    {
     "data": {
      "image/png": "[encoded data removed]",
      "text/plain": [
       "<Figure size 432x288 with 1 Axes>"
      ]
     },
     "metadata": {
      "needs_background": "light"
     },
     "output_type": "display_data"
    },
    {
     "data": {
      "image/png": "[encoded data removed]",
      "text/plain": [
       "<Figure size 432x288 with 1 Axes>"
      ]
     },
     "metadata": {
      "needs_background": "light"
     },
     "output_type": "display_data"
    },
    {
     "data": {
      "image/png": "[encoded data removed]",
      "text/plain": [
       "<Figure size 432x288 with 1 Axes>"
      ]
     },
     "metadata": {
      "needs_background": "light"
     },
     "output_type": "display_data"
    },
    {
     "data": {
      "image/png": "[encoded data removed]",
      "text/plain": [
       "<Figure size 432x288 with 1 Axes>"
      ]
     },
     "metadata": {
      "needs_background": "light"
     },
     "output_type": "display_data"
    }
   ],
   "source": [
    "for i in range(5):\n",
    "    plt.imshow(X_train[i])\n",
    "    plt.title(Y_train[i])\n",
    "    plt.show()"
   ]
  },
  {
   "cell_type": "markdown",
   "metadata": {},
   "source": [
    "## Printing the shape"
   ]
  },
  {
   "cell_type": "code",
   "execution_count": 5,
   "metadata": {},
   "outputs": [
    {
     "name": "stdout",
     "output_type": "stream",
     "text": [
      "(28, 28)\n",
      "(60000, 28, 28)\n"
     ]
    }
   ],
   "source": [
    "print(X_train[0].shape)\n",
    "print(X_train.shape)"
   ]
  },
  {
   "cell_type": "code",
   "execution_count": 6,
   "metadata": {},
   "outputs": [],
   "source": [
    "X_train=X_train.reshape(X_train.shape[0],-1)"
   ]
  },
  {
   "cell_type": "code",
   "execution_count": 7,
   "metadata": {},
   "outputs": [],
   "source": [
    "X_test=X_test.reshape(X_test.shape[0],-1)"
   ]
  },
  {
   "cell_type": "markdown",
   "metadata": {},
   "source": [
    "## One hot encoding"
   ]
  },
  {
   "cell_type": "code",
   "execution_count": 8,
   "metadata": {},
   "outputs": [
    {
     "data": {
      "text/plain": [
       "array([[0., 0., 0., ..., 0., 0., 1.],\n",
       "       [1., 0., 0., ..., 0., 0., 0.],\n",
       "       [1., 0., 0., ..., 0., 0., 0.],\n",
       "       ...,\n",
       "       [0., 0., 0., ..., 0., 0., 0.],\n",
       "       [1., 0., 0., ..., 0., 0., 0.],\n",
       "       [0., 0., 0., ..., 0., 0., 0.]], dtype=float32)"
      ]
     },
     "execution_count": 8,
     "metadata": {},
     "output_type": "execute_result"
    }
   ],
   "source": [
    "Y_train=to_categorical(Y_train)\n",
    "Y_train"
   ]
  },
  {
   "cell_type": "code",
   "execution_count": 9,
   "metadata": {},
   "outputs": [
    {
     "data": {
      "text/plain": [
       "array([[0., 0., 0., ..., 0., 0., 1.],\n",
       "       [0., 0., 1., ..., 0., 0., 0.],\n",
       "       [0., 1., 0., ..., 0., 0., 0.],\n",
       "       ...,\n",
       "       [0., 0., 0., ..., 0., 1., 0.],\n",
       "       [0., 1., 0., ..., 0., 0., 0.],\n",
       "       [0., 0., 0., ..., 0., 0., 0.]], dtype=float32)"
      ]
     },
     "execution_count": 9,
     "metadata": {},
     "output_type": "execute_result"
    }
   ],
   "source": [
    "Y_test=to_categorical(Y_test)\n",
    "Y_test"
   ]
  },
  {
   "cell_type": "code",
   "execution_count": 10,
   "metadata": {},
   "outputs": [
    {
     "name": "stdout",
     "output_type": "stream",
     "text": [
      "(60000, 784) (10000, 784) (60000, 10) (10000, 10)\n"
     ]
    }
   ],
   "source": [
    "print(X_train.shape,X_test.shape,Y_train.shape,Y_test.shape)"
   ]
  },
  {
   "cell_type": "markdown",
   "metadata": {},
   "source": [
    "## Question 2"
   ]
  },
  {
   "cell_type": "code",
   "execution_count": 11,
   "metadata": {},
   "outputs": [],
   "source": [
    "def f_model():\n",
    "    model=Sequential()\n",
    "    model.add(Dense(50, input_shape = (784,)))\n",
    "    model.add(Activation('sigmoid'))\n",
    "    model.add(Dense(50))\n",
    "    model.add(Activation('sigmoid'))\n",
    "    model.add(Dense(50))\n",
    "    model.add(Activation('sigmoid'))\n",
    "    model.add(Dense(50))\n",
    "    model.add(Activation('sigmoid'))\n",
    "    model.add(Dense(50))\n",
    "    model.add(Activation('sigmoid'))\n",
    "    model.add(Dense(10))\n",
    "    model.add(Activation('softmax'))\n",
    "\n",
    "    ad = optimizers.SGD(learning_rate = 0.001)\n",
    "    model.compile(optimizer = ad, loss = \"categorical_crossentropy\", metrics = ['accuracy'])\n",
    "    return model"
   ]
  },
  {
   "cell_type": "code",
   "execution_count": 12,
   "metadata": {},
   "outputs": [],
   "source": [
    "model1=f_model()"
   ]
  },
  {
   "cell_type": "code",
   "execution_count": 13,
   "metadata": {},
   "outputs": [
    {
     "name": "stdout",
     "output_type": "stream",
     "text": [
      "Model: \"sequential\"\n",
      "_________________________________________________________________\n",
      "Layer (type)                 Output Shape              Param #   \n",
      "=================================================================\n",
      "dense (Dense)                (None, 50)                39250     \n",
      "_________________________________________________________________\n",
      "activation (Activation)      (None, 50)                0         \n",
      "_________________________________________________________________\n",
      "dense_1 (Dense)              (None, 50)                2550      \n",
      "_________________________________________________________________\n",
      "activation_1 (Activation)    (None, 50)                0         \n",
      "_________________________________________________________________\n",
      "dense_2 (Dense)              (None, 50)                2550      \n",
      "_________________________________________________________________\n",
      "activation_2 (Activation)    (None, 50)                0         \n",
      "_________________________________________________________________\n",
      "dense_3 (Dense)              (None, 50)                2550      \n",
      "_________________________________________________________________\n",
      "activation_3 (Activation)    (None, 50)                0         \n",
      "_________________________________________________________________\n",
      "dense_4 (Dense)              (None, 50)                2550      \n",
      "_________________________________________________________________\n",
      "activation_4 (Activation)    (None, 50)                0         \n",
      "_________________________________________________________________\n",
      "dense_5 (Dense)              (None, 10)                510       \n",
      "_________________________________________________________________\n",
      "activation_5 (Activation)    (None, 10)                0         \n",
      "=================================================================\n",
      "Total params: 49,960\n",
      "Trainable params: 49,960\n",
      "Non-trainable params: 0\n",
      "_________________________________________________________________\n"
     ]
    }
   ],
   "source": [
    "model1.summary()"
   ]
  },
  {
   "cell_type": "code",
   "execution_count": 14,
   "metadata": {},
   "outputs": [
    {
     "name": "stdout",
     "output_type": "stream",
     "text": [
      "Epoch 1/5\n",
      "1313/1313 [==============================] - 12s 7ms/step - loss: 2.3514 - accuracy: 0.0987 - val_loss: 2.3069 - val_accuracy: 0.0950\n",
      "Epoch 2/5\n",
      "1313/1313 [==============================] - 11s 8ms/step - loss: 2.3033 - accuracy: 0.1020 - val_loss: 2.3022 - val_accuracy: 0.0977\n",
      "Epoch 3/5\n",
      "1313/1313 [==============================] - 9s 7ms/step - loss: 2.3020 - accuracy: 0.1114 - val_loss: 2.3020 - val_accuracy: 0.0976\n",
      "Epoch 4/5\n",
      "1313/1313 [==============================] - 11s 8ms/step - loss: 2.3019 - accuracy: 0.1128 - val_loss: 2.3020 - val_accuracy: 0.1475\n",
      "Epoch 5/5\n",
      "1313/1313 [==============================] - 11s 8ms/step - loss: 2.3017 - accuracy: 0.1224 - val_loss: 2.3018 - val_accuracy: 0.0976\n"
     ]
    }
   ],
   "source": [
    "train1=model1.fit(X_train,Y_train,validation_split=0.3,epochs=5,verbose=1)"
   ]
  },
  {
   "cell_type": "code",
   "execution_count": 15,
   "metadata": {},
   "outputs": [
    {
     "data": {
      "image/png": "[encoded data removed]",
      "text/plain": [
       "<Figure size 432x288 with 1 Axes>"
      ]
     },
     "metadata": {
      "needs_background": "light"
     },
     "output_type": "display_data"
    }
   ],
   "source": [
    "plt.plot(train1.history['accuracy' ])\n",
    "plt.plot(train1.history['val_accuracy'])\n",
    "plt.plot(train1.history['loss'])\n",
    "plt.plot(train1.history['val_loss'])\n",
    "plt.legend(['train acc', 'valid acc', 'train loss', 'valid loss'], loc = 'upper left')\n",
    "plt.show()"
   ]
  },
  {
   "cell_type": "code",
   "execution_count": 16,
   "metadata": {},
   "outputs": [
    {
     "name": "stdout",
     "output_type": "stream",
     "text": [
      "313/313 [==============================] - 2s 6ms/step - loss: 2.3016 - accuracy: 0.1009\n",
      "Test Accuracy is: 10.090000182390213%\n"
     ]
    }
   ],
   "source": [
    "model_out1=model1.evaluate(X_test,Y_test)\n",
    "print(f\"Test Accuracy is: {model_out1[1]*100}%\")"
   ]
  },
  {
   "cell_type": "code",
   "execution_count": 17,
   "metadata": {},
   "outputs": [
    {
     "name": "stdout",
     "output_type": "stream",
     "text": [
      "['loss', 'accuracy']\n",
      "[2.3016247749328613, 0.10090000182390213]\n"
     ]
    }
   ],
   "source": [
    "print(model1.metrics_names) \n",
    "print(model_out1)"
   ]
  },
  {
   "cell_type": "code",
   "execution_count": 18,
   "metadata": {},
   "outputs": [],
   "source": [
    "from sklearn.metrics import confusion_matrix,classification_report\n",
    "y_pred=model1.predict(X_test)\n"
   ]
  },
  {
   "cell_type": "code",
   "execution_count": 19,
   "metadata": {},
   "outputs": [
    {
     "data": {
      "text/plain": [
       "array([[0.09942036, 0.0995857 , 0.09764991, ..., 0.10090905, 0.10053688,\n",
       "        0.10061118],\n",
       "       [0.09930851, 0.09988195, 0.09771084, ..., 0.10047585, 0.10067293,\n",
       "        0.10025135],\n",
       "       [0.09965917, 0.09993375, 0.09735108, ..., 0.10056111, 0.1004992 ,\n",
       "        0.10065679],\n",
       "       ...,\n",
       "       [0.09942184, 0.09959981, 0.09775609, ..., 0.100796  , 0.10065637,\n",
       "        0.10046329],\n",
       "       [0.09948202, 0.0999712 , 0.09744152, ..., 0.10052709, 0.10052226,\n",
       "        0.10048761],\n",
       "       [0.09943772, 0.09985387, 0.09762271, ..., 0.10081539, 0.10041373,\n",
       "        0.10048223]], dtype=float32)"
      ]
     },
     "execution_count": 19,
     "metadata": {},
     "output_type": "execute_result"
    }
   ],
   "source": [
    "y_pred"
   ]
  },
  {
   "cell_type": "code",
   "execution_count": 20,
   "metadata": {},
   "outputs": [],
   "source": [
    "y_pred1=np.argmax(y_pred,axis=1)"
   ]
  },
  {
   "cell_type": "code",
   "execution_count": 21,
   "metadata": {},
   "outputs": [],
   "source": [
    "Y_test1=np.argmax(Y_test,axis=1)"
   ]
  },
  {
   "cell_type": "code",
   "execution_count": 22,
   "metadata": {},
   "outputs": [
    {
     "name": "stdout",
     "output_type": "stream",
     "text": [
      "[[   0    0    0    0    0    0 1000    0    0    0]\n",
      " [   0    0    0    0    0    0 1000    0    0    0]\n",
      " [   0    0    0    0    0    0 1000    0    0    0]\n",
      " [   0    0    0    0    0    0 1000    0    0    0]\n",
      " [   0    0    0    0    0    0 1000    0    0    0]\n",
      " [   0    0    0    0    0    0  997    3    0    0]\n",
      " [   0    0    0    0    0    0 1000    0    0    0]\n",
      " [   0    0    0    0    0    0  991    9    0    0]\n",
      " [   0    0    0    0    0    0 1000    0    0    0]\n",
      " [   0    0    0    0    0    0  997    3    0    0]]\n",
      "              precision    recall  f1-score   support\n",
      "\n",
      "           0       0.00      0.00      0.00      1000\n",
      "           1       0.00      0.00      0.00      1000\n",
      "           2       0.00      0.00      0.00      1000\n",
      "           3       0.00      0.00      0.00      1000\n",
      "           4       0.00      0.00      0.00      1000\n",
      "           5       0.00      0.00      0.00      1000\n",
      "           6       0.10      1.00      0.18      1000\n",
      "           7       0.60      0.01      0.02      1000\n",
      "           8       0.00      0.00      0.00      1000\n",
      "           9       0.00      0.00      0.00      1000\n",
      "\n",
      "    accuracy                           0.10     10000\n",
      "   macro avg       0.07      0.10      0.02     10000\n",
      "weighted avg       0.07      0.10      0.02     10000\n",
      "\n"
     ]
    },
    {
     "name": "stderr",
     "output_type": "stream",
     "text": [
      "C:\\Users\\Surya\\anaconda3\\envs\\tf_2.7\\lib\\site-packages\\sklearn\\metrics\\_classification.py:1318: UndefinedMetricWarning: Precision and F-score are ill-defined and being set to 0.0 in labels with no predicted samples. Use `zero_division` parameter to control this behavior.\n",
      "  _warn_prf(average, modifier, msg_start, len(result))\n",
      "C:\\Users\\Surya\\anaconda3\\envs\\tf_2.7\\lib\\site-packages\\sklearn\\metrics\\_classification.py:1318: UndefinedMetricWarning: Precision and F-score are ill-defined and being set to 0.0 in labels with no predicted samples. Use `zero_division` parameter to control this behavior.\n",
      "  _warn_prf(average, modifier, msg_start, len(result))\n",
      "C:\\Users\\Surya\\anaconda3\\envs\\tf_2.7\\lib\\site-packages\\sklearn\\metrics\\_classification.py:1318: UndefinedMetricWarning: Precision and F-score are ill-defined and being set to 0.0 in labels with no predicted samples. Use `zero_division` parameter to control this behavior.\n",
      "  _warn_prf(average, modifier, msg_start, len(result))\n"
     ]
    }
   ],
   "source": [
    "matrix1 = confusion_matrix(Y_test1, y_pred1)\n",
    "print(matrix1)\n",
    "print(classification_report(Y_test1,y_pred1))"
   ]
  },
  {
   "cell_type": "code",
   "execution_count": 23,
   "metadata": {},
   "outputs": [],
   "source": [
    "import seaborn as sns"
   ]
  },
  {
   "cell_type": "code",
   "execution_count": 24,
   "metadata": {},
   "outputs": [],
   "source": [
    "def matrix(cm):\n",
    "    fig, ax = plt.subplots(figsize=(10,10))       \n",
    "    sns.set(font_scale=1)\n",
    "    sns.heatmap(cm, annot=True, ax=ax)"
   ]
  },
  {
   "cell_type": "code",
   "execution_count": 25,
   "metadata": {},
   "outputs": [
    {
     "data": {
      "image/png": "[encoded data removed]",
      "text/plain": [
       "<Figure size 720x720 with 2 Axes>"
      ]
     },
     "metadata": {
      "needs_background": "light"
     },
     "output_type": "display_data"
    }
   ],
   "source": [
    "matrix(matrix1)"
   ]
  },
  {
   "cell_type": "markdown",
   "metadata": {},
   "source": [
    "### The model is slightly overfitted as train accuracy > val accuracy"
   ]
  },
  {
   "cell_type": "markdown",
   "metadata": {},
   "source": [
    "## Question 3"
   ]
  },
  {
   "cell_type": "code",
   "execution_count": 26,
   "metadata": {},
   "outputs": [],
   "source": [
    "def f1_model(initializer='he_normal'):\n",
    "    model=Sequential()\n",
    "    model.add(Dense(50, input_shape = (784,),kernel_initializer=initializer))\n",
    "    model.add(BatchNormalization())\n",
    "    model.add(Activation('sigmoid'))\n",
    "    model.add(Dropout(0.2))\n",
    "    model.add(Dense(50,kernel_initializer=initializer))\n",
    "    model.add(BatchNormalization())\n",
    "    model.add(Activation('sigmoid'))\n",
    "    model.add(Dropout(0.2))\n",
    "    model.add(Dense(50,kernel_initializer=initializer))\n",
    "    model.add(BatchNormalization())\n",
    "    model.add(Activation('sigmoid'))\n",
    "    model.add(Dropout(0.2))\n",
    "    model.add(Dense(50,kernel_initializer=initializer))\n",
    "    model.add(BatchNormalization())\n",
    "    model.add(Activation('sigmoid'))\n",
    "    model.add(Dropout(0.2))\n",
    "    model.add(Dense(50,kernel_initializer=initializer))\n",
    "    model.add(BatchNormalization())\n",
    "    model.add(Activation('sigmoid'))\n",
    "    model.add(Dropout(0.2))\n",
    "    model.add(Dense(10,kernel_initializer=initializer))\n",
    "    model.add(Activation('softmax'))\n",
    "\n",
    "    ad = optimizers.Adam(learning_rate = 0.001)\n",
    "    model.compile(optimizer = ad, loss = \"categorical_crossentropy\", metrics = ['accuracy'])\n",
    "    return model"
   ]
  },
  {
   "cell_type": "code",
   "execution_count": 27,
   "metadata": {},
   "outputs": [],
   "source": [
    "model2=f1_model()"
   ]
  },
  {
   "cell_type": "code",
   "execution_count": 28,
   "metadata": {},
   "outputs": [
    {
     "name": "stdout",
     "output_type": "stream",
     "text": [
      "Model: \"sequential_1\"\n",
      "_________________________________________________________________\n",
      "Layer (type)                 Output Shape              Param #   \n",
      "=================================================================\n",
      "dense_6 (Dense)              (None, 50)                39250     \n",
      "_________________________________________________________________\n",
      "batch_normalization (BatchNo (None, 50)                200       \n",
      "_________________________________________________________________\n",
      "activation_6 (Activation)    (None, 50)                0         \n",
      "_________________________________________________________________\n",
      "dropout (Dropout)            (None, 50)                0         \n",
      "_________________________________________________________________\n",
      "dense_7 (Dense)              (None, 50)                2550      \n",
      "_________________________________________________________________\n",
      "batch_normalization_1 (Batch (None, 50)                200       \n",
      "_________________________________________________________________\n",
      "activation_7 (Activation)    (None, 50)                0         \n",
      "_________________________________________________________________\n",
      "dropout_1 (Dropout)          (None, 50)                0         \n",
      "_________________________________________________________________\n",
      "dense_8 (Dense)              (None, 50)                2550      \n",
      "_________________________________________________________________\n",
      "batch_normalization_2 (Batch (None, 50)                200       \n",
      "_________________________________________________________________\n",
      "activation_8 (Activation)    (None, 50)                0         \n",
      "_________________________________________________________________\n",
      "dropout_2 (Dropout)          (None, 50)                0         \n",
      "_________________________________________________________________\n",
      "dense_9 (Dense)              (None, 50)                2550      \n",
      "_________________________________________________________________\n",
      "batch_normalization_3 (Batch (None, 50)                200       \n",
      "_________________________________________________________________\n",
      "activation_9 (Activation)    (None, 50)                0         \n",
      "_________________________________________________________________\n",
      "dropout_3 (Dropout)          (None, 50)                0         \n",
      "_________________________________________________________________\n",
      "dense_10 (Dense)             (None, 50)                2550      \n",
      "_________________________________________________________________\n",
      "batch_normalization_4 (Batch (None, 50)                200       \n",
      "_________________________________________________________________\n",
      "activation_10 (Activation)   (None, 50)                0         \n",
      "_________________________________________________________________\n",
      "dropout_4 (Dropout)          (None, 50)                0         \n",
      "_________________________________________________________________\n",
      "dense_11 (Dense)             (None, 10)                510       \n",
      "_________________________________________________________________\n",
      "activation_11 (Activation)   (None, 10)                0         \n",
      "=================================================================\n",
      "Total params: 50,960\n",
      "Trainable params: 50,460\n",
      "Non-trainable params: 500\n",
      "_________________________________________________________________\n"
     ]
    }
   ],
   "source": [
    "model2.summary()"
   ]
  },
  {
   "cell_type": "code",
   "execution_count": 29,
   "metadata": {},
   "outputs": [],
   "source": [
    "from tensorflow.keras.callbacks import Callback"
   ]
  },
  {
   "cell_type": "markdown",
   "metadata": {},
   "source": [
    "## Custom callback function"
   ]
  },
  {
   "cell_type": "code",
   "execution_count": 30,
   "metadata": {},
   "outputs": [],
   "source": [
    "class TerminateOnBaseline(Callback):\n",
    "    def __init__(self, monitor='accuracy', baseline=0.9):\n",
    "        super(TerminateOnBaseline, self).__init__()\n",
    "        self.monitor = monitor\n",
    "        self.baseline = baseline\n",
    "\n",
    "    def on_epoch_end(self, epoch, logs=None):\n",
    "        logs = logs or {}\n",
    "        acc = logs.get(self.monitor)\n",
    "        if acc is not None:\n",
    "            if acc >= self.baseline:\n",
    "                print('Epoch %d: Reached baseline, terminating training' % (epoch))\n",
    "                self.model.stop_training = True"
   ]
  },
  {
   "cell_type": "code",
   "execution_count": 31,
   "metadata": {},
   "outputs": [],
   "source": [
    "callback = [TerminateOnBaseline()]"
   ]
  },
  {
   "cell_type": "code",
   "execution_count": 32,
   "metadata": {},
   "outputs": [
    {
     "name": "stdout",
     "output_type": "stream",
     "text": [
      "Epoch 1/5\n",
      "1313/1313 [==============================] - 28s 20ms/step - loss: 1.4000 - accuracy: 0.5077 - val_loss: 0.6586 - val_accuracy: 0.7863\n",
      "Epoch 2/5\n",
      "1313/1313 [==============================] - 25s 19ms/step - loss: 0.8706 - accuracy: 0.7059 - val_loss: 0.5309 - val_accuracy: 0.8157\n",
      "Epoch 3/5\n",
      "1313/1313 [==============================] - 25s 19ms/step - loss: 0.7582 - accuracy: 0.7489 - val_loss: 0.5165 - val_accuracy: 0.8219\n",
      "Epoch 4/5\n",
      "1313/1313 [==============================] - 25s 19ms/step - loss: 0.7028 - accuracy: 0.7709 - val_loss: 0.4686 - val_accuracy: 0.8391\n",
      "Epoch 5/5\n",
      "1313/1313 [==============================] - 23s 17ms/step - loss: 0.6745 - accuracy: 0.7785 - val_loss: 0.4591 - val_accuracy: 0.8433\n"
     ]
    }
   ],
   "source": [
    "train2=model2.fit(X_train,Y_train,validation_split=0.3,epochs=5,callbacks=[callback],verbose=1)"
   ]
  },
  {
   "cell_type": "code",
   "execution_count": 33,
   "metadata": {},
   "outputs": [
    {
     "data": {
      "image/png": "[encoded data removed]",
      "text/plain": [
       "<Figure size 432x288 with 1 Axes>"
      ]
     },
     "metadata": {},
     "output_type": "display_data"
    }
   ],
   "source": [
    "plt.plot(train2.history['accuracy' ])\n",
    "plt.plot(train2.history['val_accuracy'])\n",
    "plt.plot(train2.history['loss'])\n",
    "plt.plot(train2.history['val_loss'])\n",
    "plt.legend(['train acc', 'valid acc', 'train loss', 'valid loss'], loc = 'upper left')\n",
    "plt.show()"
   ]
  },
  {
   "cell_type": "code",
   "execution_count": 34,
   "metadata": {},
   "outputs": [
    {
     "name": "stdout",
     "output_type": "stream",
     "text": [
      "313/313 [==============================] - 2s 5ms/step - loss: 0.4890 - accuracy: 0.8306\n",
      "Test Accuracy is: 83.06000232696533%\n"
     ]
    }
   ],
   "source": [
    "model_out2=model2.evaluate(X_test,Y_test)\n",
    "print(f\"Test Accuracy is: {model_out2[1]*100}%\")"
   ]
  },
  {
   "cell_type": "code",
   "execution_count": 35,
   "metadata": {},
   "outputs": [
    {
     "name": "stdout",
     "output_type": "stream",
     "text": [
      "['loss', 'accuracy']\n",
      "[0.48901939392089844, 0.8306000232696533]\n"
     ]
    }
   ],
   "source": [
    "print(model2.metrics_names) \n",
    "print(model_out2)"
   ]
  },
  {
   "cell_type": "code",
   "execution_count": 36,
   "metadata": {},
   "outputs": [],
   "source": [
    "Y_pred=model2.predict(X_test)"
   ]
  },
  {
   "cell_type": "code",
   "execution_count": 37,
   "metadata": {},
   "outputs": [],
   "source": [
    "Y_pred1=np.argmax(Y_pred,axis=1)"
   ]
  },
  {
   "cell_type": "code",
   "execution_count": 38,
   "metadata": {},
   "outputs": [],
   "source": [
    "Y_test2=np.argmax(Y_test,axis=1)"
   ]
  },
  {
   "cell_type": "code",
   "execution_count": 39,
   "metadata": {},
   "outputs": [
    {
     "name": "stdout",
     "output_type": "stream",
     "text": [
      "[[846   2   6  51   3   1  75   0  16   0]\n",
      " [  1 951   4  35   7   0   0   0   2   0]\n",
      " [ 30   0 702  11 170   2  67   0  18   0]\n",
      " [ 38   9   2 871  35   1  36   1   7   0]\n",
      " [  1   2 111  31 769   2  75   0   9   0]\n",
      " [  1   0   0   0   0 887   1  77   9  25]\n",
      " [241   1 123  39 111   1 459   1  24   0]\n",
      " [  0   0   0   0   0  22   0 962   0  16]\n",
      " [  2   1   1   3   2   6  13   5 967   0]\n",
      " [  0   0   0   0   0  21   0  85   2 892]]\n",
      "              precision    recall  f1-score   support\n",
      "\n",
      "           0       0.73      0.85      0.78      1000\n",
      "           1       0.98      0.95      0.97      1000\n",
      "           2       0.74      0.70      0.72      1000\n",
      "           3       0.84      0.87      0.85      1000\n",
      "           4       0.70      0.77      0.73      1000\n",
      "           5       0.94      0.89      0.91      1000\n",
      "           6       0.63      0.46      0.53      1000\n",
      "           7       0.85      0.96      0.90      1000\n",
      "           8       0.92      0.97      0.94      1000\n",
      "           9       0.96      0.89      0.92      1000\n",
      "\n",
      "    accuracy                           0.83     10000\n",
      "   macro avg       0.83      0.83      0.83     10000\n",
      "weighted avg       0.83      0.83      0.83     10000\n",
      "\n"
     ]
    }
   ],
   "source": [
    "matrix2 = confusion_matrix(Y_test2, Y_pred1)\n",
    "print(matrix2)\n",
    "print(classification_report(Y_test2,Y_pred1))"
   ]
  },
  {
   "cell_type": "code",
   "execution_count": 40,
   "metadata": {},
   "outputs": [
    {
     "data": {
      "image/png": "[encoded data removed]",
      "text/plain": [
       "<Figure size 720x720 with 2 Axes>"
      ]
     },
     "metadata": {},
     "output_type": "display_data"
    }
   ],
   "source": [
    "matrix(matrix2)"
   ]
  },
  {
   "cell_type": "markdown",
   "metadata": {},
   "source": [
    "### The train accuracy is greater than val accuracy so the model is overfitted"
   ]
  },
  {
   "cell_type": "markdown",
   "metadata": {},
   "source": [
    "## Ensemble Learning"
   ]
  },
  {
   "cell_type": "code",
   "execution_count": 41,
   "metadata": {},
   "outputs": [],
   "source": [
    "y_train4=np.argmax(Y_train,axis=1)\n",
    "y_test4=np.argmax(Y_test,axis=1)"
   ]
  },
  {
   "cell_type": "code",
   "execution_count": 42,
   "metadata": {},
   "outputs": [],
   "source": [
    "from tensorflow.keras.wrappers.scikit_learn import KerasClassifier\n",
    "from sklearn.ensemble import VotingClassifier\n",
    "from sklearn.metrics import accuracy_score"
   ]
  },
  {
   "cell_type": "code",
   "execution_count": 43,
   "metadata": {},
   "outputs": [],
   "source": [
    "callback1 = [TerminateOnBaseline()]"
   ]
  },
  {
   "cell_type": "code",
   "execution_count": 44,
   "metadata": {},
   "outputs": [],
   "source": [
    "emodel1=KerasClassifier(build_fn=f1_model,epochs=5,validation_split=0.3,callbacks=[callback1],verbose=1)\n",
    "emodel2=KerasClassifier(build_fn=f1_model,epochs=5,validation_split=0.3,callbacks=[callback1],verbose=1)\n",
    "emodel1._estimator_type=\"classifier\"\n",
    "emodel2._estimator_type=\"classifier\""
   ]
  },
  {
   "cell_type": "code",
   "execution_count": 45,
   "metadata": {},
   "outputs": [],
   "source": [
    "ensemble=VotingClassifier(estimators=[('model1',emodel1),('model2',emodel2)],voting='soft')"
   ]
  },
  {
   "cell_type": "code",
   "execution_count": 46,
   "metadata": {},
   "outputs": [
    {
     "name": "stdout",
     "output_type": "stream",
     "text": [
      "Epoch 1/5\n",
      "1313/1313 [==============================] - 26s 19ms/step - loss: 1.4439 - accuracy: 0.5026 - val_loss: 0.6311 - val_accuracy: 0.7876\n",
      "Epoch 2/5\n",
      "1313/1313 [==============================] - 22s 17ms/step - loss: 0.8569 - accuracy: 0.7128 - val_loss: 0.5375 - val_accuracy: 0.8092\n",
      "Epoch 3/5\n",
      "1313/1313 [==============================] - 22s 17ms/step - loss: 0.7382 - accuracy: 0.7565 - val_loss: 0.5136 - val_accuracy: 0.8198\n",
      "Epoch 4/5\n",
      "1313/1313 [==============================] - 22s 17ms/step - loss: 0.6926 - accuracy: 0.7724 - val_loss: 0.4778 - val_accuracy: 0.8301\n",
      "Epoch 5/5\n",
      "1313/1313 [==============================] - 22s 17ms/step - loss: 0.6604 - accuracy: 0.7840 - val_loss: 0.4574 - val_accuracy: 0.8432\n",
      "Epoch 1/5\n",
      "1313/1313 [==============================] - 24s 17ms/step - loss: 1.4156 - accuracy: 0.5065 - val_loss: 0.6669 - val_accuracy: 0.7850\n",
      "Epoch 2/5\n",
      "1313/1313 [==============================] - 22s 17ms/step - loss: 0.8740 - accuracy: 0.7050 - val_loss: 0.5442 - val_accuracy: 0.8090\n",
      "Epoch 3/5\n",
      "1313/1313 [==============================] - 22s 17ms/step - loss: 0.7657 - accuracy: 0.7456 - val_loss: 0.5084 - val_accuracy: 0.8214\n",
      "Epoch 4/5\n",
      "1313/1313 [==============================] - 24s 18ms/step - loss: 0.7154 - accuracy: 0.7661 - val_loss: 0.5014 - val_accuracy: 0.8283\n",
      "Epoch 5/5\n",
      "1313/1313 [==============================] - 23s 18ms/step - loss: 0.6784 - accuracy: 0.7770 - val_loss: 0.4602 - val_accuracy: 0.8399\n"
     ]
    }
   ],
   "source": [
    "etrain=ensemble.fit(X_train,y_train4)"
   ]
  },
  {
   "cell_type": "code",
   "execution_count": 47,
   "metadata": {},
   "outputs": [
    {
     "name": "stdout",
     "output_type": "stream",
     "text": [
      "313/313 [==============================] - 1s 3ms/step\n",
      "313/313 [==============================] - 1s 3ms/step\n"
     ]
    }
   ],
   "source": [
    "y1_pred = ensemble.predict(X_test)"
   ]
  },
  {
   "cell_type": "code",
   "execution_count": 48,
   "metadata": {},
   "outputs": [],
   "source": [
    "x=accuracy_score(y_test4,y1_pred)"
   ]
  },
  {
   "cell_type": "code",
   "execution_count": 49,
   "metadata": {},
   "outputs": [
    {
     "name": "stdout",
     "output_type": "stream",
     "text": [
      "Test Accuracy is : 83.41  %\n"
     ]
    }
   ],
   "source": [
    "print(\"Test Accuracy is :\", x*100 ,\" %\")"
   ]
  },
  {
   "cell_type": "code",
   "execution_count": 52,
   "metadata": {},
   "outputs": [
    {
     "name": "stdout",
     "output_type": "stream",
     "text": [
      "[[790   5  14  60   3   2 114   0  12   0]\n",
      " [  1 964   5  24   4   0   1   0   1   0]\n",
      " [ 17   4 729  10 162   0  73   1   4   0]\n",
      " [ 27  21   5 856  37   1  49   0   4   0]\n",
      " [  0   2 114  24 793   2  61   0   4   0]\n",
      " [  0   0   0   1   0 884   1  73   5  36]\n",
      " [159   1 141  51 129   1 500   1  17   0]\n",
      " [  0   0   0   0   0  22   0 940   1  37]\n",
      " [  1   2   4   4   6   9  22   5 947   0]\n",
      " [  0   0   0   0   0  14   0  47   1 938]]\n",
      "              precision    recall  f1-score   support\n",
      "\n",
      "           0       0.79      0.79      0.79      1000\n",
      "           1       0.96      0.96      0.96      1000\n",
      "           2       0.72      0.73      0.72      1000\n",
      "           3       0.83      0.86      0.84      1000\n",
      "           4       0.70      0.79      0.74      1000\n",
      "           5       0.95      0.88      0.91      1000\n",
      "           6       0.61      0.50      0.55      1000\n",
      "           7       0.88      0.94      0.91      1000\n",
      "           8       0.95      0.95      0.95      1000\n",
      "           9       0.93      0.94      0.93      1000\n",
      "\n",
      "    accuracy                           0.83     10000\n",
      "   macro avg       0.83      0.83      0.83     10000\n",
      "weighted avg       0.83      0.83      0.83     10000\n",
      "\n"
     ]
    }
   ],
   "source": [
    "matrix5 = confusion_matrix(y_test4, y1_pred)\n",
    "print(matrix1)\n",
    "print(classification_report(y_test4,y1_pred))"
   ]
  },
  {
   "cell_type": "code",
   "execution_count": 53,
   "metadata": {},
   "outputs": [
    {
     "data": {
      "image/png": "[encoded data removed]",
      "text/plain": [
       "<Figure size 720x720 with 2 Axes>"
      ]
     },
     "metadata": {},
     "output_type": "display_data"
    }
   ],
   "source": [
    "matrix(matrix5)"
   ]
  }
 ],
 "metadata": {
  "interpreter": {
   "hash": "89be2f73d9f1a76fb6d1ca84f57c8871cbb8506070a0d438c7d4ef600913a12d"
  },
  "kernelspec": {
   "display_name": "Python 3.9.0 ('tf_2.7')",
   "language": "python",
   "name": "python3"
  },
  "language_info": {
   "codemirror_mode": {
    "name": "ipython",
    "version": 3
   },
   "file_extension": ".py",
   "mimetype": "text/x-python",
   "name": "python",
   "nbconvert_exporter": "python",
   "pygments_lexer": "ipython3",
   "version": "3.9.0"
  },
  "orig_nbformat": 4
 },
 "nbformat": 4,
 "nbformat_minor": 2
}
