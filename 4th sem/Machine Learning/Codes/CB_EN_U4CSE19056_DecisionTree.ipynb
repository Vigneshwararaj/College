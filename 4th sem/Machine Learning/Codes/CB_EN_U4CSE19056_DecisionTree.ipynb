{
  "nbformat": 4,
  "nbformat_minor": 2,
  "metadata": {
    "colab": {
      "name": "CB.EN.U4CSE19126_DecisionTree.ipynb",
      "provenance": []
    },
    "kernelspec": {
      "name": "python3",
      "display_name": "Python 3"
    },
    "language_info": {
      "name": "python"
    }
  },
  "cells": [
    {
      "cell_type": "markdown",
      "source": [
        "Suryanarayan.B\r\n",
        "\r\n",
        "CB.EN.U4CSE19056\r\n",
        "\r\n",
        "DECISION TREE FROM SCRATCH"
      ],
      "metadata": {
        "id": "kO3qMvX7R8UI"
      }
    },
    {
      "cell_type": "code",
      "execution_count": 27,
      "source": [
        "import numpy as np\r\n",
        "import pandas as pd\r\n",
        "eps = np.finfo(float).eps\r\n",
        "from numpy import log2 as log"
      ],
      "outputs": [],
      "metadata": {
        "id": "OJAu9gdYHYdZ"
      }
    },
    {
      "cell_type": "code",
      "execution_count": 28,
      "source": [
        "outlook = 'overcast,overcast,overcast,overcast,rainy,rainy,rainy,rainy,rainy,sunny,sunny,sunny,sunny,sunny'.split(',')\r\n",
        "temp = 'hot,cool,mild,hot,mild,cool,cool,mild,mild,hot,hot,mild,cool,mild'.split(',')\r\n",
        "humidity = 'high,normal,high,normal,high,normal,normal,normal,high,high,high,high,normal,normal'.split(',')\r\n",
        "windy = 'FALSE,TRUE,TRUE,FALSE,FALSE,FALSE,TRUE,FALSE,TRUE,FALSE,TRUE,FALSE,FALSE,TRUE'.split(',')\r\n",
        "play = 'yes,yes,yes,yes,yes,yes,no,yes,no,no,no,no,yes,yes'.split(',')"
      ],
      "outputs": [],
      "metadata": {
        "id": "COYu3CIRH3e8"
      }
    },
    {
      "cell_type": "code",
      "execution_count": 30,
      "source": [
        "dataset ={'outlook':outlook,'temp':temp,'humidity':humidity,'windy':windy,'play':play}\r\n",
        "df = pd.DataFrame(dataset,columns=['outlook','temp','humidity','windy','play'])"
      ],
      "outputs": [],
      "metadata": {
        "id": "cEsX9V1cId4z"
      }
    },
    {
      "cell_type": "code",
      "execution_count": 31,
      "source": [
        "entropy_node = 0  #Initialize Entropy\r\n",
        "values = df.play.unique()  #Unique objects - 'Yes', 'No'\r\n",
        "for value in values:\r\n",
        "    fraction = df.play.value_counts()[value]/len(df.play)  \r\n",
        "    entropy_node += -fraction*np.log2(fraction)"
      ],
      "outputs": [],
      "metadata": {
        "id": "eArV9tRWJTVY"
      }
    },
    {
      "cell_type": "code",
      "execution_count": 32,
      "source": [
        "def ent(df,attribute):\r\n",
        "    target_variables = df.play.unique()  #This gives all 'Yes' and 'No'\r\n",
        "    variables = df[attribute].unique()    #This gives different features in that attribute (like 'Sweet')\r\n",
        "\r\n",
        "\r\n",
        "    entropy_attribute = 0\r\n",
        "    for variable in variables:\r\n",
        "        entropy_each_feature = 0\r\n",
        "        for target_variable in target_variables:\r\n",
        "            num = len(df[attribute][df[attribute]==variable][df.play ==target_variable]) #numerator\r\n",
        "            den = len(df[attribute][df[attribute]==variable])  #denominator\r\n",
        "            fraction = num/(den+eps)  #pi\r\n",
        "            entropy_each_feature += -fraction*log(fraction+eps) #This calculates entropy for one feature like 'Sweet'\r\n",
        "        fraction2 = den/len(df)\r\n",
        "        entropy_attribute += -fraction2*entropy_each_feature   #Sums up all the entropy ETaste\r\n",
        "\r\n",
        "    return(abs(entropy_attribute))"
      ],
      "outputs": [],
      "metadata": {
        "id": "yQ8Ex2B-P7XU"
      }
    },
    {
      "cell_type": "code",
      "execution_count": 33,
      "source": [
        "a_entropy = {k:ent(df,k) for k in df.keys()[:-1]}\r\n",
        "a_entropy"
      ],
      "outputs": [
        {
          "output_type": "execute_result",
          "data": {
            "text/plain": [
              "{'outlook': 0.6935361388961914,\n",
              " 'temp': 0.9110633930116756,\n",
              " 'humidity': 0.7884504573082889,\n",
              " 'windy': 0.892158928262361}"
            ]
          },
          "metadata": {},
          "execution_count": 33
        }
      ],
      "metadata": {
        "colab": {
          "base_uri": "https://localhost:8080/"
        },
        "id": "4FDtZFxCP_Ha",
        "outputId": "6e0f4c4c-bd82-43a4-bdbd-1790e90ff49d"
      }
    },
    {
      "cell_type": "code",
      "execution_count": 34,
      "source": [
        "def ig(e_dataset,e_attr):\r\n",
        "    return(e_dataset-e_attr)"
      ],
      "outputs": [],
      "metadata": {
        "id": "rN1OSgX9QDMB"
      }
    },
    {
      "cell_type": "code",
      "execution_count": 35,
      "source": [
        "#entropy_node = entropy of dataset\r\n",
        "#a_entropy[k] = entropy of k(th) attr\r\n",
        "IG = {k:ig(entropy_node,a_entropy[k]) for k in a_entropy}"
      ],
      "outputs": [],
      "metadata": {
        "id": "v2B9fdN-QF56"
      }
    },
    {
      "cell_type": "code",
      "execution_count": 36,
      "source": [
        "def find_entropy(df):\r\n",
        "    Class = df.keys()[-1]   #To make the code generic, changing target variable class name\r\n",
        "    entropy = 0\r\n",
        "    values = df[Class].unique()\r\n",
        "    for value in values:\r\n",
        "        fraction = df[Class].value_counts()[value]/len(df[Class])\r\n",
        "        entropy += -fraction*np.log2(fraction)\r\n",
        "    return entropy\r\n",
        "  \r\n",
        "  \r\n",
        "def find_entropy_attribute(df,attribute):\r\n",
        "  Class = df.keys()[-1]   #To make the code generic, changing target variable class name\r\n",
        "  target_variables = df[Class].unique()  #This gives all 'Yes' and 'No'\r\n",
        "  variables = df[attribute].unique()    #This gives different features in that attribute (like 'Hot','Cold' in Temperature)\r\n",
        "  entropy2 = 0\r\n",
        "  for variable in variables:\r\n",
        "      entropy = 0\r\n",
        "      for target_variable in target_variables:\r\n",
        "          num = len(df[attribute][df[attribute]==variable][df[Class] ==target_variable])\r\n",
        "          den = len(df[attribute][df[attribute]==variable])\r\n",
        "          fraction = num/(den+eps)\r\n",
        "          entropy += -fraction*log(fraction+eps)\r\n",
        "      fraction2 = den/len(df)\r\n",
        "      entropy2 += -fraction2*entropy\r\n",
        "  return abs(entropy2)\r\n",
        "\r\n",
        "\r\n",
        "def find_winner(df):\r\n",
        "    Entropy_att = []\r\n",
        "    IG = []\r\n",
        "    for key in df.keys()[:-1]:\r\n",
        "#         Entropy_att.append(find_entropy_attribute(df,key))\r\n",
        "        IG.append(find_entropy(df)-find_entropy_attribute(df,key))\r\n",
        "    return df.keys()[:-1][np.argmax(IG)]\r\n",
        "  \r\n",
        "  \r\n",
        "def get_subtable(df, node,value):\r\n",
        "  return df[df[node] == value].reset_index(drop=True)\r\n",
        "\r\n",
        "\r\n",
        "def buildTree(df,tree=None): \r\n",
        "    Class = df.keys()[-1]   #To make the code generic, changing target variable class name\r\n",
        "    \r\n",
        "    #Here we build our decision tree\r\n",
        "\r\n",
        "    #Get attribute with maximum information gain\r\n",
        "    node = find_winner(df)\r\n",
        "    \r\n",
        "    #Get distinct value of that attribute e.g Salary is node and Low,Med and High are values\r\n",
        "    attValue = np.unique(df[node])\r\n",
        "    \r\n",
        "    #Create an empty dictionary to create tree    \r\n",
        "    if tree is None:                    \r\n",
        "        tree={}\r\n",
        "        tree[node] = {}\r\n",
        "    \r\n",
        "   #We make loop to construct a tree by calling this function recursively. \r\n",
        "    #In this we check if the subset is pure and stops if it is pure. \r\n",
        "\r\n",
        "    for value in attValue:\r\n",
        "        \r\n",
        "        subtable = get_subtable(df,node,value)\r\n",
        "        clValue,counts = np.unique(subtable['play'],return_counts=True)                        \r\n",
        "        \r\n",
        "        if len(counts)==1:#Checking purity of subset\r\n",
        "            tree[node][value] = clValue[0]                                                    \r\n",
        "        else:        \r\n",
        "            tree[node][value] = buildTree(subtable) #Calling the function recursively \r\n",
        "                   \r\n",
        "    return tree\r\n",
        "  \r\n",
        "  \r\n"
      ],
      "outputs": [],
      "metadata": {
        "id": "HTy8GP5lO_IV"
      }
    },
    {
      "cell_type": "code",
      "execution_count": 37,
      "source": [
        "t = buildTree(df)"
      ],
      "outputs": [],
      "metadata": {
        "id": "ZdYlzf0CPc30"
      }
    },
    {
      "cell_type": "code",
      "execution_count": 38,
      "source": [
        "import pprint\r\n",
        "pprint.pprint(t)"
      ],
      "outputs": [
        {
          "output_type": "stream",
          "name": "stdout",
          "text": [
            "{'outlook': {'overcast': 'yes',\n",
            "             'rainy': {'windy': {'FALSE': 'yes', 'TRUE': 'no'}},\n",
            "             'sunny': {'humidity': {'high': 'no', 'normal': 'yes'}}}}\n"
          ]
        }
      ],
      "metadata": {
        "colab": {
          "base_uri": "https://localhost:8080/"
        },
        "id": "rOqMqXpuPkOm",
        "outputId": "c7d3d358-3a09-4cc3-d131-e2881967a71c"
      }
    },
    {
      "cell_type": "markdown",
      "source": [
        "DECISION TREE USING SKLEARN"
      ],
      "metadata": {
        "id": "HRYMVs-oSDxp"
      }
    },
    {
      "cell_type": "code",
      "execution_count": 39,
      "source": [
        "import numpy as np\r\n",
        "import pandas as pd"
      ],
      "outputs": [],
      "metadata": {
        "id": "DInNsoDCSIIe"
      }
    },
    {
      "cell_type": "code",
      "execution_count": 40,
      "source": [
        "PlayTennis  = df"
      ],
      "outputs": [],
      "metadata": {
        "id": "DEY6bVP3SQ6f"
      }
    },
    {
      "cell_type": "code",
      "execution_count": 41,
      "source": [
        "PlayTennis"
      ],
      "outputs": [
        {
          "output_type": "execute_result",
          "data": {
            "text/html": [
              "<div>\n",
              "<style scoped>\n",
              "    .dataframe tbody tr th:only-of-type {\n",
              "        vertical-align: middle;\n",
              "    }\n",
              "\n",
              "    .dataframe tbody tr th {\n",
              "        vertical-align: top;\n",
              "    }\n",
              "\n",
              "    .dataframe thead th {\n",
              "        text-align: right;\n",
              "    }\n",
              "</style>\n",
              "<table border=\"1\" class=\"dataframe\">\n",
              "  <thead>\n",
              "    <tr style=\"text-align: right;\">\n",
              "      <th></th>\n",
              "      <th>outlook</th>\n",
              "      <th>temp</th>\n",
              "      <th>humidity</th>\n",
              "      <th>windy</th>\n",
              "      <th>play</th>\n",
              "    </tr>\n",
              "  </thead>\n",
              "  <tbody>\n",
              "    <tr>\n",
              "      <th>0</th>\n",
              "      <td>overcast</td>\n",
              "      <td>hot</td>\n",
              "      <td>high</td>\n",
              "      <td>FALSE</td>\n",
              "      <td>yes</td>\n",
              "    </tr>\n",
              "    <tr>\n",
              "      <th>1</th>\n",
              "      <td>overcast</td>\n",
              "      <td>cool</td>\n",
              "      <td>normal</td>\n",
              "      <td>TRUE</td>\n",
              "      <td>yes</td>\n",
              "    </tr>\n",
              "    <tr>\n",
              "      <th>2</th>\n",
              "      <td>overcast</td>\n",
              "      <td>mild</td>\n",
              "      <td>high</td>\n",
              "      <td>TRUE</td>\n",
              "      <td>yes</td>\n",
              "    </tr>\n",
              "    <tr>\n",
              "      <th>3</th>\n",
              "      <td>overcast</td>\n",
              "      <td>hot</td>\n",
              "      <td>normal</td>\n",
              "      <td>FALSE</td>\n",
              "      <td>yes</td>\n",
              "    </tr>\n",
              "    <tr>\n",
              "      <th>4</th>\n",
              "      <td>rainy</td>\n",
              "      <td>mild</td>\n",
              "      <td>high</td>\n",
              "      <td>FALSE</td>\n",
              "      <td>yes</td>\n",
              "    </tr>\n",
              "    <tr>\n",
              "      <th>5</th>\n",
              "      <td>rainy</td>\n",
              "      <td>cool</td>\n",
              "      <td>normal</td>\n",
              "      <td>FALSE</td>\n",
              "      <td>yes</td>\n",
              "    </tr>\n",
              "    <tr>\n",
              "      <th>6</th>\n",
              "      <td>rainy</td>\n",
              "      <td>cool</td>\n",
              "      <td>normal</td>\n",
              "      <td>TRUE</td>\n",
              "      <td>no</td>\n",
              "    </tr>\n",
              "    <tr>\n",
              "      <th>7</th>\n",
              "      <td>rainy</td>\n",
              "      <td>mild</td>\n",
              "      <td>normal</td>\n",
              "      <td>FALSE</td>\n",
              "      <td>yes</td>\n",
              "    </tr>\n",
              "    <tr>\n",
              "      <th>8</th>\n",
              "      <td>rainy</td>\n",
              "      <td>mild</td>\n",
              "      <td>high</td>\n",
              "      <td>TRUE</td>\n",
              "      <td>no</td>\n",
              "    </tr>\n",
              "    <tr>\n",
              "      <th>9</th>\n",
              "      <td>sunny</td>\n",
              "      <td>hot</td>\n",
              "      <td>high</td>\n",
              "      <td>FALSE</td>\n",
              "      <td>no</td>\n",
              "    </tr>\n",
              "    <tr>\n",
              "      <th>10</th>\n",
              "      <td>sunny</td>\n",
              "      <td>hot</td>\n",
              "      <td>high</td>\n",
              "      <td>TRUE</td>\n",
              "      <td>no</td>\n",
              "    </tr>\n",
              "    <tr>\n",
              "      <th>11</th>\n",
              "      <td>sunny</td>\n",
              "      <td>mild</td>\n",
              "      <td>high</td>\n",
              "      <td>FALSE</td>\n",
              "      <td>no</td>\n",
              "    </tr>\n",
              "    <tr>\n",
              "      <th>12</th>\n",
              "      <td>sunny</td>\n",
              "      <td>cool</td>\n",
              "      <td>normal</td>\n",
              "      <td>FALSE</td>\n",
              "      <td>yes</td>\n",
              "    </tr>\n",
              "    <tr>\n",
              "      <th>13</th>\n",
              "      <td>sunny</td>\n",
              "      <td>mild</td>\n",
              "      <td>normal</td>\n",
              "      <td>TRUE</td>\n",
              "      <td>yes</td>\n",
              "    </tr>\n",
              "  </tbody>\n",
              "</table>\n",
              "</div>"
            ],
            "text/plain": [
              "     outlook  temp humidity  windy play\n",
              "0   overcast   hot     high  FALSE  yes\n",
              "1   overcast  cool   normal   TRUE  yes\n",
              "2   overcast  mild     high   TRUE  yes\n",
              "3   overcast   hot   normal  FALSE  yes\n",
              "4      rainy  mild     high  FALSE  yes\n",
              "5      rainy  cool   normal  FALSE  yes\n",
              "6      rainy  cool   normal   TRUE   no\n",
              "7      rainy  mild   normal  FALSE  yes\n",
              "8      rainy  mild     high   TRUE   no\n",
              "9      sunny   hot     high  FALSE   no\n",
              "10     sunny   hot     high   TRUE   no\n",
              "11     sunny  mild     high  FALSE   no\n",
              "12     sunny  cool   normal  FALSE  yes\n",
              "13     sunny  mild   normal   TRUE  yes"
            ]
          },
          "metadata": {},
          "execution_count": 41
        }
      ],
      "metadata": {
        "colab": {
          "base_uri": "https://localhost:8080/",
          "height": 483
        },
        "id": "VO8Mg2lQSSwn",
        "outputId": "edc890da-93bf-41a6-841a-32be39fc9351"
      }
    },
    {
      "cell_type": "code",
      "execution_count": 42,
      "source": [
        "from sklearn.preprocessing import LabelEncoder\r\n",
        "Le = LabelEncoder()\r\n",
        "\r\n",
        "PlayTennis['outlook'] = Le.fit_transform(PlayTennis['outlook'])\r\n",
        "PlayTennis['temp'] = Le.fit_transform(PlayTennis['temp'])\r\n",
        "PlayTennis['humidity'] = Le.fit_transform(PlayTennis['humidity'])\r\n",
        "PlayTennis['windy'] = Le.fit_transform(PlayTennis['windy'])\r\n",
        "PlayTennis['play'] = Le.fit_transform(PlayTennis['play'])"
      ],
      "outputs": [],
      "metadata": {
        "id": "WEuQ777pSUqx"
      }
    },
    {
      "cell_type": "code",
      "execution_count": 43,
      "source": [
        "PlayTennis"
      ],
      "outputs": [
        {
          "output_type": "execute_result",
          "data": {
            "text/html": [
              "<div>\n",
              "<style scoped>\n",
              "    .dataframe tbody tr th:only-of-type {\n",
              "        vertical-align: middle;\n",
              "    }\n",
              "\n",
              "    .dataframe tbody tr th {\n",
              "        vertical-align: top;\n",
              "    }\n",
              "\n",
              "    .dataframe thead th {\n",
              "        text-align: right;\n",
              "    }\n",
              "</style>\n",
              "<table border=\"1\" class=\"dataframe\">\n",
              "  <thead>\n",
              "    <tr style=\"text-align: right;\">\n",
              "      <th></th>\n",
              "      <th>outlook</th>\n",
              "      <th>temp</th>\n",
              "      <th>humidity</th>\n",
              "      <th>windy</th>\n",
              "      <th>play</th>\n",
              "    </tr>\n",
              "  </thead>\n",
              "  <tbody>\n",
              "    <tr>\n",
              "      <th>0</th>\n",
              "      <td>0</td>\n",
              "      <td>1</td>\n",
              "      <td>0</td>\n",
              "      <td>0</td>\n",
              "      <td>1</td>\n",
              "    </tr>\n",
              "    <tr>\n",
              "      <th>1</th>\n",
              "      <td>0</td>\n",
              "      <td>0</td>\n",
              "      <td>1</td>\n",
              "      <td>1</td>\n",
              "      <td>1</td>\n",
              "    </tr>\n",
              "    <tr>\n",
              "      <th>2</th>\n",
              "      <td>0</td>\n",
              "      <td>2</td>\n",
              "      <td>0</td>\n",
              "      <td>1</td>\n",
              "      <td>1</td>\n",
              "    </tr>\n",
              "    <tr>\n",
              "      <th>3</th>\n",
              "      <td>0</td>\n",
              "      <td>1</td>\n",
              "      <td>1</td>\n",
              "      <td>0</td>\n",
              "      <td>1</td>\n",
              "    </tr>\n",
              "    <tr>\n",
              "      <th>4</th>\n",
              "      <td>1</td>\n",
              "      <td>2</td>\n",
              "      <td>0</td>\n",
              "      <td>0</td>\n",
              "      <td>1</td>\n",
              "    </tr>\n",
              "    <tr>\n",
              "      <th>5</th>\n",
              "      <td>1</td>\n",
              "      <td>0</td>\n",
              "      <td>1</td>\n",
              "      <td>0</td>\n",
              "      <td>1</td>\n",
              "    </tr>\n",
              "    <tr>\n",
              "      <th>6</th>\n",
              "      <td>1</td>\n",
              "      <td>0</td>\n",
              "      <td>1</td>\n",
              "      <td>1</td>\n",
              "      <td>0</td>\n",
              "    </tr>\n",
              "    <tr>\n",
              "      <th>7</th>\n",
              "      <td>1</td>\n",
              "      <td>2</td>\n",
              "      <td>1</td>\n",
              "      <td>0</td>\n",
              "      <td>1</td>\n",
              "    </tr>\n",
              "    <tr>\n",
              "      <th>8</th>\n",
              "      <td>1</td>\n",
              "      <td>2</td>\n",
              "      <td>0</td>\n",
              "      <td>1</td>\n",
              "      <td>0</td>\n",
              "    </tr>\n",
              "    <tr>\n",
              "      <th>9</th>\n",
              "      <td>2</td>\n",
              "      <td>1</td>\n",
              "      <td>0</td>\n",
              "      <td>0</td>\n",
              "      <td>0</td>\n",
              "    </tr>\n",
              "    <tr>\n",
              "      <th>10</th>\n",
              "      <td>2</td>\n",
              "      <td>1</td>\n",
              "      <td>0</td>\n",
              "      <td>1</td>\n",
              "      <td>0</td>\n",
              "    </tr>\n",
              "    <tr>\n",
              "      <th>11</th>\n",
              "      <td>2</td>\n",
              "      <td>2</td>\n",
              "      <td>0</td>\n",
              "      <td>0</td>\n",
              "      <td>0</td>\n",
              "    </tr>\n",
              "    <tr>\n",
              "      <th>12</th>\n",
              "      <td>2</td>\n",
              "      <td>0</td>\n",
              "      <td>1</td>\n",
              "      <td>0</td>\n",
              "      <td>1</td>\n",
              "    </tr>\n",
              "    <tr>\n",
              "      <th>13</th>\n",
              "      <td>2</td>\n",
              "      <td>2</td>\n",
              "      <td>1</td>\n",
              "      <td>1</td>\n",
              "      <td>1</td>\n",
              "    </tr>\n",
              "  </tbody>\n",
              "</table>\n",
              "</div>"
            ],
            "text/plain": [
              "    outlook  temp  humidity  windy  play\n",
              "0         0     1         0      0     1\n",
              "1         0     0         1      1     1\n",
              "2         0     2         0      1     1\n",
              "3         0     1         1      0     1\n",
              "4         1     2         0      0     1\n",
              "5         1     0         1      0     1\n",
              "6         1     0         1      1     0\n",
              "7         1     2         1      0     1\n",
              "8         1     2         0      1     0\n",
              "9         2     1         0      0     0\n",
              "10        2     1         0      1     0\n",
              "11        2     2         0      0     0\n",
              "12        2     0         1      0     1\n",
              "13        2     2         1      1     1"
            ]
          },
          "metadata": {},
          "execution_count": 43
        }
      ],
      "metadata": {
        "colab": {
          "base_uri": "https://localhost:8080/",
          "height": 483
        },
        "id": "xTLxXUamSZ7t",
        "outputId": "4e3d6221-305b-4afa-f513-f7c1438d6f44"
      }
    },
    {
      "cell_type": "code",
      "execution_count": 44,
      "source": [
        "y = PlayTennis['play']\r\n",
        "X = PlayTennis.drop(['play'],axis=1)"
      ],
      "outputs": [],
      "metadata": {
        "id": "2dlpZ_gSScWp"
      }
    },
    {
      "cell_type": "code",
      "execution_count": 45,
      "source": [
        "from sklearn import tree\r\n",
        "clf = tree.DecisionTreeClassifier(criterion = 'entropy')\r\n",
        "clf = clf.fit(X, y)"
      ],
      "outputs": [],
      "metadata": {
        "id": "6OBwKI70Seey"
      }
    },
    {
      "cell_type": "code",
      "execution_count": 46,
      "source": [
        "tree.plot_tree(clf)"
      ],
      "outputs": [
        {
          "output_type": "execute_result",
          "data": {
            "text/plain": [
              "[Text(198.4, 332.64, 'X[0] <= 0.5\\nentropy = 0.94\\nsamples = 14\\nvalue = [5, 9]'),\n",
              " Text(148.8, 258.71999999999997, 'entropy = 0.0\\nsamples = 4\\nvalue = [0, 4]'),\n",
              " Text(248.0, 258.71999999999997, 'X[2] <= 0.5\\nentropy = 1.0\\nsamples = 10\\nvalue = [5, 5]'),\n",
              " Text(148.8, 184.8, 'X[0] <= 1.5\\nentropy = 0.722\\nsamples = 5\\nvalue = [4, 1]'),\n",
              " Text(99.2, 110.88, 'X[3] <= 0.5\\nentropy = 1.0\\nsamples = 2\\nvalue = [1, 1]'),\n",
              " Text(49.6, 36.960000000000036, 'entropy = 0.0\\nsamples = 1\\nvalue = [0, 1]'),\n",
              " Text(148.8, 36.960000000000036, 'entropy = 0.0\\nsamples = 1\\nvalue = [1, 0]'),\n",
              " Text(198.4, 110.88, 'entropy = 0.0\\nsamples = 3\\nvalue = [3, 0]'),\n",
              " Text(347.2, 184.8, 'X[3] <= 0.5\\nentropy = 0.722\\nsamples = 5\\nvalue = [1, 4]'),\n",
              " Text(297.6, 110.88, 'entropy = 0.0\\nsamples = 3\\nvalue = [0, 3]'),\n",
              " Text(396.8, 110.88, 'X[0] <= 1.5\\nentropy = 1.0\\nsamples = 2\\nvalue = [1, 1]'),\n",
              " Text(347.2, 36.960000000000036, 'entropy = 0.0\\nsamples = 1\\nvalue = [1, 0]'),\n",
              " Text(446.40000000000003, 36.960000000000036, 'entropy = 0.0\\nsamples = 1\\nvalue = [0, 1]')]"
            ]
          },
          "metadata": {},
          "execution_count": 46
        }
      ],
      "metadata": {
        "colab": {
          "base_uri": "https://localhost:8080/",
          "height": 489
        },
        "id": "QdQH5z42SgKl",
        "outputId": "ccf365b4-2907-4c41-91c8-74cdcf2b02b4"
      }
    },
    {
      "cell_type": "code",
      "execution_count": 48,
      "source": [
        "import graphviz \r\n",
        "dot_data = tree.export_graphviz(clf, out_file=None) \r\n",
        "graph = graphviz.Source(dot_data) \r\n",
        "graph"
      ],
      "outputs": [
        {
          "output_type": "execute_result",
          "data": {
            "image/svg+xml": "<?xml version=\"1.0\" encoding=\"UTF-8\" standalone=\"no\"?>\n<!DOCTYPE svg PUBLIC \"-//W3C//DTD SVG 1.1//EN\"\n \"http://www.w3.org/Graphics/SVG/1.1/DTD/svg11.dtd\">\n<!-- Generated by graphviz version 2.40.1 (20161225.0304)\n -->\n<!-- Title: Tree Pages: 1 -->\n<svg width=\"498pt\" height=\"477pt\"\n viewBox=\"0.00 0.00 498.00 477.00\" xmlns=\"http://www.w3.org/2000/svg\" xmlns:xlink=\"http://www.w3.org/1999/xlink\">\n<g id=\"graph0\" class=\"graph\" transform=\"scale(1 1) rotate(0) translate(4 473)\">\n<title>Tree</title>\n<polygon fill=\"#ffffff\" stroke=\"transparent\" points=\"-4,4 -4,-473 494,-473 494,4 -4,4\"/>\n<!-- 0 -->\n<g id=\"node1\" class=\"node\">\n<title>0</title>\n<polygon fill=\"none\" stroke=\"#000000\" points=\"211,-469 108,-469 108,-401 211,-401 211,-469\"/>\n<text text-anchor=\"middle\" x=\"159.5\" y=\"-453.8\" font-family=\"Times,serif\" font-size=\"14.00\" fill=\"#000000\">X[0] &lt;= 0.5</text>\n<text text-anchor=\"middle\" x=\"159.5\" y=\"-438.8\" font-family=\"Times,serif\" font-size=\"14.00\" fill=\"#000000\">entropy = 0.94</text>\n<text text-anchor=\"middle\" x=\"159.5\" y=\"-423.8\" font-family=\"Times,serif\" font-size=\"14.00\" fill=\"#000000\">samples = 14</text>\n<text text-anchor=\"middle\" x=\"159.5\" y=\"-408.8\" font-family=\"Times,serif\" font-size=\"14.00\" fill=\"#000000\">value = [5, 9]</text>\n</g>\n<!-- 1 -->\n<g id=\"node2\" class=\"node\">\n<title>1</title>\n<polygon fill=\"none\" stroke=\"#000000\" points=\"151,-357.5 56,-357.5 56,-304.5 151,-304.5 151,-357.5\"/>\n<text text-anchor=\"middle\" x=\"103.5\" y=\"-342.3\" font-family=\"Times,serif\" font-size=\"14.00\" fill=\"#000000\">entropy = 0.0</text>\n<text text-anchor=\"middle\" x=\"103.5\" y=\"-327.3\" font-family=\"Times,serif\" font-size=\"14.00\" fill=\"#000000\">samples = 4</text>\n<text text-anchor=\"middle\" x=\"103.5\" y=\"-312.3\" font-family=\"Times,serif\" font-size=\"14.00\" fill=\"#000000\">value = [0, 4]</text>\n</g>\n<!-- 0&#45;&gt;1 -->\n<g id=\"edge1\" class=\"edge\">\n<title>0&#45;&gt;1</title>\n<path fill=\"none\" stroke=\"#000000\" d=\"M141.1635,-400.9465C135.2324,-389.9316 128.6419,-377.6922 122.6532,-366.5703\"/>\n<polygon fill=\"#000000\" stroke=\"#000000\" points=\"125.6146,-364.6875 117.7919,-357.5422 119.4513,-368.0063 125.6146,-364.6875\"/>\n<text text-anchor=\"middle\" x=\"110.6082\" y=\"-377.7878\" font-family=\"Times,serif\" font-size=\"14.00\" fill=\"#000000\">True</text>\n</g>\n<!-- 2 -->\n<g id=\"node3\" class=\"node\">\n<title>2</title>\n<polygon fill=\"none\" stroke=\"#000000\" points=\"264,-365 169,-365 169,-297 264,-297 264,-365\"/>\n<text text-anchor=\"middle\" x=\"216.5\" y=\"-349.8\" font-family=\"Times,serif\" font-size=\"14.00\" fill=\"#000000\">X[2] &lt;= 0.5</text>\n<text text-anchor=\"middle\" x=\"216.5\" y=\"-334.8\" font-family=\"Times,serif\" font-size=\"14.00\" fill=\"#000000\">entropy = 1.0</text>\n<text text-anchor=\"middle\" x=\"216.5\" y=\"-319.8\" font-family=\"Times,serif\" font-size=\"14.00\" fill=\"#000000\">samples = 10</text>\n<text text-anchor=\"middle\" x=\"216.5\" y=\"-304.8\" font-family=\"Times,serif\" font-size=\"14.00\" fill=\"#000000\">value = [5, 5]</text>\n</g>\n<!-- 0&#45;&gt;2 -->\n<g id=\"edge2\" class=\"edge\">\n<title>0&#45;&gt;2</title>\n<path fill=\"none\" stroke=\"#000000\" d=\"M178.1639,-400.9465C182.888,-392.3271 188.0231,-382.9579 192.954,-373.9611\"/>\n<polygon fill=\"#000000\" stroke=\"#000000\" points=\"196.0571,-375.5815 197.7941,-365.13 189.9186,-372.2171 196.0571,-375.5815\"/>\n<text text-anchor=\"middle\" x=\"204.7999\" y=\"-385.4283\" font-family=\"Times,serif\" font-size=\"14.00\" fill=\"#000000\">False</text>\n</g>\n<!-- 3 -->\n<g id=\"node4\" class=\"node\">\n<title>3</title>\n<polygon fill=\"none\" stroke=\"#000000\" points=\"207.5,-261 97.5,-261 97.5,-193 207.5,-193 207.5,-261\"/>\n<text text-anchor=\"middle\" x=\"152.5\" y=\"-245.8\" font-family=\"Times,serif\" font-size=\"14.00\" fill=\"#000000\">X[0] &lt;= 1.5</text>\n<text text-anchor=\"middle\" x=\"152.5\" y=\"-230.8\" font-family=\"Times,serif\" font-size=\"14.00\" fill=\"#000000\">entropy = 0.722</text>\n<text text-anchor=\"middle\" x=\"152.5\" y=\"-215.8\" font-family=\"Times,serif\" font-size=\"14.00\" fill=\"#000000\">samples = 5</text>\n<text text-anchor=\"middle\" x=\"152.5\" y=\"-200.8\" font-family=\"Times,serif\" font-size=\"14.00\" fill=\"#000000\">value = [4, 1]</text>\n</g>\n<!-- 2&#45;&gt;3 -->\n<g id=\"edge3\" class=\"edge\">\n<title>2&#45;&gt;3</title>\n<path fill=\"none\" stroke=\"#000000\" d=\"M195.544,-296.9465C190.1845,-288.2373 184.3539,-278.7626 178.7647,-269.6801\"/>\n<polygon fill=\"#000000\" stroke=\"#000000\" points=\"181.7249,-267.8122 173.5031,-261.13 175.7633,-271.481 181.7249,-267.8122\"/>\n</g>\n<!-- 8 -->\n<g id=\"node9\" class=\"node\">\n<title>8</title>\n<polygon fill=\"none\" stroke=\"#000000\" points=\"335.5,-261 225.5,-261 225.5,-193 335.5,-193 335.5,-261\"/>\n<text text-anchor=\"middle\" x=\"280.5\" y=\"-245.8\" font-family=\"Times,serif\" font-size=\"14.00\" fill=\"#000000\">X[3] &lt;= 0.5</text>\n<text text-anchor=\"middle\" x=\"280.5\" y=\"-230.8\" font-family=\"Times,serif\" font-size=\"14.00\" fill=\"#000000\">entropy = 0.722</text>\n<text text-anchor=\"middle\" x=\"280.5\" y=\"-215.8\" font-family=\"Times,serif\" font-size=\"14.00\" fill=\"#000000\">samples = 5</text>\n<text text-anchor=\"middle\" x=\"280.5\" y=\"-200.8\" font-family=\"Times,serif\" font-size=\"14.00\" fill=\"#000000\">value = [1, 4]</text>\n</g>\n<!-- 2&#45;&gt;8 -->\n<g id=\"edge8\" class=\"edge\">\n<title>2&#45;&gt;8</title>\n<path fill=\"none\" stroke=\"#000000\" d=\"M237.456,-296.9465C242.8155,-288.2373 248.6461,-278.7626 254.2353,-269.6801\"/>\n<polygon fill=\"#000000\" stroke=\"#000000\" points=\"257.2367,-271.481 259.4969,-261.13 251.2751,-267.8122 257.2367,-271.481\"/>\n</g>\n<!-- 4 -->\n<g id=\"node5\" class=\"node\">\n<title>4</title>\n<polygon fill=\"none\" stroke=\"#000000\" points=\"95,-157 0,-157 0,-89 95,-89 95,-157\"/>\n<text text-anchor=\"middle\" x=\"47.5\" y=\"-141.8\" font-family=\"Times,serif\" font-size=\"14.00\" fill=\"#000000\">X[3] &lt;= 0.5</text>\n<text text-anchor=\"middle\" x=\"47.5\" y=\"-126.8\" font-family=\"Times,serif\" font-size=\"14.00\" fill=\"#000000\">entropy = 1.0</text>\n<text text-anchor=\"middle\" x=\"47.5\" y=\"-111.8\" font-family=\"Times,serif\" font-size=\"14.00\" fill=\"#000000\">samples = 2</text>\n<text text-anchor=\"middle\" x=\"47.5\" y=\"-96.8\" font-family=\"Times,serif\" font-size=\"14.00\" fill=\"#000000\">value = [1, 1]</text>\n</g>\n<!-- 3&#45;&gt;4 -->\n<g id=\"edge4\" class=\"edge\">\n<title>3&#45;&gt;4</title>\n<path fill=\"none\" stroke=\"#000000\" d=\"M118.1191,-192.9465C108.8729,-183.7884 98.7721,-173.7838 89.1757,-164.2788\"/>\n<polygon fill=\"#000000\" stroke=\"#000000\" points=\"91.526,-161.6805 81.9582,-157.13 86.6,-166.6539 91.526,-161.6805\"/>\n</g>\n<!-- 7 -->\n<g id=\"node8\" class=\"node\">\n<title>7</title>\n<polygon fill=\"none\" stroke=\"#000000\" points=\"208,-149.5 113,-149.5 113,-96.5 208,-96.5 208,-149.5\"/>\n<text text-anchor=\"middle\" x=\"160.5\" y=\"-134.3\" font-family=\"Times,serif\" font-size=\"14.00\" fill=\"#000000\">entropy = 0.0</text>\n<text text-anchor=\"middle\" x=\"160.5\" y=\"-119.3\" font-family=\"Times,serif\" font-size=\"14.00\" fill=\"#000000\">samples = 3</text>\n<text text-anchor=\"middle\" x=\"160.5\" y=\"-104.3\" font-family=\"Times,serif\" font-size=\"14.00\" fill=\"#000000\">value = [3, 0]</text>\n</g>\n<!-- 3&#45;&gt;7 -->\n<g id=\"edge7\" class=\"edge\">\n<title>3&#45;&gt;7</title>\n<path fill=\"none\" stroke=\"#000000\" d=\"M155.1195,-192.9465C155.9414,-182.2621 156.8519,-170.4254 157.6866,-159.5742\"/>\n<polygon fill=\"#000000\" stroke=\"#000000\" points=\"161.1809,-159.7812 158.4583,-149.5422 154.2015,-159.2442 161.1809,-159.7812\"/>\n</g>\n<!-- 5 -->\n<g id=\"node6\" class=\"node\">\n<title>5</title>\n<polygon fill=\"none\" stroke=\"#000000\" points=\"95,-53 0,-53 0,0 95,0 95,-53\"/>\n<text text-anchor=\"middle\" x=\"47.5\" y=\"-37.8\" font-family=\"Times,serif\" font-size=\"14.00\" fill=\"#000000\">entropy = 0.0</text>\n<text text-anchor=\"middle\" x=\"47.5\" y=\"-22.8\" font-family=\"Times,serif\" font-size=\"14.00\" fill=\"#000000\">samples = 1</text>\n<text text-anchor=\"middle\" x=\"47.5\" y=\"-7.8\" font-family=\"Times,serif\" font-size=\"14.00\" fill=\"#000000\">value = [0, 1]</text>\n</g>\n<!-- 4&#45;&gt;5 -->\n<g id=\"edge5\" class=\"edge\">\n<title>4&#45;&gt;5</title>\n<path fill=\"none\" stroke=\"#000000\" d=\"M47.5,-88.9777C47.5,-80.7364 47.5,-71.887 47.5,-63.5153\"/>\n<polygon fill=\"#000000\" stroke=\"#000000\" points=\"51.0001,-63.2484 47.5,-53.2485 44.0001,-63.2485 51.0001,-63.2484\"/>\n</g>\n<!-- 6 -->\n<g id=\"node7\" class=\"node\">\n<title>6</title>\n<polygon fill=\"none\" stroke=\"#000000\" points=\"208,-53 113,-53 113,0 208,0 208,-53\"/>\n<text text-anchor=\"middle\" x=\"160.5\" y=\"-37.8\" font-family=\"Times,serif\" font-size=\"14.00\" fill=\"#000000\">entropy = 0.0</text>\n<text text-anchor=\"middle\" x=\"160.5\" y=\"-22.8\" font-family=\"Times,serif\" font-size=\"14.00\" fill=\"#000000\">samples = 1</text>\n<text text-anchor=\"middle\" x=\"160.5\" y=\"-7.8\" font-family=\"Times,serif\" font-size=\"14.00\" fill=\"#000000\">value = [1, 0]</text>\n</g>\n<!-- 4&#45;&gt;6 -->\n<g id=\"edge6\" class=\"edge\">\n<title>4&#45;&gt;6</title>\n<path fill=\"none\" stroke=\"#000000\" d=\"M87.3396,-88.9777C98.3839,-79.546 110.361,-69.3178 121.3648,-59.9208\"/>\n<polygon fill=\"#000000\" stroke=\"#000000\" points=\"123.8464,-62.4041 129.1779,-53.2485 119.3006,-57.081 123.8464,-62.4041\"/>\n</g>\n<!-- 9 -->\n<g id=\"node10\" class=\"node\">\n<title>9</title>\n<polygon fill=\"none\" stroke=\"#000000\" points=\"321,-149.5 226,-149.5 226,-96.5 321,-96.5 321,-149.5\"/>\n<text text-anchor=\"middle\" x=\"273.5\" y=\"-134.3\" font-family=\"Times,serif\" font-size=\"14.00\" fill=\"#000000\">entropy = 0.0</text>\n<text text-anchor=\"middle\" x=\"273.5\" y=\"-119.3\" font-family=\"Times,serif\" font-size=\"14.00\" fill=\"#000000\">samples = 3</text>\n<text text-anchor=\"middle\" x=\"273.5\" y=\"-104.3\" font-family=\"Times,serif\" font-size=\"14.00\" fill=\"#000000\">value = [0, 3]</text>\n</g>\n<!-- 8&#45;&gt;9 -->\n<g id=\"edge9\" class=\"edge\">\n<title>8&#45;&gt;9</title>\n<path fill=\"none\" stroke=\"#000000\" d=\"M278.2079,-192.9465C277.4888,-182.2621 276.6921,-170.4254 275.9617,-159.5742\"/>\n<polygon fill=\"#000000\" stroke=\"#000000\" points=\"279.4502,-159.2845 275.2865,-149.5422 272.466,-159.7547 279.4502,-159.2845\"/>\n</g>\n<!-- 10 -->\n<g id=\"node11\" class=\"node\">\n<title>10</title>\n<polygon fill=\"none\" stroke=\"#000000\" points=\"434,-157 339,-157 339,-89 434,-89 434,-157\"/>\n<text text-anchor=\"middle\" x=\"386.5\" y=\"-141.8\" font-family=\"Times,serif\" font-size=\"14.00\" fill=\"#000000\">X[1] &lt;= 1.0</text>\n<text text-anchor=\"middle\" x=\"386.5\" y=\"-126.8\" font-family=\"Times,serif\" font-size=\"14.00\" fill=\"#000000\">entropy = 1.0</text>\n<text text-anchor=\"middle\" x=\"386.5\" y=\"-111.8\" font-family=\"Times,serif\" font-size=\"14.00\" fill=\"#000000\">samples = 2</text>\n<text text-anchor=\"middle\" x=\"386.5\" y=\"-96.8\" font-family=\"Times,serif\" font-size=\"14.00\" fill=\"#000000\">value = [1, 1]</text>\n</g>\n<!-- 8&#45;&gt;10 -->\n<g id=\"edge10\" class=\"edge\">\n<title>8&#45;&gt;10</title>\n<path fill=\"none\" stroke=\"#000000\" d=\"M315.2084,-192.9465C324.5426,-183.7884 334.7396,-173.7838 344.4273,-164.2788\"/>\n<polygon fill=\"#000000\" stroke=\"#000000\" points=\"347.0267,-166.6318 351.7137,-157.13 342.1243,-161.6351 347.0267,-166.6318\"/>\n</g>\n<!-- 11 -->\n<g id=\"node12\" class=\"node\">\n<title>11</title>\n<polygon fill=\"none\" stroke=\"#000000\" points=\"377,-53 282,-53 282,0 377,0 377,-53\"/>\n<text text-anchor=\"middle\" x=\"329.5\" y=\"-37.8\" font-family=\"Times,serif\" font-size=\"14.00\" fill=\"#000000\">entropy = 0.0</text>\n<text text-anchor=\"middle\" x=\"329.5\" y=\"-22.8\" font-family=\"Times,serif\" font-size=\"14.00\" fill=\"#000000\">samples = 1</text>\n<text text-anchor=\"middle\" x=\"329.5\" y=\"-7.8\" font-family=\"Times,serif\" font-size=\"14.00\" fill=\"#000000\">value = [1, 0]</text>\n</g>\n<!-- 10&#45;&gt;11 -->\n<g id=\"edge11\" class=\"edge\">\n<title>10&#45;&gt;11</title>\n<path fill=\"none\" stroke=\"#000000\" d=\"M366.4039,-88.9777C361.2656,-80.2786 355.727,-70.9018 350.5425,-62.1247\"/>\n<polygon fill=\"#000000\" stroke=\"#000000\" points=\"353.399,-60.0786 345.2996,-53.2485 347.3719,-63.6387 353.399,-60.0786\"/>\n</g>\n<!-- 12 -->\n<g id=\"node13\" class=\"node\">\n<title>12</title>\n<polygon fill=\"none\" stroke=\"#000000\" points=\"490,-53 395,-53 395,0 490,0 490,-53\"/>\n<text text-anchor=\"middle\" x=\"442.5\" y=\"-37.8\" font-family=\"Times,serif\" font-size=\"14.00\" fill=\"#000000\">entropy = 0.0</text>\n<text text-anchor=\"middle\" x=\"442.5\" y=\"-22.8\" font-family=\"Times,serif\" font-size=\"14.00\" fill=\"#000000\">samples = 1</text>\n<text text-anchor=\"middle\" x=\"442.5\" y=\"-7.8\" font-family=\"Times,serif\" font-size=\"14.00\" fill=\"#000000\">value = [0, 1]</text>\n</g>\n<!-- 10&#45;&gt;12 -->\n<g id=\"edge12\" class=\"edge\">\n<title>10&#45;&gt;12</title>\n<path fill=\"none\" stroke=\"#000000\" d=\"M406.2435,-88.9777C411.2917,-80.2786 416.7331,-70.9018 421.8266,-62.1247\"/>\n<polygon fill=\"#000000\" stroke=\"#000000\" points=\"424.9855,-63.6544 426.9776,-53.2485 418.9311,-60.1409 424.9855,-63.6544\"/>\n</g>\n</g>\n</svg>\n",
            "text/plain": [
              "<graphviz.files.Source at 0x7f54c4cb5890>"
            ]
          },
          "metadata": {},
          "execution_count": 48
        }
      ],
      "metadata": {
        "colab": {
          "base_uri": "https://localhost:8080/",
          "height": 657
        },
        "id": "tBfYQgqTSiiG",
        "outputId": "384ef56d-c6e0-40f0-afd3-1a910ac17890"
      }
    },
    {
      "cell_type": "code",
      "execution_count": 47,
      "source": [
        "X_pred = clf.predict(X)"
      ],
      "outputs": [],
      "metadata": {
        "id": "seq8POgqSlRA"
      }
    },
    {
      "cell_type": "code",
      "execution_count": 48,
      "source": [
        "X_pred == y"
      ],
      "outputs": [
        {
          "output_type": "execute_result",
          "data": {
            "text/plain": [
              "0     True\n",
              "1     True\n",
              "2     True\n",
              "3     True\n",
              "4     True\n",
              "5     True\n",
              "6     True\n",
              "7     True\n",
              "8     True\n",
              "9     True\n",
              "10    True\n",
              "11    True\n",
              "12    True\n",
              "13    True\n",
              "Name: play, dtype: bool"
            ]
          },
          "metadata": {},
          "execution_count": 48
        }
      ],
      "metadata": {
        "colab": {
          "base_uri": "https://localhost:8080/"
        },
        "id": "vVDVMI_ESoN6",
        "outputId": "a8278661-39f5-4897-e3e1-e41b78657505"
      }
    },
    {
      "cell_type": "code",
      "execution_count": null,
      "source": [],
      "outputs": [],
      "metadata": {
        "id": "zR88kj3USqHw"
      }
    }
  ]
}