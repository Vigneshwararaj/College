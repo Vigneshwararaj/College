{
 "cells": [
  {
   "cell_type": "markdown",
   "metadata": {},
   "source": [
    "## Import *all* necessary libraries here"
   ]
  },
  {
   "cell_type": "code",
   "execution_count": null,
   "metadata": {},
   "outputs": [],
   "source": [
    "import numpy as np"
   ]
  },
  {
   "cell_type": "markdown",
   "metadata": {},
   "source": [
    "## Question 1 : Warming and Ice Melt \n",
    "The average depth of the Hudson Bay is 305 feet. Climatologists were interested in seeing if warming and ice melt were affecting the water level. Fifty-five measurements over a period of randomly selected weeks yielded a\n",
    "sample mean of 306.2 feet. The population variance is known to be 3.6. Can it be concluded at the 0.05 level of significance that the average depth has increased? Is there evidence of what caused this to happen?\n"
   ]
  },
  {
   "cell_type": "code",
   "execution_count": null,
   "metadata": {},
   "outputs": [],
   "source": [
    "def q1():\n",
    "    #List your hypothesis in the comment below\n",
    "    # H0 = ; Ha \n",
    "    \n",
    "    #Initial variable here\n",
    "    n = \n",
    "    xbar = \n",
    "    mu = \n",
    "    sigma = \n",
    "    alpha = \n",
    "    \n",
    "    #Fill in your code here\n",
    "    z = \n",
    "    z_critical = \n",
    "    \n",
    "    if(): #Add your condition check\n",
    "        rejection = False \n",
    "    else:\n",
    "        rejection = True\n",
    "        \n",
    "    return rejection, z, z_critical"
   ]
  },
  {
   "cell_type": "markdown",
   "metadata": {},
   "source": [
    "## Question 2 : Stopping Distances \n",
    "A study found that the average stopping distance of a school bus traveling 50 miles per hour was 264 feet. A group of automotive engineers decided to conduct a study of its school buses and found that for 20 randomly selected buses, the average stopping distance of buses traveling 50 miles per hour was 262.3 feet. The standard deviation of the population was 3 feet. Test the claim that the average stopping distance of the company’s buses is actually\n",
    "less than 264 feet. Find the P-value. On the basis of the P-value, should the null hypothesis be rejected\n",
    "at α = 0.01? Assume that the variable is normally distributed.\n"
   ]
  },
  {
   "cell_type": "code",
   "execution_count": null,
   "metadata": {},
   "outputs": [],
   "source": [
    "def q2():\n",
    "    #List your hypothesis in the comment below\n",
    "    # H0 = ; Ha\n",
    "    \n",
    "    #Initial variable here\n",
    "    n = \n",
    "    xbar = \n",
    "    mu = \n",
    "    sigma = \n",
    "    alpha = \n",
    "    \n",
    "    #Fill in your code here\n",
    "    z = \n",
    "    p = \n",
    "    \n",
    "    if(): #Add your condition check\n",
    "        rejection = False \n",
    "    else:\n",
    "        rejection = True\n",
    "        \n",
    "    return rejection, z, p"
   ]
  },
  {
   "cell_type": "markdown",
   "metadata": {},
   "source": [
    "## Question 3 : Television Viewing by Teens\n",
    "Teens are reported to watch the fewest total hours of television per week of all the demographic groups. The average television viewing for teens on Sunday from 1:00 to 7:00 p.m. is 58 minutes. A random sample of local teens disclosed the following times (given as the list viz 'data') for Sunday afternoon television viewing. At α = 0.01, can it be concluded that the average is greater than the national viewing time? (Note: Change all times to minutes.)"
   ]
  },
  {
   "cell_type": "code",
   "execution_count": 1,
   "metadata": {},
   "outputs": [],
   "source": [
    "data = [\"2:30\", \"1:00\", \"1:30\", \"2:00\", \"2:15\", \"2:30\", \"1:30\", \"1:50\", \"3:20\", \"2:10\"]"
   ]
  },
  {
   "cell_type": "code",
   "execution_count": null,
   "metadata": {},
   "outputs": [],
   "source": [
    "def q3():\n",
    "    #List your hypothesis in the comment below\n",
    "    # H0 = ; Ha\n",
    "    \n",
    "    #Initial variables here\n",
    "    n = \n",
    "    xbar = \n",
    "    mu = \n",
    "    sigma = \n",
    "    alpha = \n",
    "    \n",
    "    #Fill in your code here\n",
    "    t = \n",
    "    t_critical = \n",
    "    \n",
    "    if(): #Add your condition check\n",
    "        rejection = False \n",
    "    else:\n",
    "        rejection = True\n",
    "        \n",
    "    return rejection, t, t_critical"
   ]
  },
  {
   "cell_type": "markdown",
   "metadata": {},
   "source": [
    "## Question 4 : Doctor Visits \n",
    "A report by the Gallup Poll stated that on average a woman visits her physician 5.8 times a year. A researcher randomly selects 20 women and obtained these data (list viz 'data' given below). At α = 0.05, can it be concluded that the average is still 5.8 visits per year? Use the P-value method."
   ]
  },
  {
   "cell_type": "code",
   "execution_count": null,
   "metadata": {},
   "outputs": [],
   "source": [
    "data = [3, 8, 2, 0, 1, 5, 3, 6, 7, 4, 2, 2, 4, 3, 6, 4, 6, 1]"
   ]
  },
  {
   "cell_type": "code",
   "execution_count": null,
   "metadata": {},
   "outputs": [],
   "source": [
    "def q4():\n",
    "    #List your hypothesis in the comment below\n",
    "    # H0 = ; Ha\n",
    "    \n",
    "    #Initial variables here\n",
    "    n = \n",
    "    xbar = \n",
    "    mu = \n",
    "    sigma = \n",
    "    alpha = \n",
    "    \n",
    "    #Fill in your code here\n",
    "    t = \n",
    "    p = \n",
    "    \n",
    "    if(): #Add your condition check\n",
    "        rejection = False \n",
    "    else:\n",
    "        rejection = True\n",
    "        \n",
    "    return rejection, t, p"
   ]
  },
  {
   "cell_type": "markdown",
   "metadata": {},
   "source": [
    "## Question 5 : Age of Psychologists \n",
    "Test the claim that the standard deviation of the ages of psychologists in Pennsylvania is 8.6 at α = 0.05. A random sample of 12 psychologists had a standard deviation of 9.3."
   ]
  },
  {
   "cell_type": "code",
   "execution_count": null,
   "metadata": {},
   "outputs": [],
   "source": [
    "def q5():\n",
    "    #List your hypothesis in the comment below\n",
    "    # H0 = ; Ha\n",
    "    \n",
    "    #Initial variables here\n",
    "    n = \n",
    "    degrees_of_freedom = \n",
    "    s = \n",
    "    sigma = \n",
    "    alpha = \n",
    "    \n",
    "    #Fill in your code here\n",
    "    chi_square = \n",
    "    chi_square_critical = \n",
    "    \n",
    "    if(): #Add your condition check\n",
    "        rejection = False \n",
    "    else:\n",
    "        rejection = True\n",
    "        \n",
    "    return rejection, chi_square, chi_square_critical"
   ]
  },
  {
   "cell_type": "markdown",
   "metadata": {},
   "source": [
    "## Question 6 : Transferring Phone Calls\n",
    "The manager of a large company claims that the standard deviation of the time (in minutes) that it takes a telephone call to be transferred to the correct office in her company is 1.2 minutes or less. A random sample of 15 calls is selected, and the calls are timed. The standard deviation of the sample is 1.8 minutes. At α = 0.01, test the claim that the standard deviation is less than or equal to 1.2 minutes. Use the P-value method.\n"
   ]
  },
  {
   "cell_type": "code",
   "execution_count": null,
   "metadata": {},
   "outputs": [],
   "source": [
    "def q6():\n",
    "    #List your hypothesis in the comment below\n",
    "    # H0 = ; Ha\n",
    "    \n",
    "    #Initial variables here\n",
    "    n = \n",
    "    degrees_of_freedom = \n",
    "    s = \n",
    "    sigma = \n",
    "    alpha = \n",
    "    \n",
    "    #Fill in your code here\n",
    "    chi_square = \n",
    "    p = \n",
    "    \n",
    "    if(): #Add your condition check\n",
    "        rejection = False \n",
    "    else:\n",
    "        rejection = True\n",
    "        \n",
    "    return rejection, chi_square, p"
   ]
  }
 ],
 "metadata": {
  "kernelspec": {
   "display_name": "Python 3",
   "language": "python",
   "name": "python3"
  },
  "language_info": {
   "codemirror_mode": {
    "name": "ipython",
    "version": 3
   },
   "file_extension": ".py",
   "mimetype": "text/x-python",
   "name": "python",
   "nbconvert_exporter": "python",
   "pygments_lexer": "ipython3",
   "version": "3.6.9"
  }
 },
 "nbformat": 4,
 "nbformat_minor": 4
}
